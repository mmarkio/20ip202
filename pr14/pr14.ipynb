{
 "cells": [
  {
   "cell_type": "code",
   "execution_count": 1,
   "id": "d34636bd",
   "metadata": {},
   "outputs": [
    {
     "name": "stdout",
     "output_type": "stream",
     "text": [
      "                    1                   \n",
      "                  1   1                 \n",
      "                1   2   1               \n",
      "              1   3   3   1             \n",
      "            1   4   6   4   1           \n",
      "          1   5  10  10   5   1         \n",
      "        1   6  15  20  15   6   1       \n",
      "      1   7  21  35  35  21   7   1     \n",
      "    1   8  28  56  70  56  28   8   1   \n"
     ]
    }
   ],
   "source": [
    "#Задание №1\n",
    "\n",
    "import numpy as np\n",
    "from scipy.special import binom\n",
    "\n",
    "nmax = 8\n",
    "for n in range(nmax+1):\n",
    "    fmt = ' {:^3d}'*(n+1)\n",
    "    pascal_row = fmt.format(*np.array(binom(n, np.arange(n+1)), dtype='i4'))\n",
    "    print('{:^40s}'.format(pascal_row))"
   ]
  },
  {
   "cell_type": "code",
   "execution_count": 4,
   "id": "062a91f1",
   "metadata": {},
   "outputs": [
    {
     "data": {
      "image/png": "[encoded data removed]",
      "text/plain": [
       "<Figure size 432x288 with 1 Axes>"
      ]
     },
     "metadata": {
      "needs_background": "light"
     },
     "output_type": "display_data"
    },
    {
     "name": "stdout",
     "output_type": "stream",
     "text": [
      "Максимально разрешающая способность для диаметра 'зрачка' 3.0 mm при 500 nm равна 41.9 arcsec\n"
     ]
    }
   ],
   "source": [
    "#Задание №2\n",
    "\n",
    "import numpy as np\n",
    "import matplotlib.pyplot as plt\n",
    "from scipy.special import jn, jn_zeros\n",
    "\n",
    "fig = plt.figure()\n",
    "ax = fig.add_subplot(111)\n",
    "\n",
    "x = np.linspace(-10, 10, 100)\n",
    "\n",
    "jinc = lambda x: jn(1, x) / x\n",
    "airy = (2 * jinc(x))**2\n",
    "ax.plot(x,airy)\n",
    "ax.set_xlabel('$x$')\n",
    "ax.set_ylabel('$I(x)/I_0$')\n",
    "plt.show()\n",
    "\n",
    "a, lam = 1.5, 500\n",
    "\n",
    "k = 2 * np.pi / (lam / 1.e6)\n",
    "\n",
    "x1 = jn_zeros(1, 1)[0]\n",
    "theta1 = np.arcsin(x1 / k / a)\n",
    "\n",
    "theta1 = np.degrees(theta1) * 60 * 60\n",
    "\n",
    "print(\"Максимально разрешающая способность для диаметра 'зрачка' {} mm при {} nm равна {:.1f}\"\n",
    "      ' arcsec'.format(2*a, lam, theta1))"
   ]
  },
  {
   "cell_type": "code",
   "execution_count": null,
   "id": "0f6423b7",
   "metadata": {},
   "outputs": [],
   "source": []
  }
 ],
 "metadata": {
  "kernelspec": {
   "display_name": "Python 3",
   "language": "python",
   "name": "python3"
  },
  "language_info": {
   "codemirror_mode": {
    "name": "ipython",
    "version": 3
   },
   "file_extension": ".py",
   "mimetype": "text/x-python",
   "name": "python",
   "nbconvert_exporter": "python",
   "pygments_lexer": "ipython3",
   "version": "3.8.8"
  }
 },
 "nbformat": 4,
 "nbformat_minor": 5
}
