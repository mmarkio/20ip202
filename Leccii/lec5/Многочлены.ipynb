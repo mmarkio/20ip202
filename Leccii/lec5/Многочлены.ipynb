{
 "cells": [
  {
   "cell_type": "markdown",
   "id": "8be41d73",
   "metadata": {},
   "source": [
    "# Многочлены"
   ]
  },
  {
   "cell_type": "markdown",
   "id": "4d8f26af",
   "metadata": {},
   "source": [
    "Библиотека NumPy предоставляет обширный набор классов для представления многочленов (полиномов), включающих методы для вычисления многочленов, для алгебры многочленов, для вычисления корней и подгонки к нескольким типам основных полиномиальных функций. В этом разделе сначала\n",
    "рассматривается самый простой и наиболее известный основной объект – степенной ряд до перехода к обсуждению некоторых других канонических функций ортогонального полиномиального базиса."
   ]
  },
  {
   "cell_type": "markdown",
   "id": "f9f78294",
   "metadata": {},
   "source": [
    "## Определение и вычисление многочлена"
   ]
  },
  {
   "attachments": {
    "image.png": {
     "image/png": "[encoded data removed]"
    }
   },
   "cell_type": "markdown",
   "id": "8f740804",
   "metadata": {},
   "source": [
    "Полиномиальный (конечный) степенной ряд в качестве базиса использует степени ```x: 1 (= x0\n",
    "), x, x2, x3, …, xN``` с коэффициентами ```ci```:\n",
    "\n",
    "![image.png](attachment:image.png)\n",
    "\n",
    "В этом разделе рассматривается использование обобщенного класса ```Polynomial```, который предоставляет удобный естественный интерфейс во внутренней функциональности пакета ```polynomial``` библиотеки NumPy.\n",
    "Обобщенный класс многочлена ```numpy.polynomial.Polynomial```. Чтобы импортировать его напрямую, используйте инструкцию:"
   ]
  },
  {
   "cell_type": "code",
   "execution_count": 2,
   "id": "dc10e95f",
   "metadata": {},
   "outputs": [],
   "source": [
    "from numpy.polynomial import Polynomial"
   ]
  },
  {
   "cell_type": "markdown",
   "id": "8211e4bb",
   "metadata": {},
   "source": [
    "Или если вся библиотека NumPy уже импортирована как np, то вместо того,\n",
    "чтобы часто обращаться к этому классу как ```np.polynomial.Polynomial```, удобнее\n",
    "определить переменную:"
   ]
  },
  {
   "cell_type": "code",
   "execution_count": 3,
   "id": "d7f0e4dc",
   "metadata": {},
   "outputs": [],
   "source": [
    "import numpy as np"
   ]
  },
  {
   "cell_type": "code",
   "execution_count": 4,
   "id": "8ca4535b",
   "metadata": {},
   "outputs": [],
   "source": [
    "Polynomial = np.polynomial.Polynomial"
   ]
  },
  {
   "attachments": {
    "image.png": {
     "image/png": "[encoded data removed]"
    }
   },
   "cell_type": "markdown",
   "id": "7e3f3b37",
   "metadata": {},
   "source": [
    "Именно так мы будем ссылаться на класс ```Polynomial```.\n",
    "Для определения объекта многочлена необходимо передать в конструктор\n",
    "```Polynomial``` последовательность коэффициентов для постепенно возрастающих степеней ```x```, начиная с ```c0```\n",
    ". Например, для представления многочлена\n",
    "\n",
    "![image.png](attachment:image.png)\n",
    "\n",
    "определяется объект"
   ]
  },
  {
   "cell_type": "code",
   "execution_count": 5,
   "id": "4abf0ea1",
   "metadata": {},
   "outputs": [],
   "source": [
    "p = Polynomial([6, -5, 1])"
   ]
  },
  {
   "cell_type": "markdown",
   "id": "9643cb53",
   "metadata": {},
   "source": [
    "Проверить коэффициенты объекта ```Polynomial``` можно командой ```print``` или\n",
    "обращением к его атрибуту ```coef```."
   ]
  },
  {
   "cell_type": "code",
   "execution_count": 6,
   "id": "2d06a8ce",
   "metadata": {},
   "outputs": [
    {
     "name": "stdout",
     "output_type": "stream",
     "text": [
      "6.0 - 5.0 x**1 + 1.0 x**2\n"
     ]
    }
   ],
   "source": [
    "print(p)"
   ]
  },
  {
   "cell_type": "code",
   "execution_count": 7,
   "id": "9515f3f5",
   "metadata": {},
   "outputs": [
    {
     "data": {
      "text/plain": [
       "array([ 6., -5.,  1.])"
      ]
     },
     "execution_count": 7,
     "metadata": {},
     "output_type": "execute_result"
    }
   ],
   "source": [
    "p.coef"
   ]
  },
  {
   "cell_type": "markdown",
   "id": "20413a13",
   "metadata": {},
   "source": [
    "Обратите внимание: целочисленные коэффициенты, используемые для\n",
    "определения многочлена, были автоматически преобразованы в  тип ```float```.\n",
    "Также возможно использование комплексных коэффициентов.\n",
    "Для вычисления многочлена при заданном значении x  необходимо «вызвать» многочлен, как показано ниже:"
   ]
  },
  {
   "cell_type": "code",
   "execution_count": 8,
   "id": "d5747610",
   "metadata": {},
   "outputs": [
    {
     "data": {
      "text/plain": [
       "2.0"
      ]
     },
     "execution_count": 8,
     "metadata": {},
     "output_type": "execute_result"
    }
   ],
   "source": [
    "p(4) # Вычисление многочлена p при заданном одиночном значении x."
   ]
  },
  {
   "cell_type": "code",
   "execution_count": 11,
   "id": "037e4864",
   "metadata": {},
   "outputs": [],
   "source": [
    "x = np.linspace(-5, 5, 11)"
   ]
  },
  {
   "cell_type": "code",
   "execution_count": 10,
   "id": "5310cc42",
   "metadata": {},
   "outputs": [
    {
     "name": "stdout",
     "output_type": "stream",
     "text": [
      "[56. 42. 30. 20. 12.  6.  2.  0.  0.  2.  6.]\n"
     ]
    }
   ],
   "source": [
    "print(p(x)) # Вычисление p при заданной последовательности значений x."
   ]
  },
  {
   "cell_type": "markdown",
   "id": "cf521a1f",
   "metadata": {},
   "source": [
    "## Алгебра многочленов"
   ]
  },
  {
   "attachments": {
    "image.png": {
     "image/png": "[encoded data removed]"
    }
   },
   "cell_type": "markdown",
   "id": "43140cb5",
   "metadata": {},
   "source": [
    "В обобщенном классе ```Polynomial``` реализованы знакомые операторы Python:\n",
    "```+, -, *,  //, **,  %``` и  ```divmod``` для объектов типа Polynomial. Использование этих\n",
    "операторов показано в следующих примерах, работающих с многочленами\n",
    "\n",
    "![image.png](attachment:image.png)"
   ]
  },
  {
   "cell_type": "code",
   "execution_count": 12,
   "id": "e1da8dbe",
   "metadata": {},
   "outputs": [],
   "source": [
    "p = Polynomial([6, -5, 1])"
   ]
  },
  {
   "cell_type": "code",
   "execution_count": 13,
   "id": "8b664b72",
   "metadata": {},
   "outputs": [],
   "source": [
    "q = Polynomial([2, -3])"
   ]
  },
  {
   "cell_type": "code",
   "execution_count": 14,
   "id": "f4b568a1",
   "metadata": {},
   "outputs": [
    {
     "name": "stdout",
     "output_type": "stream",
     "text": [
      "8.0 - 8.0 x**1 + 1.0 x**2\n"
     ]
    }
   ],
   "source": [
    "print(p + q)"
   ]
  },
  {
   "cell_type": "code",
   "execution_count": 15,
   "id": "e48cc4b8",
   "metadata": {},
   "outputs": [
    {
     "name": "stdout",
     "output_type": "stream",
     "text": [
      "4.0 - 2.0 x**1 + 1.0 x**2\n"
     ]
    }
   ],
   "source": [
    " print(p - q)"
   ]
  },
  {
   "cell_type": "code",
   "execution_count": 16,
   "id": "52458184",
   "metadata": {},
   "outputs": [
    {
     "name": "stdout",
     "output_type": "stream",
     "text": [
      "12.0 - 28.0 x**1 + 17.0 x**2 - 3.0 x**3\n"
     ]
    }
   ],
   "source": [
    "print(p * q)"
   ]
  },
  {
   "cell_type": "code",
   "execution_count": 17,
   "id": "c7d7b72d",
   "metadata": {},
   "outputs": [
    {
     "name": "stdout",
     "output_type": "stream",
     "text": [
      "1.4444444444444444 - 0.3333333333333333 x**1\n"
     ]
    }
   ],
   "source": [
    "print(p // q)"
   ]
  },
  {
   "cell_type": "code",
   "execution_count": 18,
   "id": "d682a488",
   "metadata": {},
   "outputs": [
    {
     "name": "stdout",
     "output_type": "stream",
     "text": [
      "3.1111111111111116\n"
     ]
    }
   ],
   "source": [
    "print(p % q)"
   ]
  },
  {
   "cell_type": "markdown",
   "id": "716e0a3a",
   "metadata": {},
   "source": [
    "Деление многочлена на другой многочлен выполняется так же, как целочисленное деление (и используется тот же оператор //): т. е. результатом является третий многочлен (без обратных степеней x), возможно, с остатком от деления.\n",
    "Таким образом, ```p = q(−1/3x + 13/9) + 28/9```,и оператор ```//``` возвращает многочленчастное ```−1/3x + 13/9```. Остаток (который в общем случае может быть еще одним\n",
    "многочленом) возвращается,какможно былопредположить,операторомвзятия\n",
    "модуля %. Встроенный метод ```divmod()``` возвращает частное и остаток в кортеже:"
   ]
  },
  {
   "cell_type": "code",
   "execution_count": 19,
   "id": "0b9ce0a8",
   "metadata": {},
   "outputs": [],
   "source": [
    " quotient, remainder = divmod(p, q)"
   ]
  },
  {
   "cell_type": "code",
   "execution_count": 20,
   "id": "0bd4c333",
   "metadata": {},
   "outputs": [
    {
     "name": "stdout",
     "output_type": "stream",
     "text": [
      "1.4444444444444444 - 0.3333333333333333 x**1\n"
     ]
    }
   ],
   "source": [
    " print(quotient)"
   ]
  },
  {
   "cell_type": "code",
   "execution_count": 21,
   "id": "6c605c8d",
   "metadata": {},
   "outputs": [
    {
     "name": "stdout",
     "output_type": "stream",
     "text": [
      "3.1111111111111116\n"
     ]
    }
   ],
   "source": [
    "print(remainder)"
   ]
  },
  {
   "cell_type": "markdown",
   "id": "d8a5529a",
   "metadata": {},
   "source": [
    "Возведение в степень поддерживается с помощью оператора ```**```, многочлены можно возводить только в неотрицательную целую степень:"
   ]
  },
  {
   "cell_type": "code",
   "execution_count": 23,
   "id": "8579f1a3",
   "metadata": {},
   "outputs": [
    {
     "name": "stdout",
     "output_type": "stream",
     "text": [
      "4.0 - 12.0 x**1 + 9.0 x**2\n"
     ]
    }
   ],
   "source": [
    "print(q ** 2)"
   ]
  },
  {
   "cell_type": "markdown",
   "id": "c0ce40e6",
   "metadata": {},
   "source": [
    "Не всегда удобно создавать новый объект многочлена, чтобы воспользоваться этими операторами совместно с другим многочленом, поэтому многие из операторов, описанных выше, также работают со скалярными значениями:"
   ]
  },
  {
   "cell_type": "code",
   "execution_count": 24,
   "id": "98b4a3fd",
   "metadata": {},
   "outputs": [
    {
     "name": "stdout",
     "output_type": "stream",
     "text": [
      "12.0 - 10.0 x**1 + 2.0 x**2\n"
     ]
    }
   ],
   "source": [
    "print(p * 2) # Умножение на скаляр."
   ]
  },
  {
   "cell_type": "code",
   "execution_count": 25,
   "id": "5fd0e747",
   "metadata": {},
   "outputs": [
    {
     "name": "stdout",
     "output_type": "stream",
     "text": [
      "3.0 - 2.5 x**1 + 0.5 x**2\n"
     ]
    }
   ],
   "source": [
    "print(p / 2) # Деление на скаляр."
   ]
  },
  {
   "cell_type": "markdown",
   "id": "1a6763c7",
   "metadata": {},
   "source": [
    "и даже с  кортежами, списками и  массивами коэффициентов многочлена.\n",
    "Например, для умножения многочлена ```P(x)``` на ```x2 − 2x3```:"
   ]
  },
  {
   "cell_type": "code",
   "execution_count": 26,
   "id": "1df33a5a",
   "metadata": {},
   "outputs": [
    {
     "name": "stdout",
     "output_type": "stream",
     "text": [
      "0.0 + 0.0 x**1 + 6.0 x**2 - 17.0 x**3 + 11.0 x**4 - 2.0 x**5\n"
     ]
    }
   ],
   "source": [
    "print(p * [0, 0, 1, -2])"
   ]
  },
  {
   "cell_type": "markdown",
   "id": "84dc2d52",
   "metadata": {},
   "source": [
    "Один многочлен можно подставить в другой.Для вычисления ```P(Q(x))``` просто\n",
    "используется выражение ```p(q)```:"
   ]
  },
  {
   "cell_type": "code",
   "execution_count": 27,
   "id": "82ea3d47",
   "metadata": {},
   "outputs": [
    {
     "name": "stdout",
     "output_type": "stream",
     "text": [
      "0.0 + 3.0 x**1 + 9.0 x**2\n"
     ]
    }
   ],
   "source": [
    "print(p(q))"
   ]
  },
  {
   "cell_type": "markdown",
   "id": "04ffd156",
   "metadata": {},
   "source": [
    "Таким образом, ```P(Q(x)) = 3x + 9x2```."
   ]
  },
  {
   "cell_type": "markdown",
   "id": "1125807e",
   "metadata": {},
   "source": [
    "## Поиск корней многочлена"
   ]
  },
  {
   "cell_type": "markdown",
   "id": "84345a9f",
   "metadata": {},
   "source": [
    "Корни многочлена возвращает метод ```roots```. Одинаковые корни просто повторяются в возвращаемом массиве:"
   ]
  },
  {
   "cell_type": "code",
   "execution_count": 28,
   "id": "97534bd7",
   "metadata": {},
   "outputs": [
    {
     "data": {
      "text/plain": [
       "array([2., 3.])"
      ]
     },
     "execution_count": 28,
     "metadata": {},
     "output_type": "execute_result"
    }
   ],
   "source": [
    " p.roots()"
   ]
  },
  {
   "cell_type": "code",
   "execution_count": 29,
   "id": "2d6db134",
   "metadata": {},
   "outputs": [
    {
     "data": {
      "text/plain": [
       "array([0.66666667, 0.66666667])"
      ]
     },
     "execution_count": 29,
     "metadata": {},
     "output_type": "execute_result"
    }
   ],
   "source": [
    "(q * q).roots()"
   ]
  },
  {
   "cell_type": "code",
   "execution_count": 30,
   "id": "df7a8d38",
   "metadata": {},
   "outputs": [
    {
     "data": {
      "text/plain": [
       "array([-2.-1.j, -2.+1.j])"
      ]
     },
     "execution_count": 30,
     "metadata": {},
     "output_type": "execute_result"
    }
   ],
   "source": [
    "Polynomial([5, 4, 1]).roots()"
   ]
  },
  {
   "cell_type": "markdown",
   "id": "0d6e7979",
   "metadata": {},
   "source": [
    "Многочлены можно также создавать по их корням с помощью метода ```Polynomial.fromroots```:"
   ]
  },
  {
   "cell_type": "code",
   "execution_count": 31,
   "id": "fd88c310",
   "metadata": {},
   "outputs": [
    {
     "name": "stdout",
     "output_type": "stream",
     "text": [
      "8.0 - 10.0 x**1 + 1.0 x**2 + 1.0 x**3\n"
     ]
    }
   ],
   "source": [
    "print( Polynomial.fromroots([-4, 2, 1]) )"
   ]
  },
  {
   "cell_type": "markdown",
   "id": "f7f0ea29",
   "metadata": {},
   "source": [
    "То есть ```(x + 4)(x − 2)(x − 1) = 8 − 10x + x2 + x3```. Обратите внимание: при таком\n",
    "способе формирования многочлена коэффициент при наивысшей степени ```x``` всегда будет равен 1."
   ]
  },
  {
   "cell_type": "markdown",
   "id": "6bb13cbb",
   "metadata": {},
   "source": [
    "**Пример**. Емкости для хранения криогенных жидкостей и ракетного топлива\n",
    "часто имеют сферическую форму (почему?). Предположим, что конкретная сферическая емкость имеет радиус ```R``` и заполняется жидкостью до высоты ```h```. Формула объема\n",
    "жидкости по высоте заполнения выводится (относительно) просто:\n",
    "\n",
    "\n",
    "V = πRh2 − 1/3πh3\n",
    "\n",
    "Предположим, что из этой емкости постоянно вытекает жидкость со скоростью потока ```F = −dV/dt```. Как изменяется во времени высота заполнения жидкости ```h```? Дифференцирование приведенного выше равенства по переменной времени ```t``` приводит к следующему результату:\n",
    "\n",
    "(2πRh − πh2)dh/dt = −F.\n",
    "\n",
    "Если начать с заполненной емкости (h = 2R) в момент времени t = 0, то это\n",
    "обыкновенное дифференциальное уравнение можно проинтегрировать и получить следующее выражение:\n",
    "\n",
    "−1/3πh3 + πRh2 + (Ft − 4/3πR3) = 0,\n",
    "\n",
    "т. е. кубический многочлен с переменной ```h```. Поскольку это уравнение невозможно аналитически преобразовать относительно ```h```, воспользуемся NumPy\n",
    "классом ```Polynomial``` для поиска ```h(t)```, приняв радиус емкости ```R``` = 1.5 м и скорость вытекания жидкости 200 см3/с.\n",
    "Общий объем жидкости в полной емкости равен ```V0 = 4/3πR3```. Очевидно, что\n",
    "емкость пуста, когда ```h = 0```, что происходит в момент времени ```T = V0/F```, так как\n",
    "скорость потока постоянная. В  любой произвольно взятый момент времени ```t``` можно вычислить ```h```, определив корни приведенного выше уравнения.\n",
    "\n",
    "**Листинг 1**. Определение высоты жидкости в сферической емкости"
   ]
  },
  {
   "cell_type": "code",
   "execution_count": 33,
   "id": "9b1c1cf9",
   "metadata": {},
   "outputs": [
    {
     "name": "stderr",
     "output_type": "stream",
     "text": [
      "C:\\Users\\user\\AppData\\Local\\Temp\\ipykernel_10332\\3248412164.py:27: ComplexWarning: Casting complex values to real discards the imaginary part\n",
      "  h[i] = roots[(0 <= roots) & (roots <= 2*R)][0]\n"
     ]
    },
    {
     "data": {
      "image/png": "[encoded data removed]",
      "text/plain": [
       "<Figure size 432x288 with 1 Axes>"
      ]
     },
     "metadata": {
      "needs_background": "light"
     },
     "output_type": "display_data"
    }
   ],
   "source": [
    "# eg6-c-spherical -tank -a.py\n",
    "import numpy as np\n",
    "import matplotlib.pyplot as plt\n",
    "Polynomial = np.polynomial.Polynomial\n",
    "# Радиус сферической емкости в м.\n",
    "R = 1.5\n",
    "# Скорость вытекания жидкости из емкости в м^3/с.\n",
    "F = 2.e-4\n",
    "# Общий объем емкости.\n",
    "V0 = 4/3 * np.pi * R**3\n",
    "# Общее время, за которое емкость становится пустой.\n",
    "T = V0 / F\n",
    "# Коэффициенты для членов в квадрате и в кубе, содержащихся\n",
    "# в p(h) - многочлене, который необходимо решить относительно h.\n",
    "c2, c3 = np.pi * R, -np.pi / 3\n",
    "N = 100\n",
    "# Массив из N меток времени от 0 до T включительно.\n",
    "time = np.linspace(0, T, N) # Создается массив меток времени от t = 0 до t = T\n",
    "# Создание соответствующего массива значений высоты h(t).\n",
    "h = np.zeros(N)\n",
    "for i, t in enumerate(time):\n",
    "    c0 = F*t - V0\n",
    "    p = Polynomial([c0, 0, c2, c3])\n",
    "    # Вычисление трех корней этого многочлена.\n",
    "    roots = p.roots()\n",
    " # Требуется один корень, для которого 0 <= h <= 2R.\n",
    "    h[i] = roots[(0 <= roots) & (roots <= 2*R)][0]\n",
    "\n",
    "plt.plot(time , h, 'o')\n",
    "plt.xlabel('Time /s')\n",
    "plt.ylabel('Height in tank /m')\n",
    "plt.show()"
   ]
  },
  {
   "cell_type": "markdown",
   "id": "1419b3ed",
   "metadata": {},
   "source": [
    "Для каждой метки времени вычисляются корни приведенного выше\n",
    "кубического многочлена. Только один из корней имеет физический\n",
    "смысл, а именно: 0 ≤ h ≤ 2R (высота уровня жидкости не может быть отрицательной или большей диаметра емкости), этот корень извлекается\n",
    "(с помощью логического индексирования) и сохраняется в массиве h."
   ]
  },
  {
   "cell_type": "markdown",
   "id": "c55fb122",
   "metadata": {},
   "source": [
    "На завершающем этапе изображается изменение ```h``` как функции от времени\n",
    "(см. рис. 1)."
   ]
  },
  {
   "attachments": {
    "image.png": {
     "image/png": "[encoded data removed]"
    }
   },
   "cell_type": "markdown",
   "id": "63d9fddc",
   "metadata": {},
   "source": [
    "![image.png](attachment:image.png)\n",
    "\n",
    "Рис. 1. Высота уровня жидкости как функция от времени\n",
    "```h(t)``` для задачи о сферической емкости"
   ]
  },
  {
   "cell_type": "markdown",
   "id": "cc047fc6",
   "metadata": {},
   "source": [
    "# Математический анализ"
   ]
  },
  {
   "cell_type": "markdown",
   "id": "e7e579d5",
   "metadata": {},
   "source": [
    "Многочлены можно дифференцировать с помощью метода ```Polynomial.deriv```.\n",
    "По умолчанию этот метод возвращает первую производную, но в необязательном аргументе ```m``` можно определить возврат ```m```-й производной:"
   ]
  },
  {
   "cell_type": "code",
   "execution_count": 35,
   "id": "cead7872",
   "metadata": {},
   "outputs": [
    {
     "name": "stdout",
     "output_type": "stream",
     "text": [
      "6.0 - 5.0 x**1 + 1.0 x**2\n"
     ]
    }
   ],
   "source": [
    "p = Polynomial([6, -5, 1])\n",
    "print(p)"
   ]
  },
  {
   "cell_type": "code",
   "execution_count": 36,
   "id": "e6089876",
   "metadata": {},
   "outputs": [
    {
     "name": "stdout",
     "output_type": "stream",
     "text": [
      "-5.0 + 2.0 x**1\n"
     ]
    }
   ],
   "source": [
    "print(p.deriv())"
   ]
  },
  {
   "cell_type": "code",
   "execution_count": 37,
   "id": "56517fab",
   "metadata": {},
   "outputs": [
    {
     "name": "stdout",
     "output_type": "stream",
     "text": [
      "2.0\n"
     ]
    }
   ],
   "source": [
    "print(p.deriv(2))"
   ]
  },
  {
   "attachments": {
    "image.png": {
     "image/png": "[encoded data removed]"
    }
   },
   "cell_type": "markdown",
   "id": "265bf0f2",
   "metadata": {},
   "source": [
    "Объект ```Polynomial``` можно также интегрировать с  необязательной нижней\n",
    "границей ```L``` и постоянной интегрирования ```k```, интерпретируемой, как показано\n",
    "в следующем примере:\n",
    "\n",
    "![image.png](attachment:image.png)\n",
    "\n",
    "По умолчанию ```L``` и ```k``` равны нулю, но их значения можно определить, передавая в аргументах ```lbnd``` и ```k``` в метод ```Polynomial.integ```:"
   ]
  },
  {
   "cell_type": "code",
   "execution_count": 38,
   "id": "f90336ac",
   "metadata": {},
   "outputs": [
    {
     "name": "stdout",
     "output_type": "stream",
     "text": [
      "2.0 - 3.0 x**1\n"
     ]
    }
   ],
   "source": [
    "q = Polynomial([2, -3])\n",
    "print(q)"
   ]
  },
  {
   "cell_type": "code",
   "execution_count": 39,
   "id": "4839b5ca",
   "metadata": {},
   "outputs": [
    {
     "name": "stdout",
     "output_type": "stream",
     "text": [
      "0.0 + 2.0 x**1 - 1.5 x**2\n"
     ]
    }
   ],
   "source": [
    "print(q.integ())"
   ]
  },
  {
   "cell_type": "code",
   "execution_count": 40,
   "id": "8b4dfe2c",
   "metadata": {},
   "outputs": [
    {
     "name": "stdout",
     "output_type": "stream",
     "text": [
      "-0.5 + 2.0 x**1 - 1.5 x**2\n"
     ]
    }
   ],
   "source": [
    "print(q.integ(lbnd=1))"
   ]
  },
  {
   "cell_type": "code",
   "execution_count": 41,
   "id": "eb1d1272",
   "metadata": {},
   "outputs": [
    {
     "name": "stdout",
     "output_type": "stream",
     "text": [
      "2.0 + 2.0 x**1 - 1.5 x**2\n"
     ]
    }
   ],
   "source": [
    "print(q.integ(k=2))"
   ]
  },
  {
   "cell_type": "markdown",
   "id": "2fe3716c",
   "metadata": {},
   "source": [
    "Многочлены можно интегрировать многократно, передавая значение в аргументе ```m``` – количество требуемых операций интегрирования."
   ]
  },
  {
   "cell_type": "markdown",
   "id": "924aa4d8",
   "metadata": {},
   "source": [
    "## Классические ортогональные многочлены"
   ]
  },
  {
   "cell_type": "markdown",
   "id": "458aac20",
   "metadata": {},
   "source": [
    "В дополнение к  классу ```Polynomial```, представляющему простые степенные ряды, такие как ```a0 + a1x + a2x2 + … + anxn```, библиотека NumPy предлагает классы для представления рядов, сформированных из любых классических ортогональных многочленов. Эти многочлены и  их линейные комбинации широко используются в  физике, статистике и  математике. В  текущей версии NumPy 1.17 представлены обобщенные классы многочленов: Chebyshev,\n",
    "Legendre, Laguerre, Hermite («версия для физиков») и HertmiteE («версия для\n",
    "вероятностных вычислений»). Есть много хороших книг, подробно описывающих свойства этих классов многочленов. Чтобы продемонстрировать их\n",
    "практическое использование, сосредоточимся на многочленах Лежандра, обозначаемых как ```Pn(x)```. Они представляют собой решения дифференциального уравнения Лежандра:"
   ]
  },
  {
   "attachments": {
    "image.png": {
     "image/png": "[encoded data removed]"
    }
   },
   "cell_type": "markdown",
   "id": "35dc31af",
   "metadata": {},
   "source": [
    "![image.png](attachment:image.png)"
   ]
  },
  {
   "cell_type": "markdown",
   "id": "fb26848b",
   "metadata": {},
   "source": [
    "Ниже приведено несколько первых многочленов Лежандра:"
   ]
  },
  {
   "attachments": {
    "image-2.png": {
     "image/png": "[encoded data removed]"
    }
   },
   "cell_type": "markdown",
   "id": "d58b6c1b",
   "metadata": {},
   "source": [
    "![image-2.png](attachment:image-2.png)"
   ]
  },
  {
   "cell_type": "markdown",
   "id": "e1c7b27e",
   "metadata": {},
   "source": [
    "Графики этих многочленов изображены на рис. 2."
   ]
  },
  {
   "attachments": {
    "image.png": {
     "image/png": "[encoded data removed]"
    }
   },
   "cell_type": "markdown",
   "id": "46038697",
   "metadata": {},
   "source": [
    "![image.png](attachment:image.png)"
   ]
  },
  {
   "cell_type": "markdown",
   "id": "2f6b1042",
   "metadata": {},
   "source": [
    "**Рис. 2**. Пять первых многочленов Лежандра Pn(x) при n = 0, 1, 2, 3, 4"
   ]
  },
  {
   "cell_type": "markdown",
   "id": "320dc1b2",
   "metadata": {},
   "source": [
    "Полезным свойством многочленов Лежандра является их ортогональность\n",
    "на интервале [−1, 1]:"
   ]
  },
  {
   "attachments": {
    "image.png": {
     "image/png": "[encoded data removed]"
    }
   },
   "cell_type": "markdown",
   "id": "3281527d",
   "metadata": {},
   "source": [
    "![image.png](attachment:image.png)"
   ]
  },
  {
   "cell_type": "markdown",
   "id": "cc4dcfeb",
   "metadata": {},
   "source": [
    "которая важна при их использовании в  качестве основы для представления близко соответствующих функций.\n",
    "Для создания линейной комбинации многочленов Лежандра коэффициенты передаются в конструктор класса Legendre точно так же, как и в конструктор ```Polynomial```. Например, для создания разложения 5P1(x) + 2P2(x):"
   ]
  },
  {
   "cell_type": "code",
   "execution_count": 43,
   "id": "4e0db1b9",
   "metadata": {},
   "outputs": [],
   "source": [
    "Legendre = np.polynomial.Legendre"
   ]
  },
  {
   "cell_type": "code",
   "execution_count": 44,
   "id": "e1b78a86",
   "metadata": {},
   "outputs": [],
   "source": [
    " A = Legendre([0, 5, 2])"
   ]
  },
  {
   "cell_type": "markdown",
   "id": "f671a019",
   "metadata": {},
   "source": [
    "Существующий объект многочлена можно преобразовать в  ряд Лежандра\n",
    "с помощью метода ```cast```:"
   ]
  },
  {
   "cell_type": "code",
   "execution_count": 45,
   "id": "5dc13959",
   "metadata": {},
   "outputs": [],
   "source": [
    " P = Polynomial([0, 1, 1])"
   ]
  },
  {
   "cell_type": "code",
   "execution_count": 46,
   "id": "d660ef47",
   "metadata": {},
   "outputs": [],
   "source": [
    "Q = Legendre.cast(P)"
   ]
  },
  {
   "cell_type": "code",
   "execution_count": 47,
   "id": "02440f3b",
   "metadata": {},
   "outputs": [
    {
     "name": "stdout",
     "output_type": "stream",
     "text": [
      "0.3333333333333333 + 1.0 P_1(x) + 0.6666666666666666 P_2(x)\n"
     ]
    }
   ],
   "source": [
    " print(Q)"
   ]
  },
  {
   "cell_type": "markdown",
   "id": "1c0c16ba",
   "metadata": {},
   "source": [
    "То есть ```x + x2 = 1/3P0 + P1 + 2/3P2```."
   ]
  },
  {
   "cell_type": "markdown",
   "id": "a03703e3",
   "metadata": {},
   "source": [
    "Экземпляр одной базисной функции многочлена Лежандра можно создать,\n",
    "используя метод ```basis```:"
   ]
  },
  {
   "cell_type": "code",
   "execution_count": 48,
   "id": "e96bf603",
   "metadata": {},
   "outputs": [],
   "source": [
    "L3 = Legendre.basis(3)"
   ]
  },
  {
   "cell_type": "markdown",
   "id": "d2c4b333",
   "metadata": {},
   "source": [
    "Здесь создается объект, представляющий ```P3(x)```. Это равнозначно вызову ```Legendre([0, 0, 0, 1])```. Для получения обычного степенного ряда можно выполнить обратное преобразование в объект ```Polynomial```:"
   ]
  },
  {
   "cell_type": "code",
   "execution_count": 49,
   "id": "09e8f894",
   "metadata": {},
   "outputs": [
    {
     "name": "stdout",
     "output_type": "stream",
     "text": [
      "0.0 - 1.5 x**1 + 0.0 x**2 + 2.5 x**3\n"
     ]
    }
   ],
   "source": [
    "print(Polynomial.cast(L3))"
   ]
  },
  {
   "cell_type": "markdown",
   "id": "406e81eb",
   "metadata": {},
   "source": [
    "В дополнение к  описанным выше функциям объекта ```Polynomial```, включая\n",
    "методы дифференцирования и  интегрирования многочленов, обобщенные\n",
    "классы для классических ортогональных многочленов предлагают несколько\n",
    "полезных методов.\n",
    "Метод ```convert``` выполняет преобразование между различными типами многочленов. Например, линейная комбинация ```A(x) = 5P1(x) + 2P2(x) = 5x + 2½(3x2 −1) = −1 + 5x + 3x2``` как степенной ряд одночленов (ряд Маклорена) представляется экземпляром класса ```Polynomial``` в следующем виде:"
   ]
  },
  {
   "cell_type": "code",
   "execution_count": 50,
   "id": "7290cf42",
   "metadata": {},
   "outputs": [],
   "source": [
    "A = Legendre([0, 5, 2])"
   ]
  },
  {
   "cell_type": "code",
   "execution_count": 51,
   "id": "cb90bd61",
   "metadata": {},
   "outputs": [],
   "source": [
    "B = A.convert(kind=Polynomial)"
   ]
  },
  {
   "cell_type": "code",
   "execution_count": 52,
   "id": "ec7e318e",
   "metadata": {},
   "outputs": [
    {
     "name": "stdout",
     "output_type": "stream",
     "text": [
      "-1.0 + 5.0 x**1 + 3.0 x**2\n"
     ]
    }
   ],
   "source": [
    "print(B)"
   ]
  },
  {
   "cell_type": "markdown",
   "id": "05c15963",
   "metadata": {},
   "source": [
    "Так как объекты ```A``` и ```B``` представляют одну и ту же базисную функцию (просто\n",
    "она разложена на различные базисные множества), при вычислении они дают\n",
    "одинаковое значение при одинаковом заданном ```x``` и имеют одинаковые корни:"
   ]
  },
  {
   "cell_type": "code",
   "execution_count": 53,
   "id": "0a923a0b",
   "metadata": {},
   "outputs": [
    {
     "data": {
      "text/plain": [
       "True"
      ]
     },
     "execution_count": 53,
     "metadata": {},
     "output_type": "execute_result"
    }
   ],
   "source": [
    " A(-2) == B(-2)"
   ]
  },
  {
   "cell_type": "code",
   "execution_count": 54,
   "id": "f85edba9",
   "metadata": {},
   "outputs": [
    {
     "name": "stdout",
     "output_type": "stream",
     "text": [
      "[-1.84712709  0.18046042]\n",
      "[-1.84712709  0.18046042]\n"
     ]
    }
   ],
   "source": [
    " print(A.roots(), B.roots(), sep='\\n')"
   ]
  },
  {
   "cell_type": "markdown",
   "id": "b97fcd80",
   "metadata": {},
   "source": [
    "## Подгонка к многочленам"
   ]
  },
  {
   "cell_type": "markdown",
   "id": "4de1b814",
   "metadata": {},
   "source": [
    "Широко распространенное практическое применение разложений на многочлены  – подгонка и  аппроксимация последовательностей данных. Модули\n",
    "многочленов библиотеки NumPy предоставляют методы для подгонки методом наименьших квадратов для функций. В  этом разделе рассматривается функция ```fit``` обобщенных классов многочленов."
   ]
  },
  {
   "cell_type": "markdown",
   "id": "cc0b92f9",
   "metadata": {},
   "source": [
    "## Атрибуты domain и window"
   ]
  },
  {
   "attachments": {
    "image.png": {
     "image/png": "[encoded data removed]"
    }
   },
   "cell_type": "markdown",
   "id": "e01eea39",
   "metadata": {},
   "source": [
    "В обычной одномерной задаче подгонки требуется многочлен, наилучшим образом соответствующий конечной непрерывной функции на некотором конечном интервале оси ```x``` (называемом доменом – ```domain```). Но сами многочлены могут существенно отличаться друг от друга и расходиться при ```x → ±∞```. Поэтому существует риск при любой попытке вслепую применить подгонку методом наименьших квадратов непосредственно в области определения функции: подгоняемый многочлен часто становится причиной нестабильности вычислений,\n",
    "переполнения, потери значимости и прочих типов некорректности и плохой\n",
    "обусловленности (см. раздел \"Стабильность и обусловленность алгоритмов\"). В качестве примера рассмотрим функцию\n",
    "\n",
    "![image.png](attachment:image.png)\n",
    "\n",
    "на интервале (100, 100.1). В этой функции нет ничего особенного: ее поведение\n",
    "хорошо известно на всей области определения, и ```f(x)``` принимает вполне предсказуемые значения в интервале от ```e–1``` до ```e1```. Тем не менее прямая подгонка методом наименьших квадратов к многочлену четвертого порядка в указанном интервале (домене) дает следующий результат:\n",
    "\n",
    "−11.881851 + 2379.22228x − 119.741202x2 − 23828009.7x3 + 1192894610x4\n",
    "\n",
    "который очевидно является потенциальным источником вычислительной нестабильности и потери точности даже при обычных значениях ```x```: эта аппроксимация ```f(x)``` формируется из разностей весьма больших одночленов.\n",
    "Каждый класс многочлена по умолчанию имеет окно (window), представляющее оптимальный интервал для формирования линейной комбинации при подгонке функции. Например, окном многочленов Лежандра является интервал ```[−1, 1]```, на котором строились графики в предыдущем разделе и в котором ```Pn(x)``` ортогональны и ```|Pn(x) < 1|```. Проблема заключается в том, что подгоняемая функция не соответствует окну выбранного многочлена. Следовательно, необходимо привести в соответствие область определения функции и окна многочлена.\n",
    "Это делается с помощью сдвига и масштабирования по оси ```x```: т. е. посредством\n",
    "отображения точек из области определения функции в  точки, находящиеся\n",
    "в окне подгоняемого многочлена. Функция многочлена ```fit``` делает это автоматически,так что для упомянутой выше функции подгонка методом наименьших\n",
    "квадратов к многочлену четвертой степени дает следующий результат:"
   ]
  },
  {
   "cell_type": "code",
   "execution_count": 55,
   "id": "ea2e3051",
   "metadata": {},
   "outputs": [],
   "source": [
    "x = np.linspace(100, 100.1, 1001)"
   ]
  },
  {
   "cell_type": "code",
   "execution_count": 56,
   "id": "ee417663",
   "metadata": {},
   "outputs": [],
   "source": [
    "f = lambda x: np.exp(-np.sin(40*x))"
   ]
  },
  {
   "cell_type": "code",
   "execution_count": 57,
   "id": "ae3646dc",
   "metadata": {},
   "outputs": [],
   "source": [
    "p = Polynomial.fit(x, f(x), 4)"
   ]
  },
  {
   "cell_type": "code",
   "execution_count": 58,
   "id": "7005284a",
   "metadata": {},
   "outputs": [
    {
     "name": "stdout",
     "output_type": "stream",
     "text": [
      "1.494225511376009 - 2.546414491999939 x**1 + 0.632846406226221 x**2 +\n",
      "1.8424646262661921 x**3 - 1.028219562386352 x**4\n"
     ]
    }
   ],
   "source": [
    " print(p)"
   ]
  },
  {
   "cell_type": "markdown",
   "id": "c0df176b",
   "metadata": {},
   "source": [
    "Домен и окно многочлена можно проверить, обратившись к атрибутам ```domain``` и ```window``` соответственно:"
   ]
  },
  {
   "cell_type": "code",
   "execution_count": 59,
   "id": "3c286d4e",
   "metadata": {},
   "outputs": [
    {
     "data": {
      "text/plain": [
       "array([100. , 100.1])"
      ]
     },
     "execution_count": 59,
     "metadata": {},
     "output_type": "execute_result"
    }
   ],
   "source": [
    " p.domain"
   ]
  },
  {
   "cell_type": "code",
   "execution_count": 60,
   "id": "25849a04",
   "metadata": {},
   "outputs": [
    {
     "data": {
      "text/plain": [
       "array([-1.,  1.])"
      ]
     },
     "execution_count": 60,
     "metadata": {},
     "output_type": "execute_result"
    }
   ],
   "source": [
    "p.window"
   ]
  },
  {
   "cell_type": "markdown",
   "id": "9e333590",
   "metadata": {},
   "source": [
    "Важно отметить, что аргумент ```x``` отображается из домена в окно всегда при\n",
    "вычислении многочлена. Это означает, что два многочлена с различными доменами и/или окнами при вычислении могут давать различные значения, даже если их коэффициенты одинаковы. Например, если заново создается объект ```Polynomial``` с теми же коэффициентами, что и подогнанный многочлен ```p``` в примере, приведенном выше:"
   ]
  },
  {
   "cell_type": "code",
   "execution_count": 62,
   "id": "2a58d43f",
   "metadata": {},
   "outputs": [],
   "source": [
    "q = Polynomial ([1.49422551, -2.54641449, 0.63284641,1.84246463, -1.02821956])"
   ]
  },
  {
   "cell_type": "markdown",
   "id": "2686efb1",
   "metadata": {},
   "source": [
    "то новый многочлен имеет домен и окно, определенные по умолчанию, т.  е.\n",
    "оба (-1, 1):"
   ]
  },
  {
   "cell_type": "code",
   "execution_count": 63,
   "id": "931a56ce",
   "metadata": {},
   "outputs": [
    {
     "name": "stdout",
     "output_type": "stream",
     "text": [
      "[-1  1] [-1  1]\n"
     ]
    }
   ],
   "source": [
    "print(q.domain , q.window)"
   ]
  },
  {
   "cell_type": "markdown",
   "id": "aaa30918",
   "metadata": {},
   "source": [
    "поэтому вычисление многочлена ```q```, например, в точке 100.05 отображает точку 100.05 в домене в точку 100.05 в окне и дает совершенно другой результат\n",
    "при вычислении ```p``` в той же точке его домена (которая отображается в точку 0.\n",
    "окна):"
   ]
  },
  {
   "cell_type": "code",
   "execution_count": 64,
   "id": "da1c31a8",
   "metadata": {},
   "outputs": [
    {
     "data": {
      "text/plain": [
       "(-101176442.96772559, 1.494225511376009)"
      ]
     },
     "execution_count": 64,
     "metadata": {},
     "output_type": "execute_result"
    }
   ],
   "source": [
    "q(100.05), p(100.05)"
   ]
  },
  {
   "cell_type": "markdown",
   "id": "106768be",
   "metadata": {},
   "source": [
    "Легко показать, что функция отображения ```x``` в домене ```(a,b)``` в ```x’``` в окне ```(a’,b’)``` имеет следующий вид:"
   ]
  },
  {
   "cell_type": "markdown",
   "id": "8da0324d",
   "metadata": {},
   "source": [
    "x’ = m(x) = χ + μx, где μ = (b’ − a’)/(b − a), χ = b’ − b(b’ − a’)/(b − a)."
   ]
  },
  {
   "cell_type": "markdown",
   "id": "55de96cc",
   "metadata": {},
   "source": [
    "Это параметры, возвращаемые функцией многочлена ```mapparams```:"
   ]
  },
  {
   "cell_type": "code",
   "execution_count": 65,
   "id": "d723754b",
   "metadata": {},
   "outputs": [],
   "source": [
    "chi, mu = p.mapparms()"
   ]
  },
  {
   "cell_type": "code",
   "execution_count": 66,
   "id": "53325437",
   "metadata": {},
   "outputs": [
    {
     "name": "stdout",
     "output_type": "stream",
     "text": [
      "-2001.0000000001137 20.000000000001137\n"
     ]
    }
   ],
   "source": [
    "print(chi, mu)"
   ]
  },
  {
   "cell_type": "markdown",
   "id": "356911c8",
   "metadata": {},
   "source": [
    "Таким образом:"
   ]
  },
  {
   "cell_type": "markdown",
   "id": "2b894320",
   "metadata": {},
   "source": [
    "print(q(chi + mu*100.05))"
   ]
  },
  {
   "cell_type": "markdown",
   "id": "f0d590f4",
   "metadata": {},
   "source": [
    "Значения атрибутов ```domain``` и ```window``` можно изменить прямым присваиванием:"
   ]
  },
  {
   "cell_type": "code",
   "execution_count": 69,
   "id": "e6ecfc43",
   "metadata": {},
   "outputs": [],
   "source": [
    "q.domain = np.array((100., 100.1))"
   ]
  },
  {
   "cell_type": "code",
   "execution_count": 70,
   "id": "07e9b304",
   "metadata": {},
   "outputs": [
    {
     "name": "stdout",
     "output_type": "stream",
     "text": [
      "1.49422551\n"
     ]
    }
   ],
   "source": [
    "print(q(100.05))"
   ]
  },
  {
   "cell_type": "markdown",
   "id": "20d13eeb",
   "metadata": {},
   "source": [
    "Для вычисления многочлена с набором чисел, равномерно распределенных\n",
    "по точкам в  его домене, например для построения графика многочлена, используется метод класса ```Polynomial``` ```linspace```:"
   ]
  },
  {
   "cell_type": "code",
   "execution_count": 71,
   "id": "97e884af",
   "metadata": {},
   "outputs": [
    {
     "data": {
      "text/plain": [
       "(array([100.   , 100.025, 100.05 , 100.075, 100.1  ]),\n",
       " array([1.80280222, 2.63107256, 1.49422551, 0.54527422, 0.39490249]))"
      ]
     },
     "execution_count": 71,
     "metadata": {},
     "output_type": "execute_result"
    }
   ],
   "source": [
    "p.linspace(5)"
   ]
  },
  {
   "cell_type": "markdown",
   "id": "4f5eae2e",
   "metadata": {},
   "source": [
    "Метод ```p.linspace``` возвращает два массива с  заданным количеством точек\n",
    "в домене многочлена, представляющих точки ```x```, и со значениями многочлена,\n",
    "вычисленными в этих точках ```p(x)```."
   ]
  },
  {
   "cell_type": "markdown",
   "id": "57ca2e74",
   "metadata": {},
   "source": [
    "## Метод Polynomial.fit"
   ]
  },
  {
   "attachments": {
    "image.png": {
     "image/png": "[encoded data removed]"
    }
   },
   "cell_type": "markdown",
   "id": "c6cdac6f",
   "metadata": {},
   "source": [
    "Метод класса ```Polynomial fit``` возвращаетмного член,подогнанный методом наименьших квадратов, ```y``` к данным из выборки значений ```x```. В самом простом варианте использования для метода ```fit``` требуется передача только объектов типа\n",
    "массив ```x``` и ```y``` и значения ```deg``` – степени подгоняемого многочлена. Метод возвращает многочлен, который минимизирует сумму квадратических ошибок:\n",
    "\n",
    "![image.png](attachment:image.png)\n",
    "\n",
    "Например:"
   ]
  },
  {
   "cell_type": "code",
   "execution_count": 72,
   "id": "4d276e7c",
   "metadata": {},
   "outputs": [],
   "source": [
    "x = np.linspace(400, 700, 1000)"
   ]
  },
  {
   "cell_type": "code",
   "execution_count": 73,
   "id": "79069826",
   "metadata": {},
   "outputs": [],
   "source": [
    "y = 1 / x**4"
   ]
  },
  {
   "cell_type": "code",
   "execution_count": 74,
   "id": "b1fe6939",
   "metadata": {},
   "outputs": [],
   "source": [
    "p = Polynomial.fit(x, y, 3)"
   ]
  },
  {
   "cell_type": "markdown",
   "id": "7c6d459a",
   "metadata": {},
   "source": [
    "создает кубический многочлен, подогнанный наилучшим образом к функции\n",
    "```x-4``` на интервале ```[400, 700]```."
   ]
  },
  {
   "attachments": {
    "image.png": {
     "image/png": "[encoded data removed]"
    }
   },
   "cell_type": "markdown",
   "id": "8d9b6a60",
   "metadata": {},
   "source": [
    "Взвешенная подгонка методом наименьших квадратов определяется передачей в  аргументе w  последовательности взвешенных значений, имеющей длину, равную длине массивов ```x``` и ```y```. Возвращается многочлен, минимизирующий сумму взвешенных квадратических ошибок:\n",
    "\n",
    "![image.png](attachment:image.png)\n",
    "\n",
    "Домен и  окно подгоняемого многочлена можно определить в  аргументах ```domain``` и ```window```, по умолчанию минимальный домен включает все используемые точки ```x```.\n",
    "Разумным действием является проверка качества подгонки перед использованием возвращенного многочлена.Установка аргумента ```full=True``` заставляет ```fit``` возвращать два объекта: подогнанный многочлен и список различных статистических данных о самой операции подгонки:"
   ]
  },
  {
   "cell_type": "code",
   "execution_count": 75,
   "id": "4ca8c9c3",
   "metadata": {},
   "outputs": [],
   "source": [
    "deg = 3"
   ]
  },
  {
   "cell_type": "code",
   "execution_count": 76,
   "id": "0dd6e551",
   "metadata": {},
   "outputs": [],
   "source": [
    " p, [resid , rank , sing_val , rcond] = Polynomial.fit(x, y, deg, full=True)"
   ]
  },
  {
   "cell_type": "code",
   "execution_count": 77,
   "id": "216dd2af",
   "metadata": {},
   "outputs": [
    {
     "data": {
      "text/latex": [
       "$x \\mapsto \\text{1.0704186363414056e-11} - \\text{1.1648866188672273e-11}\\,\\left(\\text{-3.6666666666666665} + \\text{0.006666666666666667}x\\right) + \\text{1.0254575105724555e-11}\\,\\left(\\text{-3.6666666666666665} + \\text{0.006666666666666667}x\\right)^{2} - \\text{5.640689143130167e-12}\\,\\left(\\text{-3.6666666666666665} + \\text{0.006666666666666667}x\\right)^{3}$"
      ],
      "text/plain": [
       "Polynomial([ 1.07041864e-11, -1.16488662e-11,  1.02545751e-11, -5.64068914e-12], domain=[400., 700.], window=[-1.,  1.])"
      ]
     },
     "execution_count": 77,
     "metadata": {},
     "output_type": "execute_result"
    }
   ],
   "source": [
    " p"
   ]
  },
  {
   "cell_type": "code",
   "execution_count": 78,
   "id": "9badc1e4",
   "metadata": {},
   "outputs": [
    {
     "data": {
      "text/plain": [
       "array([4.57180972e-23])"
      ]
     },
     "execution_count": 78,
     "metadata": {},
     "output_type": "execute_result"
    }
   ],
   "source": [
    "resid"
   ]
  },
  {
   "cell_type": "code",
   "execution_count": 79,
   "id": "755dde39",
   "metadata": {},
   "outputs": [
    {
     "data": {
      "text/plain": [
       "4"
      ]
     },
     "execution_count": 79,
     "metadata": {},
     "output_type": "execute_result"
    }
   ],
   "source": [
    "rank"
   ]
  },
  {
   "cell_type": "code",
   "execution_count": 80,
   "id": "458d0f17",
   "metadata": {},
   "outputs": [
    {
     "data": {
      "text/plain": [
       "array([1.3843828 , 1.32111941, 0.50462215, 0.28893641])"
      ]
     },
     "execution_count": 80,
     "metadata": {},
     "output_type": "execute_result"
    }
   ],
   "source": [
    "sing_val"
   ]
  },
  {
   "cell_type": "code",
   "execution_count": 81,
   "id": "31660e4b",
   "metadata": {},
   "outputs": [
    {
     "data": {
      "text/plain": [
       "2.220446049250313e-13"
      ]
     },
     "execution_count": 81,
     "metadata": {},
     "output_type": "execute_result"
    }
   ],
   "source": [
    "rcond"
   ]
  },
  {
   "attachments": {
    "image.png": {
     "image/png": "[encoded data removed]"
    }
   },
   "cell_type": "markdown",
   "id": "b2723e63",
   "metadata": {},
   "source": [
    "Этот список можно проанализировать, чтобы узнать, насколько точно функция-многочлен соответствует исходным данным. Значение ```resid``` – это сумма квадратов разностей:\n",
    "\n",
    "![image.png](attachment:image.png)\n",
    "\n",
    "Здесь меньшее значение ```resid``` означает более точную подгонку. Значения\n",
    "```rank``` и ```sing_val``` – это ранг и сингулярные значения матрицы, инвертированной\n",
    "в  алгоритме наименьших квадратов для поиска коэффициентов многочлена:\n",
    "плохая обусловленность этой матрицы может привести к весьма неточной подгонке (особенно если степень подгоняемого многочлена слишком высока). Значение ```rcond``` – это коэффициент выравнивания (отсечения) для малых отдельных значений в этой матрице: значения, меньшие этого коэффициента, устанавливаются в ноль в процессе подгонки (для защиты от ложных артефактов, возникающих при ошибке округления), и генерируется исключение ```RankWarning```. Если это происходит, то, возможно, данные слишком загрязнены (в них весьма высок уровень шума) или не точно описываются многочленом заданной степени.\n",
    "Следует отметить, что подгонка методом наименьших квадратов должна всегда\n",
    "выполняться с двойной точностью, а кроме того, следует помнить о переподгонке данных (попытке установить соответствие с функцией со слишком большим\n",
    "количеством коэффициентов, т. е. с многочленом слишком высокого порядка)."
   ]
  },
  {
   "cell_type": "markdown",
   "id": "4d825b6e",
   "metadata": {},
   "source": [
    "**Пример 3**. Прямолинейная наилучшая подгонка – это просто особый случай\n",
    "полиномиальной подгонки методом наименьших квадратов (при ```deg```=1). Рассмотрим\n",
    "следующие данные, полученные при поглощении (абсорбции) ```A``` на пути длиной 5 мм,\n",
    "который проходит ультрафиолетовый свет с  длиной волны  280 нм, протеином,\n",
    "как функцию от концентрации ```[P]```:\n",
    "\n",
    "**Таблица 1**\n",
    "\n",
    "|[P], мкг/мл|A|\n",
    "|:---|:-----|\n",
    "|0|2.287|\n",
    "|20 |3.528|\n",
    "|40|4.336|\n",
    "|120|8.274|\n",
    "|180|12.855|\n",
    "|260|16.085|\n",
    "|400|24.797|\n",
    "|800|49.058|\n",
    "|150|89.400|\n",
    "\n",
    "Предполагается, что поглощение линейно связано с концентрацией протеина: ```A = m[P] + A0```, где ```A0``` – поглощение при отсутствии протеина (например, изза раствора и экспериментальных компонентов).\n",
    "\n",
    "**Листинг 1**. Прямолинейная подгонка данных о поглощении"
   ]
  },
  {
   "cell_type": "code",
   "execution_count": 6,
   "id": "08014b04",
   "metadata": {},
   "outputs": [
    {
     "name": "stdout",
     "output_type": "stream",
     "text": [
      "Raw fit results:\n",
      "1.928961285204283 + 0.058305702102340325 x**1\n",
      "[array([2.47932733]), 2, array([1.26633786, 0.62959385]), 2.220446049250313e-15]\n",
      "Fit: A = 0.058[P] + 1.929 (rms residual = 0.4979)\n"
     ]
    },
    {
     "data": {
      "image/png": "[encoded data removed]",
      "text/plain": [
       "<Figure size 432x288 with 1 Axes>"
      ]
     },
     "metadata": {
      "needs_background": "light"
     },
     "output_type": "display_data"
    }
   ],
   "source": [
    "# eg6-polyfit.py\n",
    "import numpy as np\n",
    "import matplotlib.pyplot as plt\n",
    "Polynomial = np.polynomial.Polynomial\n",
    "# Данные: концентрация conc = [P] и поглощение A.\n",
    "conc = np.array([0, 20, 40, 80, 120, 180, 260, 400, 800, 1500])\n",
    "A = np.array([2.287, 3.528, 4.336, 6.909, 8.274, 12.855, 16.085, 24.797,\n",
    " 49.058, 89.400])\n",
    "cmin, cmax = min(conc), max(conc)\n",
    "pfit, stats = Polynomial.fit(conc, A, 1, full=True, window=(cmin , cmax), domain=(cmin , cmax))\n",
    "print('Raw fit results:', pfit , stats , sep='\\n')\n",
    "A0, m = pfit\n",
    "resid, rank, sing_val, rcond = stats\n",
    "rms = np.sqrt(resid[0]/len(A))\n",
    "print('Fit: A = {:.3f}[P] + {:.3f}'.format(m, A0),\n",
    " '(rms residual = {:.4f})'.format(rms))\n",
    "plt.plot(conc, A, 'o', color='k')\n",
    "plt.plot(conc, pfit(conc), color='k')\n",
    "plt.xlabel('[P] /$\\mathrm{\\mu g\\cdot mL^{-1}}$')\n",
    "plt.ylabel('Absorbance')\n",
    "plt.show()"
   ]
  },
  {
   "cell_type": "markdown",
   "id": "60a38758",
   "metadata": {},
   "source": [
    "Вывод этой программы показывает качественную прямолинейную подгонку для исходных данных"
   ]
  },
  {
   "cell_type": "markdown",
   "id": "a7280092",
   "metadata": {},
   "source": [
    "# Упражнения"
   ]
  },
  {
   "cell_type": "markdown",
   "id": "012f16f4",
   "metadata": {},
   "source": [
    "## Вопросы"
   ]
  },
  {
   "cell_type": "markdown",
   "id": "639ad025",
   "metadata": {},
   "source": [
    "**В 1**. Третья производная от функции многочлена ```P(x) = 3x3 + 2x − 7``` равна ```18```,\n",
    "но почему приведенное ниже вычисление дает результат False?"
   ]
  },
  {
   "cell_type": "code",
   "execution_count": 7,
   "id": "2e3585d6",
   "metadata": {},
   "outputs": [
    {
     "data": {
      "text/plain": [
       "False"
      ]
     },
     "execution_count": 7,
     "metadata": {},
     "output_type": "execute_result"
    }
   ],
   "source": [
    "Polynomial((-7, 2, 0, 3)).deriv(3) == 18"
   ]
  },
  {
   "attachments": {
    "image.png": {
     "image/png": "[encoded data removed]"
    }
   },
   "cell_type": "markdown",
   "id": "0072291b",
   "metadata": {},
   "source": [
    "**В 2**. Найти и классифицировать критические точки многочлена\n",
    "\n",
    "![image.png](attachment:image.png)"
   ]
  },
  {
   "cell_type": "code",
   "execution_count": 11,
   "id": "0c14cd09",
   "metadata": {},
   "outputs": [
    {
     "name": "stdout",
     "output_type": "stream",
     "text": [
      "[[-3.54138127  8.        ]\n",
      " [ 2.54138127  8.        ]]\n",
      "[[ -0.5   179.125]]\n",
      "[]\n"
     ]
    }
   ],
   "source": [
    "p1 = Polynomial([-11,1,1])\n",
    "p2 = Polynomial([-7,1,1])\n",
    "p = p1**2 + p2**2\n",
    "\n",
    "dp = p.deriv()\n",
    "stationary_points = dp.roots()\n",
    "\n",
    "ddp = dp.deriv()\n",
    "\n",
    "minima = stationary_points[ddp(stationary_points) > 0]\n",
    "maxima = stationary_points[ddp(stationary_points) < 0]\n",
    "\n",
    "inflections = stationary_points[np.isclose(ddp(stationary_points),0)]\n",
    "\n",
    "print(np.array((minima, p(minima))).T)\n",
    "\n",
    "print(np.array((maxima, p(maxima))).T)\n",
    "\n",
    "print(np.array((inflections, p(inflections))).T)"
   ]
  }
 ],
 "metadata": {
  "kernelspec": {
   "display_name": "Python 3",
   "language": "python",
   "name": "python3"
  },
  "language_info": {
   "codemirror_mode": {
    "name": "ipython",
    "version": 3
   },
   "file_extension": ".py",
   "mimetype": "text/x-python",
   "name": "python",
   "nbconvert_exporter": "python",
   "pygments_lexer": "ipython3",
   "version": "3.8.8"
  }
 },
 "nbformat": 4,
 "nbformat_minor": 5
}
