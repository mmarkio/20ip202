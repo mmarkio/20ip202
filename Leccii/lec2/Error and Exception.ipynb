{
 "cells": [
  {
   "cell_type": "markdown",
   "id": "69731248",
   "metadata": {},
   "source": [
    "# Ошибки и исключения"
   ]
  },
  {
   "cell_type": "markdown",
   "id": "c8e476af",
   "metadata": {},
   "source": [
    "Python различает два типа ошибок: синтаксические ошибки и прочие исключения (exceptions). Синтаксические ошибки – это ошибки в грамматике языка, которые выявляются перед выполнением программы. Исключения – это\n",
    "ошибки времени выполнения (runtime errors): обычно они возникают при попытках выполнения недопустимой операции с некоторым элементом данных.\n",
    "Различие заключается в том, что синтаксические ошибки всегда являются критическими: компилятор Python не в силах что-либо сделать, если программа\n",
    "не соответствует грамматике языка. Исключения – это условия, возникающие\n",
    "во время выполнения Python-программы (например, при попытке деления на\n",
    "ноль),поэтому существует механизм «перехвата» и аккуратной обработки этих\n",
    "условий без прекращения выполнения программы."
   ]
  },
  {
   "cell_type": "markdown",
   "id": "4079c884",
   "metadata": {},
   "source": [
    "## Синтаксические ошибки"
   ]
  },
  {
   "cell_type": "markdown",
   "id": "34f17946",
   "metadata": {},
   "source": [
    "Синтаксические ошибки обнаруживаются компилятором Python, при этом выводится сообщение с указанием места обнаружения ошибки. Например:"
   ]
  },
  {
   "cell_type": "code",
   "execution_count": 3,
   "id": "4cb7a1eb",
   "metadata": {},
   "outputs": [
    {
     "ename": "SyntaxError",
     "evalue": "invalid syntax (2701349166.py, line 1)",
     "output_type": "error",
     "traceback": [
      "\u001b[1;36m  Input \u001b[1;32mIn [3]\u001b[1;36m\u001b[0m\n\u001b[1;33m    for lambda in range(8):\u001b[0m\n\u001b[1;37m               ^\u001b[0m\n\u001b[1;31mSyntaxError\u001b[0m\u001b[1;31m:\u001b[0m invalid syntax\n"
     ]
    }
   ],
   "source": [
    "for lambda in range(8):\n",
    "    for lambda in range(8):\n"
   ]
  },
  {
   "cell_type": "markdown",
   "id": "f5949b9d",
   "metadata": {},
   "source": [
    "Так как lambda – зарезервированное ключевое слово, его нельзя использовать как имя переменной. Компилятор обнаружил его там, где ожидалось имя\n",
    "переменной, поэтому возникла синтаксическая ошибка. Другой случай:"
   ]
  },
  {
   "cell_type": "code",
   "execution_count": 4,
   "id": "dc4d5f18",
   "metadata": {},
   "outputs": [
    {
     "ename": "SyntaxError",
     "evalue": "invalid syntax (505615095.py, line 1)",
     "output_type": "error",
     "traceback": [
      "\u001b[1;36m  Input \u001b[1;32mIn [4]\u001b[1;36m\u001b[0m\n\u001b[1;33m    for f in range(8:\u001b[0m\n\u001b[1;37m                    ^\u001b[0m\n\u001b[1;31mSyntaxError\u001b[0m\u001b[1;31m:\u001b[0m invalid syntax\n"
     ]
    }
   ],
   "source": [
    "for f in range(8:"
   ]
  },
  {
   "cell_type": "markdown",
   "id": "c2c5164c",
   "metadata": {},
   "source": [
    "Здесь синтаксическая ошибка возникла, потому что во встроенную функцию range должен быть передан аргумент как целое число в круглых скобках:\n",
    "двоеточие нарушает синтаксис вызова функций, поэтому Python диагностирует синтаксическую ошибку.\n",
    "Поскольку строки кода Python могут быть разделены внутри скобок (\"()\",\n",
    "\"[]\", \"{}\"), инструкция, разделенная на несколько строк, иногда может приводить к выводу сообщения SynatxError в некотором месте, отличающемся от\n",
    "настоящего места расположения ошибки, например:\n"
   ]
  },
  {
   "cell_type": "code",
   "execution_count": 5,
   "id": "911c943f",
   "metadata": {},
   "outputs": [
    {
     "ename": "SyntaxError",
     "evalue": "invalid syntax (804903482.py, line 2)",
     "output_type": "error",
     "traceback": [
      "\u001b[1;36m  Input \u001b[1;32mIn [5]\u001b[1;36m\u001b[0m\n\u001b[1;33m    b = 5\u001b[0m\n\u001b[1;37m      ^\u001b[0m\n\u001b[1;31mSyntaxError\u001b[0m\u001b[1;31m:\u001b[0m invalid syntax\n"
     ]
    }
   ],
   "source": [
    "a = [1, 2, 3, 4,\n",
    "b = 5"
   ]
  },
  {
   "cell_type": "markdown",
   "id": "c4ddfe0b",
   "metadata": {},
   "source": [
    "Здесь инструкция ```b = 5``` синтаксически правильная: ошибка возникает из-за отсутствия закрывающей квадратной скобки в  предыдущем определении списка – командная оболочка Python считает, что строка является продолжением предыдущей строки, и обозначает это многоточием в начале строки (…).\n",
    "Существуют два типа синтаксических ошибок SyntaxError, заслуживающих особого внимания: ошибка ```IndentationError``` возникает при неправильном форматировании (со сдвигом вправо) блока кода, а ошибка ```TabError``` возникает, когда символы табуляции и пробелы используются совместно, но несогласованно для сдвига блока кода. Этой ошибки можно избежать, если для форматирования кода использовать только\n",
    "пробелы."
   ]
  },
  {
   "cell_type": "markdown",
   "id": "45d4c1db",
   "metadata": {},
   "source": [
    "**Пример 1**. Самая частая синтаксическая ошибка, с которой встречаются начинающие программисты на Python, – использование оператора присваивания = вместо\n",
    "оператора сравнения на равенство == в условном выражении:"
   ]
  },
  {
   "cell_type": "code",
   "execution_count": 6,
   "id": "3b9e24b3",
   "metadata": {},
   "outputs": [
    {
     "ename": "SyntaxError",
     "evalue": "invalid syntax (3955256804.py, line 1)",
     "output_type": "error",
     "traceback": [
      "\u001b[1;36m  Input \u001b[1;32mIn [6]\u001b[1;36m\u001b[0m\n\u001b[1;33m    if a = 5:\u001b[0m\n\u001b[1;37m         ^\u001b[0m\n\u001b[1;31mSyntaxError\u001b[0m\u001b[1;31m:\u001b[0m invalid syntax\n"
     ]
    }
   ],
   "source": [
    "if a = 5:"
   ]
  },
  {
   "cell_type": "markdown",
   "id": "bfe93783",
   "metadata": {},
   "source": [
    "Это присваивание ```a = 5``` не возвращает значение (данная операция просто\n",
    "присваивает целочисленный объект 5 имени переменной a), следовательно,\n",
    "здесь отсутствует объект, соответствующий логическому значению ```True``` или\n",
    "```False```, который может использовать оператор ```if```, следовательно, возникает\n",
    "синтаксическая ошибка ```SyntaxError```. Это полная противоположность концепции, принятой в языке C, в котором операция присваивания возвращает значение, присваиваемое переменной (т.  е. инструкция присваивания ```a = 5```\n",
    "вычисляет значение  5, отличное от нуля, следовательно, равнозначное логическому значению True. В языке C нет встроенных логических значений True и False.Любое отличающееся от\n",
    "нуля значение считается истинным, а нулевое значение – ложным). Такое поведение является источником многих\n",
    "ошибок, которые очень трудно обнаружить, и  уязвимостей с  точки зрения\n",
    "безопасности, поэтому оно преднамеренно исключено из языка Python на\n",
    "этапе проектирования."
   ]
  },
  {
   "cell_type": "markdown",
   "id": "42e79b5b",
   "metadata": {},
   "source": [
    "#  Исключения"
   ]
  },
  {
   "cell_type": "markdown",
   "id": "e5e611f3",
   "metadata": {},
   "source": [
    "Исключение (exception) возникает при выполнении синтаксически правильного выражения, в котором встречается ошибка времени выполнения (runtime\n",
    "error). Существуют различные типы встроенных исключений, а  кроме того,\n",
    "возможны специализированные исключения, определяемые программистом,\n",
    "если это необходимо. Если исключение не выполняет «перехват» с использованием конструкции try…except, описанной ниже, то Python выводит сообщение об ошибке (обычно осмысленное и полезное). Если исключение возникает\n",
    "в теле функции (которая, возможно, в свою очередь, вызвана другой функцией и т. д.), то предъявляемое сообщение принимает форму трассировки стека в обратном направлении (stack traceback): выводится хронология вызовов\n",
    "функций, которые привели к ошибке, так что можно определить место ее возникновения при выполнении программы."
   ]
  },
  {
   "cell_type": "markdown",
   "id": "a16b1a0a",
   "metadata": {},
   "source": [
    "## Исключение NameError"
   ]
  },
  {
   "cell_type": "code",
   "execution_count": 7,
   "id": "b1dfe328",
   "metadata": {},
   "outputs": [
    {
     "ename": "NameError",
     "evalue": "name 'z' is not defined",
     "output_type": "error",
     "traceback": [
      "\u001b[1;31m---------------------------------------------------------------------------\u001b[0m",
      "\u001b[1;31mNameError\u001b[0m                                 Traceback (most recent call last)",
      "Input \u001b[1;32mIn [7]\u001b[0m, in \u001b[0;36m<cell line: 1>\u001b[1;34m()\u001b[0m\n\u001b[1;32m----> 1\u001b[0m \u001b[38;5;28mprint\u001b[39m(\u001b[38;5;124m'\u001b[39m\u001b[38;5;124m4z = \u001b[39m\u001b[38;5;124m'\u001b[39m, \u001b[38;5;241m4\u001b[39m\u001b[38;5;241m*\u001b[39m\u001b[43mz\u001b[49m)\n",
      "\u001b[1;31mNameError\u001b[0m: name 'z' is not defined"
     ]
    }
   ],
   "source": [
    "print('4z = ', 4*z)"
   ]
  },
  {
   "cell_type": "markdown",
   "id": "66be3901",
   "metadata": {},
   "source": [
    "Исключение ```NameError``` возникает, когда используется имя переменной, которое не было ранее определено: в приведенном примере команда ```print``` правильная, но Python не знает, на что указывает идентификатор ```z```."
   ]
  },
  {
   "cell_type": "markdown",
   "id": "6633e1c2",
   "metadata": {},
   "source": [
    "## Исключение ZeroDivisionError"
   ]
  },
  {
   "cell_type": "code",
   "execution_count": 9,
   "id": "dfb80131",
   "metadata": {},
   "outputs": [
    {
     "ename": "ZeroDivisionError",
     "evalue": "division by zero",
     "output_type": "error",
     "traceback": [
      "\u001b[1;31m---------------------------------------------------------------------------\u001b[0m",
      "\u001b[1;31mZeroDivisionError\u001b[0m                         Traceback (most recent call last)",
      "Input \u001b[1;32mIn [9]\u001b[0m, in \u001b[0;36m<cell line: 2>\u001b[1;34m()\u001b[0m\n\u001b[0;32m      1\u001b[0m a, b \u001b[38;5;241m=\u001b[39m \u001b[38;5;241m0\u001b[39m, \u001b[38;5;241m5\u001b[39m\n\u001b[1;32m----> 2\u001b[0m \u001b[43mb\u001b[49m\u001b[43m \u001b[49m\u001b[38;5;241;43m/\u001b[39;49m\u001b[43m \u001b[49m\u001b[43ma\u001b[49m\n",
      "\u001b[1;31mZeroDivisionError\u001b[0m: division by zero"
     ]
    }
   ],
   "source": [
    "a, b = 0, 5\n",
    "b / a"
   ]
  },
  {
   "cell_type": "markdown",
   "id": "9bba63d5",
   "metadata": {},
   "source": [
    "Деление на ноль не является определенной математической операцией."
   ]
  },
  {
   "cell_type": "markdown",
   "id": "8e10b86d",
   "metadata": {},
   "source": [
    "## Исключения TypeError и ValueError"
   ]
  },
  {
   "cell_type": "markdown",
   "id": "e9c1f9e5",
   "metadata": {},
   "source": [
    "Исключение ```TypeError``` генерируется, если в выражении или в функции используется некорректный тип. Например:"
   ]
  },
  {
   "cell_type": "code",
   "execution_count": 11,
   "id": "61a4a874",
   "metadata": {},
   "outputs": [
    {
     "ename": "TypeError",
     "evalue": "can only concatenate str (not \"int\") to str",
     "output_type": "error",
     "traceback": [
      "\u001b[1;31m---------------------------------------------------------------------------\u001b[0m",
      "\u001b[1;31mTypeError\u001b[0m                                 Traceback (most recent call last)",
      "Input \u001b[1;32mIn [11]\u001b[0m, in \u001b[0;36m<cell line: 1>\u001b[1;34m()\u001b[0m\n\u001b[1;32m----> 1\u001b[0m \u001b[38;5;124;43m'\u001b[39;49m\u001b[38;5;124;43m00\u001b[39;49m\u001b[38;5;124;43m'\u001b[39;49m\u001b[43m \u001b[49m\u001b[38;5;241;43m+\u001b[39;49m\u001b[43m \u001b[49m\u001b[38;5;241;43m7\u001b[39;49m\n",
      "\u001b[1;31mTypeError\u001b[0m: can only concatenate str (not \"int\") to str"
     ]
    }
   ],
   "source": [
    "'00' + 7"
   ]
  },
  {
   "cell_type": "markdown",
   "id": "49a15c9c",
   "metadata": {},
   "source": [
    "Python – (достаточно) строго типизированный язык, поэтому он не позволяет добавлять строку к целому числу.\n",
    "С другой стороны, исключение ```ValueError``` возникает, когда используемый\n",
    "объект имеет правильный тип, но недопустимое значение:"
   ]
  },
  {
   "cell_type": "code",
   "execution_count": 12,
   "id": "aec1d97b",
   "metadata": {},
   "outputs": [
    {
     "ename": "ValueError",
     "evalue": "could not convert string to float: 'hello'",
     "output_type": "error",
     "traceback": [
      "\u001b[1;31m---------------------------------------------------------------------------\u001b[0m",
      "\u001b[1;31mValueError\u001b[0m                                Traceback (most recent call last)",
      "Input \u001b[1;32mIn [12]\u001b[0m, in \u001b[0;36m<cell line: 1>\u001b[1;34m()\u001b[0m\n\u001b[1;32m----> 1\u001b[0m \u001b[38;5;28;43mfloat\u001b[39;49m\u001b[43m(\u001b[49m\u001b[38;5;124;43m'\u001b[39;49m\u001b[38;5;124;43mhello\u001b[39;49m\u001b[38;5;124;43m'\u001b[39;49m\u001b[43m)\u001b[49m\n",
      "\u001b[1;31mValueError\u001b[0m: could not convert string to float: 'hello'"
     ]
    }
   ],
   "source": [
    "float('hello')"
   ]
  },
  {
   "cell_type": "markdown",
   "id": "8b3e9d77",
   "metadata": {},
   "source": [
    "Встроенная функция ```float``` принимает строку как аргумент, поэтому выражение float('hello') не  приводит к  ошибке ```TypeError```: исключение возникает, потому что конкретная строка 'hello' не может быть преобразована\n",
    "в осмысленное число с плавающей точкой. Более сложный случай:"
   ]
  },
  {
   "cell_type": "code",
   "execution_count": 13,
   "id": "0520fbe1",
   "metadata": {},
   "outputs": [
    {
     "ename": "ValueError",
     "evalue": "invalid literal for int() with base 10: '7.0'",
     "output_type": "error",
     "traceback": [
      "\u001b[1;31m---------------------------------------------------------------------------\u001b[0m",
      "\u001b[1;31mValueError\u001b[0m                                Traceback (most recent call last)",
      "Input \u001b[1;32mIn [13]\u001b[0m, in \u001b[0;36m<cell line: 1>\u001b[1;34m()\u001b[0m\n\u001b[1;32m----> 1\u001b[0m \u001b[38;5;28;43mint\u001b[39;49m\u001b[43m(\u001b[49m\u001b[38;5;124;43m'\u001b[39;49m\u001b[38;5;124;43m7.0\u001b[39;49m\u001b[38;5;124;43m'\u001b[39;49m\u001b[43m)\u001b[49m\n",
      "\u001b[1;31mValueError\u001b[0m: invalid literal for int() with base 10: '7.0'"
     ]
    }
   ],
   "source": [
    "int('7.0')"
   ]
  },
  {
   "cell_type": "markdown",
   "id": "049d2427",
   "metadata": {},
   "source": [
    "Строка, выглядящая как число типа ```float```, не может быть напрямую преобразована в тип int: для получения требуемого результата необходимо использовать выражение ```int(float('7.0'))```.\n",
    "В табл. 1 приведен список наиболее часто встречающихся встроенных исключений с краткими описаниями."
   ]
  },
  {
   "cell_type": "markdown",
   "id": "be8d0214",
   "metadata": {},
   "source": [
    "**Таблица 1**. Часто встречающиеся исключения Python"
   ]
  },
  {
   "cell_type": "markdown",
   "id": "ebda7b1e",
   "metadata": {},
   "source": [
    "|Исключение|Причина и описание|\n",
    "|:---------|:-----------------|\n",
    "|FileNotFoundError|Попытка открыть файл или каталог, который не существует, – это исключение представляет конкретный тип ошибки OSError|\n",
    "|IndexError|Индексирование последовательности (например, списка или строки) с использованием индекса, выходящего за пределы диапазона|\n",
    "|KeyError |Обращение по индексу к словарю с использованием значения ключа, которое не существует в этом словаре|\n",
    "|NameError|Ссылка на локальное или глобальное имя переменной, которое не определено предварительно|\n",
    "|TypeError|Попытка использования объекта несоответствующего типа как аргумента встроенной операции или функции|\n",
    "|ValueError|Попытка использования объекта корректного типа, но имеющего недопустимое значение, как аргумента встроенной операции или функции|\n",
    "|ZeroDivisionError|Попытка деления на ноль (либо явно (с использованием оператора / или //), либо как части операции получения остатка %)|\n",
    "|SystemExit|Генерируется функцией sys.exit – если это исключение не обрабатывается, то функция sys.exit выполняет выход из интерпретатора Python\n",
    "|\n",
    "        "
   ]
  },
  {
   "cell_type": "markdown",
   "id": "55ce6dcf",
   "metadata": {},
   "source": [
    "**Пример 2**. Если исключение сгенерировано, но не обработано,\n",
    "то Python выводит отчет с обратной трассировкой (traceback report), показывающий,\n",
    "где именно в потоке выполнения программы возникла данная ошибка. Это особенно\n",
    "удобно, когда ошибка возникает во вложенных функциях или внутри импортированных модулей. Например, рассмотрим следующую короткую программу:"
   ]
  },
  {
   "cell_type": "code",
   "execution_count": 15,
   "id": "0c51721e",
   "metadata": {},
   "outputs": [
    {
     "name": "stdout",
     "output_type": "stream",
     "text": [
      "sin(1.2) = 0.9320390859672263\n",
      "cos(1.2) = 0.3623577544766736\n",
      "tan(1.2) = 2.5721516221263188\n"
     ]
    },
    {
     "ename": "ValueError",
     "evalue": "math domain error",
     "output_type": "error",
     "traceback": [
      "\u001b[1;31m---------------------------------------------------------------------------\u001b[0m",
      "\u001b[1;31mValueError\u001b[0m                                Traceback (most recent call last)",
      "Input \u001b[1;32mIn [15]\u001b[0m, in \u001b[0;36m<cell line: 13>\u001b[1;34m()\u001b[0m\n\u001b[0;32m     10\u001b[0m     trig(x)\n\u001b[0;32m     11\u001b[0m     invtrig(x)\n\u001b[1;32m---> 13\u001b[0m \u001b[43mfunc\u001b[49m\u001b[43m(\u001b[49m\u001b[38;5;241;43m1.2\u001b[39;49m\u001b[43m)\u001b[49m\n",
      "Input \u001b[1;32mIn [15]\u001b[0m, in \u001b[0;36mfunc\u001b[1;34m(x)\u001b[0m\n\u001b[0;32m      9\u001b[0m         \u001b[38;5;28mprint\u001b[39m(\u001b[38;5;124m'\u001b[39m\u001b[38;5;132;01m{f}\u001b[39;00m\u001b[38;5;124m(\u001b[39m\u001b[38;5;132;01m{x}\u001b[39;00m\u001b[38;5;124m) = \u001b[39m\u001b[38;5;132;01m{res}\u001b[39;00m\u001b[38;5;124m'\u001b[39m\u001b[38;5;241m.\u001b[39mformat(f\u001b[38;5;241m=\u001b[39mf\u001b[38;5;241m.\u001b[39m\u001b[38;5;18m__name__\u001b[39m , x\u001b[38;5;241m=\u001b[39mx, res\u001b[38;5;241m=\u001b[39mf(x)))\n\u001b[0;32m     10\u001b[0m trig(x)\n\u001b[1;32m---> 11\u001b[0m \u001b[43minvtrig\u001b[49m\u001b[43m(\u001b[49m\u001b[43mx\u001b[49m\u001b[43m)\u001b[49m\n",
      "Input \u001b[1;32mIn [15]\u001b[0m, in \u001b[0;36mfunc.<locals>.invtrig\u001b[1;34m(x)\u001b[0m\n\u001b[0;32m      7\u001b[0m \u001b[38;5;28;01mdef\u001b[39;00m \u001b[38;5;21minvtrig\u001b[39m(x):\n\u001b[0;32m      8\u001b[0m     \u001b[38;5;28;01mfor\u001b[39;00m f \u001b[38;5;129;01min\u001b[39;00m (math\u001b[38;5;241m.\u001b[39masin , math\u001b[38;5;241m.\u001b[39macos , math\u001b[38;5;241m.\u001b[39matan):\n\u001b[1;32m----> 9\u001b[0m         \u001b[38;5;28mprint\u001b[39m(\u001b[38;5;124m'\u001b[39m\u001b[38;5;132;01m{f}\u001b[39;00m\u001b[38;5;124m(\u001b[39m\u001b[38;5;132;01m{x}\u001b[39;00m\u001b[38;5;124m) = \u001b[39m\u001b[38;5;132;01m{res}\u001b[39;00m\u001b[38;5;124m'\u001b[39m\u001b[38;5;241m.\u001b[39mformat(f\u001b[38;5;241m=\u001b[39mf\u001b[38;5;241m.\u001b[39m\u001b[38;5;18m__name__\u001b[39m , x\u001b[38;5;241m=\u001b[39mx, res\u001b[38;5;241m=\u001b[39m\u001b[43mf\u001b[49m\u001b[43m(\u001b[49m\u001b[43mx\u001b[49m\u001b[43m)\u001b[49m))\n",
      "\u001b[1;31mValueError\u001b[0m: math domain error"
     ]
    }
   ],
   "source": [
    "# exception-test.py\n",
    "import math\n",
    "def func(x):\n",
    "    def trig(x):\n",
    "        for f in (math.sin, math.cos, math.tan):\n",
    "            print('{f}({x}) = {res}'.format(f=f.__name__ , x=x, res=f(x)))\n",
    "    def invtrig(x):\n",
    "        for f in (math.asin , math.acos , math.atan):\n",
    "            print('{f}({x}) = {res}'.format(f=f.__name__ , x=x, res=f(x)))\n",
    "    trig(x)\n",
    "    invtrig(x)\n",
    "\n",
    "func(1.2)"
   ]
  },
  {
   "cell_type": "markdown",
   "id": "a333b137",
   "metadata": {},
   "source": [
    "Функция ```func``` передает свой аргумент x в две вложенные в нее функции. Первая вложенная функция ```trig``` выполняется без проблем, но во второй вложенной\n",
    "функции ```invtrig``` очевидно,что значение x находится вне домена (диапазона допустимых значений) для обратнойтригонометрической функции арксинус ```asin```"
   ]
  },
  {
   "cell_type": "markdown",
   "id": "8bc560d5",
   "metadata": {},
   "source": [
    "# Обработка и генерация исключений"
   ]
  },
  {
   "cell_type": "markdown",
   "id": "62d94027",
   "metadata": {},
   "source": [
    "## Обработка исключений"
   ]
  },
  {
   "cell_type": "markdown",
   "id": "fd412a5c",
   "metadata": {},
   "source": [
    "Часто программа должна обрабатывать данные таким способом, который может стать причиной возникновения исключения. Предположим, что существует такое условие, которое не приводит к аварийному завершению программы\n",
    "с ошибкой, но требует «аккуратной» обработки в определенном смысле (некорректные точки данных игнорируются,результатделения на ноль отбрасывается\n",
    "и т. д.). В подобной ситуации возможно применение двух методик: проверка\n",
    "значения объекта данных перед его использованием или обработка любого\n",
    "сгенерированного исключения перед возобновлением выполнения программы. В Python применяется вторая методика, краткой характеристикой которой\n",
    "является выражение ```EAFP: «Itis EasiertoAsk Forgiveness than to seek Permission»```\n",
    "(Проще попросить прощения, чем пытаться получить разрешение).\n",
    "Для перехвата исключения в  блоке кода необходимо поместить этот блок\n",
    "кода в конструкцию ```try```: , а код обработки любых сгенерированных исключений – в конструкцию ```except```:. Например:\n"
   ]
  },
  {
   "cell_type": "code",
   "execution_count": 17,
   "id": "34fddafc",
   "metadata": {},
   "outputs": [
    {
     "name": "stdout",
     "output_type": "stream",
     "text": [
      "1 / 0 is not defined.\n"
     ]
    }
   ],
   "source": [
    "x = 0\n",
    "try:\n",
    "    y = 1 / x\n",
    "    print('1 /', x, ' = ',y)\n",
    "except ZeroDivisionError:\n",
    "    print('1 / 0 is not defined.')"
   ]
  },
  {
   "cell_type": "markdown",
   "id": "0a5f4a8b",
   "metadata": {},
   "source": [
    "Не требуется никаких проверок: просто продолжается выполнение и  вычисляется выражение ```1/x```, а ошибка, возникающая при делении на ноль, обрабатывается при необходимости. Выполнение программы продолжается\n",
    "после блока ```except``` вне зависимости от того, было сгенерировано исключение\n",
    "```ZeroDivisionError``` или нет. Если возникает другое исключение (например, ```NameError```, если переменная ```x``` не определена), то оно не будет перехвачено – это\n",
    "необработанное исключение (unhandled exception), поэтому выводится сообщение об ошибке.\n",
    "Для обработки более одного исключения в одном блоке ```except``` необходимо\n",
    "перечислить требуемые исключения в кортеже (обязательно в скобках)."
   ]
  },
  {
   "cell_type": "code",
   "execution_count": 21,
   "id": "ffe94251",
   "metadata": {},
   "outputs": [
    {
     "name": "stdout",
     "output_type": "stream",
     "text": [
      "x is zero or undefined!\n"
     ]
    }
   ],
   "source": [
    "x = 0\n",
    "try:\n",
    "    y = 1. / x\n",
    "    print('1 /', x, ' = ',y)\n",
    "except (ZeroDivisionError , NameError):\n",
    "    print('x is zero or undefined!')"
   ]
  },
  {
   "cell_type": "markdown",
   "id": "40e5ad2c",
   "metadata": {},
   "source": [
    "Для отдельной обработки каждого исключения требуется несколько блоков\n",
    "```except```:"
   ]
  },
  {
   "cell_type": "code",
   "execution_count": 22,
   "id": "88f9493a",
   "metadata": {},
   "outputs": [
    {
     "name": "stdout",
     "output_type": "stream",
     "text": [
      "1 / 0 is not defined.\n"
     ]
    }
   ],
   "source": [
    "try:\n",
    "    y = 1. / x\n",
    "    print('1 /', x, ' = ',y)\n",
    "except ZeroDivisionError:\n",
    "    print('1 / 0 is not defined.')\n",
    "except NameError:\n",
    "    print('x is not defined')\n"
   ]
  },
  {
   "cell_type": "markdown",
   "id": "c5d2424b",
   "metadata": {},
   "source": [
    "Предупреждение: может встречаться следующий тип конструкции:\n",
    "```\n",
    "try:\n",
    " [выполняются какие-то инструкции]\n",
    "except: # Никогда так не делайте!\n",
    " pass\n",
    " ```"
   ]
  },
  {
   "cell_type": "markdown",
   "id": "16c0307c",
   "metadata": {},
   "source": [
    "Здесь выполняются инструкции в блоке ```try```, но игнорируются любые сгенерированные исключения – вообще говоря, это чрезвычайно неразумное\n",
    "решение, так как подобный код очень трудно сопровождать и  отлаживать\n",
    "(если в таком коде возникают ошибки, то вы не получите никакой информации о них). Главная цель – перехват конкретных исключений и их правильная обработка, позволяющая «проявляться» любым другим исключениям, чтобы их также можно было обработать (или не обрабатывать) другими блоками ```except```.\n",
    "В конструкции ```try…except``` имеются два дополнительных необязательных\n",
    "ключевых слова (которые при необходимости должны следовать за всеми существующими блоками ```except```). Инструкции в блоке ключевого слова ```finally```\n",
    "выполняются всегда вне зависимости от того, было сгенерировано исключение\n",
    "или нет. Инструкции в блоке ключевого слова ```else``` выполняются, только если\n",
    "исключение не было сгенерировано."
   ]
  },
  {
   "cell_type": "markdown",
   "id": "08263459",
   "metadata": {},
   "source": [
    "## Генерация исключений"
   ]
  },
  {
   "cell_type": "markdown",
   "id": "71bdf017",
   "metadata": {},
   "source": [
    "Обычно исключение генерируется интерпретатором Python как результат некоторого (предусмотренного или непредвиденного) поведения программы.\n",
    "Но иногда требуется, чтобы программа сама сгенерировала конкретное исключение при выполнении определенного условия. Ключевое слово raise позволяет программе принудительно сгенерировать специальное исключение\n",
    "и определить особое сообщение или другие данные, связанные с этим исключением. Например:"
   ]
  },
  {
   "cell_type": "code",
   "execution_count": 24,
   "id": "09492817",
   "metadata": {},
   "outputs": [
    {
     "ename": "ValueError",
     "evalue": "n must be even!",
     "output_type": "error",
     "traceback": [
      "\u001b[1;31m---------------------------------------------------------------------------\u001b[0m",
      "\u001b[1;31mValueError\u001b[0m                                Traceback (most recent call last)",
      "Input \u001b[1;32mIn [24]\u001b[0m, in \u001b[0;36m<cell line: 2>\u001b[1;34m()\u001b[0m\n\u001b[0;32m      1\u001b[0m n \u001b[38;5;241m=\u001b[39m \u001b[38;5;241m3\u001b[39m\n\u001b[0;32m      2\u001b[0m \u001b[38;5;28;01mif\u001b[39;00m n \u001b[38;5;241m%\u001b[39m \u001b[38;5;241m2\u001b[39m:\n\u001b[1;32m----> 3\u001b[0m     \u001b[38;5;28;01mraise\u001b[39;00m \u001b[38;5;167;01mValueError\u001b[39;00m(\u001b[38;5;124m'\u001b[39m\u001b[38;5;124mn must be even!\u001b[39m\u001b[38;5;124m'\u001b[39m)\n",
      "\u001b[1;31mValueError\u001b[0m: n must be even!"
     ]
    }
   ],
   "source": [
    "n = 3\n",
    "if n % 2:\n",
    "    raise ValueError('n must be even!')\n",
    "# Здесь можно продолжать выполнение инструкций, точно зная, что n - четное число."
   ]
  },
  {
   "cell_type": "markdown",
   "id": "80a8df4f",
   "metadata": {},
   "source": [
    "Связанное с ```raise``` ключевое слово ```assert``` вычисляет условное выражение\n",
    "и генерирует исключение ```AssertionError```, если при вычислении условного выражения не получен результат, равнозначный ```True```. Инструкции ```assert``` могут оказаться полезными для проверки некоторого весьма важного условия в конкретный момент выполнения программы, что часто удобно при отладке."
   ]
  },
  {
   "cell_type": "code",
   "execution_count": 25,
   "id": "2141f96f",
   "metadata": {},
   "outputs": [],
   "source": [
    "assert 2 == 2 # [Нет исключения]: 2 == 2 - результат True, поэтому ничего не происходит."
   ]
  },
  {
   "cell_type": "code",
   "execution_count": 26,
   "id": "a7209c1d",
   "metadata": {},
   "outputs": [
    {
     "ename": "AssertionError",
     "evalue": "",
     "output_type": "error",
     "traceback": [
      "\u001b[1;31m---------------------------------------------------------------------------\u001b[0m",
      "\u001b[1;31mAssertionError\u001b[0m                            Traceback (most recent call last)",
      "Input \u001b[1;32mIn [26]\u001b[0m, in \u001b[0;36m<cell line: 1>\u001b[1;34m()\u001b[0m\n\u001b[1;32m----> 1\u001b[0m \u001b[38;5;28;01massert\u001b[39;00m \u001b[38;5;241m1\u001b[39m \u001b[38;5;241m==\u001b[39m \u001b[38;5;241m2\u001b[39m\n",
      "\u001b[1;31mAssertionError\u001b[0m: "
     ]
    }
   ],
   "source": [
    "assert 1 == 2 # Будет сгенерировано исключение AssertionError."
   ]
  },
  {
   "cell_type": "markdown",
   "id": "c5f4bdb5",
   "metadata": {},
   "source": [
    "Синтаксическая конструкция ```assert expr1, expr2``` передает выражение ```expr2```\n",
    "(обычно сообщение об ошибке) в исключение ```AssertionError```:"
   ]
  },
  {
   "cell_type": "code",
   "execution_count": 27,
   "id": "ecc0988a",
   "metadata": {},
   "outputs": [
    {
     "ename": "AssertionError",
     "evalue": "One does not equal two",
     "output_type": "error",
     "traceback": [
      "\u001b[1;31m---------------------------------------------------------------------------\u001b[0m",
      "\u001b[1;31mAssertionError\u001b[0m                            Traceback (most recent call last)",
      "Input \u001b[1;32mIn [27]\u001b[0m, in \u001b[0;36m<cell line: 1>\u001b[1;34m()\u001b[0m\n\u001b[1;32m----> 1\u001b[0m \u001b[38;5;28;01massert\u001b[39;00m \u001b[38;5;241m1\u001b[39m \u001b[38;5;241m==\u001b[39m \u001b[38;5;241m2\u001b[39m, \u001b[38;5;124m'\u001b[39m\u001b[38;5;124mOne does not equal two\u001b[39m\u001b[38;5;124m'\u001b[39m\n",
      "\u001b[1;31mAssertionError\u001b[0m: One does not equal two"
     ]
    }
   ],
   "source": [
    "assert 1 == 2, 'One does not equal two'"
   ]
  },
  {
   "cell_type": "markdown",
   "id": "3fdf6bae",
   "metadata": {},
   "source": [
    "Python – язык с  динамической типизацией, поэтому допустима передача\n",
    "аргументов любого типа в функцию, даже если эта функция ожидает аргумент\n",
    "конкретного типа. Иногда необходимо проверить корректность типа объекта\n",
    "аргумента перед его использованием, и для этого также можно использовать\n",
    "конструкцию ```assert```."
   ]
  },
  {
   "cell_type": "markdown",
   "id": "4aeeb1a1",
   "metadata": {},
   "source": [
    "**Пример 3**. Приведенная ниже функция возвращает представление в виде строки двумерного (2D) или трехмерного (3D) вектора, который обязательно должен быть\n",
    "представлен как список (list) или кортеж (tuple), содержащий два или три элемента."
   ]
  },
  {
   "cell_type": "code",
   "execution_count": 29,
   "id": "b13228a5",
   "metadata": {},
   "outputs": [],
   "source": [
    "def str_vector(v):\n",
    "    assert type(v) is list or type(v) is tuple ,\\\n",
    "    'argument to str_vector must be a list or tuple'\n",
    "    assert len(v) in (2, 3),\\\n",
    "    'vector must be 2D or 3D in str_vector'\n",
    "    unit_vectors = ['i', 'j', 'k']\n",
    "    s = []\n",
    "    for i, component in enumerate(v):\n",
    "        s.append('{}{}'.format(component , unit_vectors[i]))\n",
    "    return '+'.join(s).replace('+-', '-')"
   ]
  },
  {
   "cell_type": "code",
   "execution_count": 31,
   "id": "22588835",
   "metadata": {},
   "outputs": [
    {
     "data": {
      "text/plain": [
       "'2i+3j+4k'"
      ]
     },
     "execution_count": 31,
     "metadata": {},
     "output_type": "execute_result"
    }
   ],
   "source": [
    "str_vector([2,3,4])"
   ]
  },
  {
   "cell_type": "markdown",
   "id": "bc22e7c6",
   "metadata": {},
   "source": [
    "**Пример 4**. Еще один пример: предположим, что имеется функция, вычисляющая векторное произведение двух векторов, представленных как объекты типа ```list```.\n",
    "Это произведение определено только для трехмерных векторов, поэтому его вызов\n",
    "с передачей списков любой другой длины приводит к ошибке."
   ]
  },
  {
   "cell_type": "code",
   "execution_count": 32,
   "id": "232be9b4",
   "metadata": {},
   "outputs": [
    {
     "ename": "AssertionError",
     "evalue": "Vectors a, b must be three-dimensional",
     "output_type": "error",
     "traceback": [
      "\u001b[1;31m---------------------------------------------------------------------------\u001b[0m",
      "\u001b[1;31mAssertionError\u001b[0m                            Traceback (most recent call last)",
      "Input \u001b[1;32mIn [32]\u001b[0m, in \u001b[0;36m<cell line: 7>\u001b[1;34m()\u001b[0m\n\u001b[0;32m      2\u001b[0m     \u001b[38;5;28;01massert\u001b[39;00m \u001b[38;5;28mlen\u001b[39m(a) \u001b[38;5;241m==\u001b[39m \u001b[38;5;28mlen\u001b[39m(b) \u001b[38;5;241m==\u001b[39m \u001b[38;5;241m3\u001b[39m, \u001b[38;5;124m'\u001b[39m\u001b[38;5;124mVectors a, b must be three-dimensional\u001b[39m\u001b[38;5;124m'\u001b[39m\n\u001b[0;32m      3\u001b[0m     \u001b[38;5;28;01mreturn\u001b[39;00m [a[\u001b[38;5;241m1\u001b[39m]\u001b[38;5;241m*\u001b[39mb[\u001b[38;5;241m2\u001b[39m] \u001b[38;5;241m-\u001b[39m a[\u001b[38;5;241m2\u001b[39m]\u001b[38;5;241m*\u001b[39mb[\u001b[38;5;241m1\u001b[39m],\n\u001b[0;32m      4\u001b[0m     a[\u001b[38;5;241m2\u001b[39m]\u001b[38;5;241m*\u001b[39mb[\u001b[38;5;241m0\u001b[39m] \u001b[38;5;241m-\u001b[39m a[\u001b[38;5;241m0\u001b[39m]\u001b[38;5;241m*\u001b[39mb[\u001b[38;5;241m2\u001b[39m],\n\u001b[0;32m      5\u001b[0m     a[\u001b[38;5;241m0\u001b[39m]\u001b[38;5;241m*\u001b[39mb[\u001b[38;5;241m1\u001b[39m] \u001b[38;5;241m-\u001b[39m a[\u001b[38;5;241m1\u001b[39m]\u001b[38;5;241m*\u001b[39mb[\u001b[38;5;241m0\u001b[39m]]\n\u001b[1;32m----> 7\u001b[0m \u001b[43mcross_product\u001b[49m\u001b[43m(\u001b[49m\u001b[43m[\u001b[49m\u001b[38;5;241;43m1\u001b[39;49m\u001b[43m,\u001b[49m\u001b[43m \u001b[49m\u001b[38;5;241;43m2\u001b[39;49m\u001b[43m,\u001b[49m\u001b[43m \u001b[49m\u001b[38;5;241;43m-\u001b[39;49m\u001b[38;5;241;43m1\u001b[39;49m\u001b[43m]\u001b[49m\u001b[43m,\u001b[49m\u001b[43m \u001b[49m\u001b[43m[\u001b[49m\u001b[38;5;241;43m2\u001b[39;49m\u001b[43m,\u001b[49m\u001b[43m \u001b[49m\u001b[38;5;241;43m0\u001b[39;49m\u001b[43m,\u001b[49m\u001b[43m \u001b[49m\u001b[38;5;241;43m-\u001b[39;49m\u001b[38;5;241;43m1\u001b[39;49m\u001b[43m,\u001b[49m\u001b[43m \u001b[49m\u001b[38;5;241;43m3\u001b[39;49m\u001b[43m]\u001b[49m\u001b[43m)\u001b[49m\n",
      "Input \u001b[1;32mIn [32]\u001b[0m, in \u001b[0;36mcross_product\u001b[1;34m(a, b)\u001b[0m\n\u001b[0;32m      1\u001b[0m \u001b[38;5;28;01mdef\u001b[39;00m \u001b[38;5;21mcross_product\u001b[39m(a, b):\n\u001b[1;32m----> 2\u001b[0m     \u001b[38;5;28;01massert\u001b[39;00m \u001b[38;5;28mlen\u001b[39m(a) \u001b[38;5;241m==\u001b[39m \u001b[38;5;28mlen\u001b[39m(b) \u001b[38;5;241m==\u001b[39m \u001b[38;5;241m3\u001b[39m, \u001b[38;5;124m'\u001b[39m\u001b[38;5;124mVectors a, b must be three-dimensional\u001b[39m\u001b[38;5;124m'\u001b[39m\n\u001b[0;32m      3\u001b[0m     \u001b[38;5;28;01mreturn\u001b[39;00m [a[\u001b[38;5;241m1\u001b[39m]\u001b[38;5;241m*\u001b[39mb[\u001b[38;5;241m2\u001b[39m] \u001b[38;5;241m-\u001b[39m a[\u001b[38;5;241m2\u001b[39m]\u001b[38;5;241m*\u001b[39mb[\u001b[38;5;241m1\u001b[39m],\n\u001b[0;32m      4\u001b[0m     a[\u001b[38;5;241m2\u001b[39m]\u001b[38;5;241m*\u001b[39mb[\u001b[38;5;241m0\u001b[39m] \u001b[38;5;241m-\u001b[39m a[\u001b[38;5;241m0\u001b[39m]\u001b[38;5;241m*\u001b[39mb[\u001b[38;5;241m2\u001b[39m],\n\u001b[0;32m      5\u001b[0m     a[\u001b[38;5;241m0\u001b[39m]\u001b[38;5;241m*\u001b[39mb[\u001b[38;5;241m1\u001b[39m] \u001b[38;5;241m-\u001b[39m a[\u001b[38;5;241m1\u001b[39m]\u001b[38;5;241m*\u001b[39mb[\u001b[38;5;241m0\u001b[39m]]\n",
      "\u001b[1;31mAssertionError\u001b[0m: Vectors a, b must be three-dimensional"
     ]
    }
   ],
   "source": [
    "def cross_product(a, b):\n",
    "    assert len(a) == len(b) == 3, 'Vectors a, b must be three-dimensional'\n",
    "    return [a[1]*b[2] - a[2]*b[1],\n",
    "    a[2]*b[0] - a[0]*b[2],\n",
    "    a[0]*b[1] - a[1]*b[0]]\n",
    "\n",
    "cross_product([1, 2, -1], [2, 0, -1, 3]) # Ошибка.\n"
   ]
  },
  {
   "cell_type": "code",
   "execution_count": 33,
   "id": "d4ecccc6",
   "metadata": {},
   "outputs": [
    {
     "data": {
      "text/plain": [
       "[-2, -1, -4]"
      ]
     },
     "execution_count": 33,
     "metadata": {},
     "output_type": "execute_result"
    }
   ],
   "source": [
    "cross_product([1, 2, -1], [2, 0, -1])"
   ]
  },
  {
   "cell_type": "markdown",
   "id": "d388fa72",
   "metadata": {},
   "source": [
    "**Пример  5**. Ниже приведен пример использования полной конструкции try…\n",
    "except…else…finally:"
   ]
  },
  {
   "cell_type": "code",
   "execution_count": 44,
   "id": "db8bf343",
   "metadata": {},
   "outputs": [
    {
     "name": "stdout",
     "output_type": "stream",
     "text": [
      "Oops: couldn't open sonnet0.txt for reading\n",
      " Done with file sonnet0.txt\n",
      "sonnet18.txt has 1 lines.\n",
      " Done with file sonnet18.txt\n",
      "The first line of sonnet18.txt is:\n",
      "С‹Р°С‹Р°РІС„С‹С‹С„РІС„\n"
     ]
    }
   ],
   "source": [
    "# try-except-else-finally.py\n",
    "def process_file(filename):\n",
    "    try:\n",
    "        fi = open(filename , 'r')\n",
    "    except IOError:\n",
    "        print('Oops: couldn\\'t open {} for reading'.format(filename))\n",
    "        return\n",
    "    else:\n",
    "        lines = fi.readlines()\n",
    "        print('{} has {} lines.'.format(filename , len(lines)))\n",
    "        fi.close()\n",
    "    finally:\n",
    "        print(' Done with file {}'.format(filename))\n",
    "    print('The first line of {} is:\\n{}'.format(filename , lines[0]))\n",
    "        # Дальнейшая обработка строк.\n",
    "    return\n",
    "\n",
    "process_file('sonnet0.txt')\n",
    "process_file('sonnet18.txt')"
   ]
  },
  {
   "cell_type": "markdown",
   "id": "8123a8d3",
   "metadata": {},
   "source": [
    "Внутри блока ```else``` содержимое файла считывается,только если файл был\n",
    "успешно открыт."
   ]
  },
  {
   "cell_type": "markdown",
   "id": "19329056",
   "metadata": {},
   "source": [
    "Внутри блока ```finally``` сообщение 'Done with file filename’ (Обработан\n",
    "файл ```filename```) выводится вне  зависимости от того, был файл успешно\n",
    "открыт или нет."
   ]
  },
  {
   "cell_type": "markdown",
   "id": "2073889e",
   "metadata": {},
   "source": [
    "# Упражнения"
   ]
  },
  {
   "cell_type": "markdown",
   "id": "f63099fa",
   "metadata": {},
   "source": [
    "## Вопросы"
   ]
  },
  {
   "cell_type": "markdown",
   "id": "e40cf4ea",
   "metadata": {},
   "source": [
    "**В 1**.Какой смысл имеет ключевое слово else? Почему бы не поместить инструкции блока else в начальный блок инструкций try?"
   ]
  },
  {
   "cell_type": "markdown",
   "id": "8c44304b",
   "metadata": {},
   "source": [
    "**В 2**. Какой смысл имеет ключевое слово ```finally```? Почему бы не поместить\n",
    "инструкции, которые нужно обязательно выполнить, после блока ```try``` (вне зависимости от того, было сгенерировано исключение или нет) после всей конструкции ```try…except```?\n",
    "Совет: необходимо рассмотреть, что происходит, если изменить код примера 5, поместив инструкции из блока ```finally``` после блока ```try```."
   ]
  },
  {
   "cell_type": "markdown",
   "id": "4d1265a6",
   "metadata": {},
   "source": [
    "# Задачи"
   ]
  },
  {
   "cell_type": "markdown",
   "id": "e157911c",
   "metadata": {},
   "source": [
    "**З 1**. Написать программу для считывания данных из файла ```swallow-speeds.txt``` (файл доступен в ресурсах) и  использования этих\n",
    "данных для вычисления средней скорости (свободного) полета африканской\n",
    "ласточки. Использовать обработку исключений при работе со строками, содержащими некорректные точки данных."
   ]
  },
  {
   "cell_type": "markdown",
   "id": "8cb28282",
   "metadata": {},
   "source": [
    "**З 2**. Изменить функцию из примера **П 3**, которая возвращает вектор в показанной ниже форме:\n"
   ]
  },
  {
   "cell_type": "code",
   "execution_count": 45,
   "id": "13d63d20",
   "metadata": {},
   "outputs": [
    {
     "name": "stdout",
     "output_type": "stream",
     "text": [
      "-2i+3.5j\n"
     ]
    }
   ],
   "source": [
    "print(str_vector([-2, 3.5]))"
   ]
  },
  {
   "cell_type": "code",
   "execution_count": 46,
   "id": "7466cb81",
   "metadata": {},
   "outputs": [
    {
     "name": "stdout",
     "output_type": "stream",
     "text": [
      "4i+0.5j-2k\n"
     ]
    }
   ],
   "source": [
    "print(str_vector((4, 0.5, -2)))"
   ]
  },
  {
   "cell_type": "markdown",
   "id": "cb486c6a",
   "metadata": {},
   "source": [
    "чтобы генерировалось исключение, если какой-либо элемент в массиве вектора не является действительным числом."
   ]
  },
  {
   "cell_type": "markdown",
   "id": "513431f2",
   "metadata": {},
   "source": [
    "**З 3**. Python соблюдает соглашение, принятое во многих языках программирования при выборе определения значения 0^0 = 1.Написать функцию ```powr(a,b)```,\n",
    "поведение которой почти полностью совпадает с поведением выражения a\\*\\*b\n",
    "(или для рассматриваемого здесь случая – ```math.pow(a,b))```, но генерирует исключение ```ValueError```, если ```a``` и ```b``` равны нулю."
   ]
  },
  {
   "cell_type": "code",
   "execution_count": null,
   "id": "de75488a",
   "metadata": {},
   "outputs": [],
   "source": []
  }
 ],
 "metadata": {
  "kernelspec": {
   "display_name": "Python 3",
   "language": "python",
   "name": "python3"
  },
  "language_info": {
   "codemirror_mode": {
    "name": "ipython",
    "version": 3
   },
   "file_extension": ".py",
   "mimetype": "text/x-python",
   "name": "python",
   "nbconvert_exporter": "python",
   "pygments_lexer": "ipython3",
   "version": "3.8.8"
  }
 },
 "nbformat": 4,
 "nbformat_minor": 5
}
