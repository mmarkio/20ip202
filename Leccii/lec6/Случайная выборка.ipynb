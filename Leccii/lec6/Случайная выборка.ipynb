{
 "cells": [
  {
   "cell_type": "markdown",
   "id": "24178dbe",
   "metadata": {},
   "source": [
    "# Случайная выборка"
   ]
  },
  {
   "cell_type": "markdown",
   "id": "0bccc626",
   "metadata": {},
   "source": [
    "Модуль ```random``` библиотеки NumPy предоставляет методы для получения случайных чисел по любому из нескольких распределений, а также удобные способы выбора случайных элементов из массива и перемешивания в случайном порядке содержимого массива.\n",
    "Как и  модуль стандартной библиотеки ```random``` (cм глава random), модуль\n",
    "```np.random``` использует генератор псевдослучайных чисел (ГПСЧ) вихрь Мерсенна (Mersenne Twister). Способ начального посева ГПСЧ зависит от операционной системы, но можно изменить посев с помощью любого хешируемого объекта (например, любого неизменяемого объекта, такого как целое число), передаваемого при вызове ```np.random.seed```. Например, можно воспользоваться методом ```randint```, как показано ниже:"
   ]
  },
  {
   "cell_type": "code",
   "execution_count": 98,
   "id": "136f6a12",
   "metadata": {},
   "outputs": [],
   "source": [
    "import numpy as np\n",
    "np.random.seed(42)"
   ]
  },
  {
   "cell_type": "code",
   "execution_count": 99,
   "id": "f01785e5",
   "metadata": {},
   "outputs": [
    {
     "data": {
      "text/plain": [
       "array([7, 4, 8, 5, 7, 3, 7, 8, 5, 4])"
      ]
     },
     "execution_count": 99,
     "metadata": {},
     "output_type": "execute_result"
    }
   ],
   "source": [
    "np.random.randint(1, 10, 10) # 10 случайных целых чисел в интервале [1, 10)."
   ]
  },
  {
   "cell_type": "code",
   "execution_count": 100,
   "id": "c9ce70ee",
   "metadata": {},
   "outputs": [
    {
     "data": {
      "text/plain": [
       "array([8, 8, 3, 6, 5, 2, 8, 6, 2, 5])"
      ]
     },
     "execution_count": 100,
     "metadata": {},
     "output_type": "execute_result"
    }
   ],
   "source": [
    "np.random.randint(1, 10, 10)"
   ]
  },
  {
   "cell_type": "code",
   "execution_count": 101,
   "id": "7988b8fb",
   "metadata": {},
   "outputs": [
    {
     "data": {
      "text/plain": [
       "array([1, 6, 9, 1, 3, 7, 4, 9, 3, 5])"
      ]
     },
     "execution_count": 101,
     "metadata": {},
     "output_type": "execute_result"
    }
   ],
   "source": [
    "np.random.randint(1, 10, 10)"
   ]
  },
  {
   "cell_type": "code",
   "execution_count": 102,
   "id": "fe3000e6",
   "metadata": {},
   "outputs": [],
   "source": [
    "np.random.seed(42) # Изменение посева для ГПСЧ."
   ]
  },
  {
   "cell_type": "code",
   "execution_count": 103,
   "id": "73a5bad3",
   "metadata": {},
   "outputs": [
    {
     "data": {
      "text/plain": [
       "array([7, 4, 8, 5, 7, 3, 7, 8, 5, 4])"
      ]
     },
     "execution_count": 103,
     "metadata": {},
     "output_type": "execute_result"
    }
   ],
   "source": [
    "np.random.randint(1,10, 10)"
   ]
  },
  {
   "cell_type": "markdown",
   "id": "8c8c8977",
   "metadata": {},
   "source": [
    "## Равномерно распределенные случайные числа"
   ]
  },
  {
   "cell_type": "markdown",
   "id": "138a9271",
   "metadata": {},
   "source": [
    "### Случайные числа с плавающей точкой"
   ]
  },
  {
   "cell_type": "markdown",
   "id": "0038775c",
   "metadata": {},
   "source": [
    "Основной метод получения случайных чисел ```random_sample``` в  качестве\n",
    "аргумента принимает форму массива и создает массив заданной формы,\n",
    "заполненный числами,случайно выбраннымииз равномерного распределения\n",
    "в интервале ```[0,1)```, т. е. в интервале от 0 до 1, включая 0, но исключая 1:"
   ]
  },
  {
   "cell_type": "code",
   "execution_count": 104,
   "id": "a7279eaa",
   "metadata": {},
   "outputs": [
    {
     "data": {
      "text/plain": [
       "array([[1.42866818e-01, 6.50888473e-01],\n",
       "       [5.64115790e-02, 7.21998772e-01],\n",
       "       [9.38552709e-01, 7.78765841e-04]])"
      ]
     },
     "execution_count": 104,
     "metadata": {},
     "output_type": "execute_result"
    }
   ],
   "source": [
    "np.random.random_sample((3,2))"
   ]
  },
  {
   "cell_type": "markdown",
   "id": "f21889cf",
   "metadata": {},
   "source": [
    "(если метод вызывается без аргументов, то возвращается одно случайное число). Если необходимы числа, выбираемые из равномерного распределения\n",
    "в интервале ```[a,b)```, то потребуется дополнительная работа:"
   ]
  },
  {
   "cell_type": "code",
   "execution_count": 105,
   "id": "758d2779",
   "metadata": {},
   "outputs": [],
   "source": [
    "a, b = 10, 20"
   ]
  },
  {
   "cell_type": "code",
   "execution_count": 106,
   "id": "10fe7a26",
   "metadata": {},
   "outputs": [
    {
     "data": {
      "text/plain": [
       "array([[19.92211559, 16.1748151 ],\n",
       "       [16.1165316 , 10.07066305],\n",
       "       [10.23062425, 15.2477466 ]])"
      ]
     },
     "execution_count": 106,
     "metadata": {},
     "output_type": "execute_result"
    }
   ],
   "source": [
    "a + (b - a) * np.random.random_sample((3, 2))"
   ]
  },
  {
   "cell_type": "markdown",
   "id": "859c8972",
   "metadata": {},
   "source": [
    "В равномерном распределении для каждого числа существует одинаковая вероятность его выбора, как можно наблюдать на гистограмме с большим количеством выборок (см. рис. 1):"
   ]
  },
  {
   "cell_type": "code",
   "execution_count": 107,
   "id": "642de5a9",
   "metadata": {},
   "outputs": [
    {
     "data": {
      "text/plain": [
       "(array([115., 122.,  84.,  99., 107., 102., 100.,  97.,  85., 102., 109.,\n",
       "        109., 113.,  96.,  84.,  81.,  97.,  98.,  91.,  81., 101.,  96.,\n",
       "         94., 102.,  83., 113., 105., 109.,  85., 110.,  88., 119.,  90.,\n",
       "         96., 103.,  96.,  74.,  94.,  91., 114., 104., 112.,  85.,  95.,\n",
       "        115., 110.,  86., 106., 102.,  95.,  91., 106., 116., 108., 104.,\n",
       "        102.,  93.,  99., 111.,  99., 109.,  97.,  98., 112.,  88.,  96.,\n",
       "         93., 114., 109.,  96.,  95.,  96., 115., 125., 107.,  97.,  87.,\n",
       "         92., 118., 101., 111.,  88., 124., 111., 101., 106., 108.,  97.,\n",
       "         93.,  91.,  91.,  99.,  81., 109.,  94.,  83.,  98.,  88., 101.,\n",
       "        107.]),\n",
       " array([1.85195295e-04, 1.01818358e-02, 2.01784763e-02, 3.01751168e-02,\n",
       "        4.01717573e-02, 5.01683978e-02, 6.01650382e-02, 7.01616787e-02,\n",
       "        8.01583192e-02, 9.01549597e-02, 1.00151600e-01, 1.10148241e-01,\n",
       "        1.20144881e-01, 1.30141522e-01, 1.40138162e-01, 1.50134803e-01,\n",
       "        1.60131443e-01, 1.70128084e-01, 1.80124724e-01, 1.90121365e-01,\n",
       "        2.00118005e-01, 2.10114646e-01, 2.20111286e-01, 2.30107927e-01,\n",
       "        2.40104567e-01, 2.50101208e-01, 2.60097848e-01, 2.70094489e-01,\n",
       "        2.80091129e-01, 2.90087770e-01, 3.00084410e-01, 3.10081051e-01,\n",
       "        3.20077691e-01, 3.30074332e-01, 3.40070972e-01, 3.50067613e-01,\n",
       "        3.60064253e-01, 3.70060893e-01, 3.80057534e-01, 3.90054174e-01,\n",
       "        4.00050815e-01, 4.10047455e-01, 4.20044096e-01, 4.30040736e-01,\n",
       "        4.40037377e-01, 4.50034017e-01, 4.60030658e-01, 4.70027298e-01,\n",
       "        4.80023939e-01, 4.90020579e-01, 5.00017220e-01, 5.10013860e-01,\n",
       "        5.20010501e-01, 5.30007141e-01, 5.40003782e-01, 5.50000422e-01,\n",
       "        5.59997063e-01, 5.69993703e-01, 5.79990344e-01, 5.89986984e-01,\n",
       "        5.99983625e-01, 6.09980265e-01, 6.19976906e-01, 6.29973546e-01,\n",
       "        6.39970187e-01, 6.49966827e-01, 6.59963468e-01, 6.69960108e-01,\n",
       "        6.79956749e-01, 6.89953389e-01, 6.99950030e-01, 7.09946670e-01,\n",
       "        7.19943311e-01, 7.29939951e-01, 7.39936592e-01, 7.49933232e-01,\n",
       "        7.59929873e-01, 7.69926513e-01, 7.79923154e-01, 7.89919794e-01,\n",
       "        7.99916435e-01, 8.09913075e-01, 8.19909716e-01, 8.29906356e-01,\n",
       "        8.39902997e-01, 8.49899637e-01, 8.59896278e-01, 8.69892918e-01,\n",
       "        8.79889559e-01, 8.89886199e-01, 8.99882840e-01, 9.09879480e-01,\n",
       "        9.19876121e-01, 9.29872761e-01, 9.39869402e-01, 9.49866042e-01,\n",
       "        9.59862683e-01, 9.69859323e-01, 9.79855964e-01, 9.89852604e-01,\n",
       "        9.99849244e-01]),\n",
       " <BarContainer object of 100 artists>)"
      ]
     },
     "execution_count": 107,
     "metadata": {},
     "output_type": "execute_result"
    },
    {
     "data": {
      "image/png": "[encoded data removed]",
      "text/plain": [
       "<Figure size 432x288 with 1 Axes>"
      ]
     },
     "metadata": {
      "needs_background": "light"
     },
     "output_type": "display_data"
    }
   ],
   "source": [
    "import matplotlib.pyplot as plt\n",
    "plt.hist(np.random.random_sample(10000), bins=100)"
   ]
  },
  {
   "cell_type": "markdown",
   "id": "e2e278e8",
   "metadata": {},
   "source": [
    "**Рис. 1**. Гистограмма по 10 000 случайных выборок из равномерного распределения\n",
    "на интервале ```[0,1)```, выполненных с помощью метода ```np.random.random_sample```"
   ]
  },
  {
   "cell_type": "markdown",
   "id": "0cd02d9c",
   "metadata": {},
   "source": [
    "Метод ```np.random.rand``` работает аналогично, но размерности требуемых массивов передаются в него как отдельные аргументы. Например:"
   ]
  },
  {
   "cell_type": "code",
   "execution_count": 108,
   "id": "049a3642",
   "metadata": {},
   "outputs": [
    {
     "data": {
      "text/plain": [
       "array([[0.74923633, 0.93634695, 0.59159932],\n",
       "       [0.01206252, 0.03429168, 0.70233843]])"
      ]
     },
     "execution_count": 108,
     "metadata": {},
     "output_type": "execute_result"
    }
   ],
   "source": [
    "np.random.rand(2, 3)"
   ]
  },
  {
   "cell_type": "markdown",
   "id": "8a3c860d",
   "metadata": {},
   "source": [
    "## Случайные целые числа"
   ]
  },
  {
   "cell_type": "markdown",
   "id": "71054c6a",
   "metadata": {},
   "source": [
    "Выборка случайных целых чисел поддерживается несколькими методами. Метод ```np.random.randint``` принимает три аргумента: low, high и size."
   ]
  },
  {
   "cell_type": "markdown",
   "id": "fbf80bb1",
   "metadata": {},
   "source": [
    "- Если переданы оба аргумента low и high,то случайные числа выбираются из дискретного полуоткрытого интервала ```[low, high)```\n",
    "- Если передан только аргумент low без аргумента high, то выборка выполняется из полуоткрытого интервала ```[0, low)```.\n",
    "- Аргумент size – это форма требуемого массива случайных целых чисел. Если этот аргумент не  передан, то, как при вызове метода ```np.random.rand```, возвращается единственное случайное целое число"
   ]
  },
  {
   "cell_type": "code",
   "execution_count": 109,
   "id": "5edad472",
   "metadata": {},
   "outputs": [
    {
     "data": {
      "text/plain": [
       "0"
      ]
     },
     "execution_count": 109,
     "metadata": {},
     "output_type": "execute_result"
    }
   ],
   "source": [
    "np.random.randint(4) # Случайное целое число из интервала [0, 4)"
   ]
  },
  {
   "cell_type": "code",
   "execution_count": 110,
   "id": "26ce39ad",
   "metadata": {},
   "outputs": [
    {
     "data": {
      "text/plain": [
       "array([2, 3, 2, 2, 1, 3, 0, 0, 0, 2])"
      ]
     },
     "execution_count": 110,
     "metadata": {},
     "output_type": "execute_result"
    }
   ],
   "source": [
    "np.random.randint(4, size=10) # 10 случайных целых чисел из интервала [0, 4)"
   ]
  },
  {
   "cell_type": "code",
   "execution_count": 111,
   "id": "77eb55a9",
   "metadata": {},
   "outputs": [
    {
     "data": {
      "text/plain": [
       "array([[3, 1, 0, 3, 0],\n",
       "       [1, 3, 2, 2, 0],\n",
       "       [0, 3, 1, 0, 3]])"
      ]
     },
     "execution_count": 111,
     "metadata": {},
     "output_type": "execute_result"
    }
   ],
   "source": [
    "np.random.randint(4, size=(3, 5)) # Массив случайных целых чисел из интервала [0, 4)"
   ]
  },
  {
   "cell_type": "code",
   "execution_count": 112,
   "id": "96d91a69",
   "metadata": {},
   "outputs": [
    {
     "data": {
      "text/plain": [
       "array([[2, 1, 1, 1, 3],\n",
       "       [2, 2, 3, 3, 3],\n",
       "       [2, 1, 3, 3, 3]])"
      ]
     },
     "execution_count": 112,
     "metadata": {},
     "output_type": "execute_result"
    }
   ],
   "source": [
    "np.random.randint(1, 4, (3, 5)) # Массив случайных целых чисел из интервала [1, 4)"
   ]
  },
  {
   "cell_type": "markdown",
   "id": "c1995e8f",
   "metadata": {},
   "source": [
    "Метод ```np.random.randint``` может оказаться полезным для выбора случайных элементов (с  заменой) из массива с  применением выбора по случайным индексам:"
   ]
  },
  {
   "cell_type": "code",
   "execution_count": 113,
   "id": "4c1d9eab",
   "metadata": {},
   "outputs": [],
   "source": [
    "a = np.array([6, 6, 6, 7, 7, 7, 7, 7, 7])"
   ]
  },
  {
   "cell_type": "code",
   "execution_count": 114,
   "id": "4b2a9c66",
   "metadata": {},
   "outputs": [
    {
     "data": {
      "text/plain": [
       "array([7, 7, 7, 6, 7])"
      ]
     },
     "execution_count": 114,
     "metadata": {},
     "output_type": "execute_result"
    }
   ],
   "source": [
    "a[np.random.randint(len(a), size=5)]"
   ]
  },
  {
   "cell_type": "markdown",
   "id": "52a6f3d0",
   "metadata": {},
   "source": [
    "Другой метод выборки случайных целых чисел ```np.random.random_integers``` имеет тот же синтаксис, но возвращает целые числа, выбранные из равномерного распределения в закрытом интервале ```[low, high]``` (если передан аргумент high) или ```[0, low]``` (если аргумент high отсутствует)."
   ]
  },
  {
   "cell_type": "markdown",
   "id": "cca435b3",
   "metadata": {},
   "source": [
    "**Пример 1**. Описанные выше методы получения случайных целых чисел можно использовать для создания выборки из множества равномерно распределенных действительных чисел, хотя для этого потребуется выполнить некоторую дополнительную работу: для выбора числа из ```n``` равномерно распределенных действительных чисел между ```a``` и ```b``` (включительно) используется следующая инструкция:"
   ]
  },
  {
   "cell_type": "raw",
   "id": "404a3a27",
   "metadata": {},
   "source": [
    "a + (b - a) * (np.random.random_integers(n) - 1) / (n - 1.)"
   ]
  },
  {
   "cell_type": "markdown",
   "id": "9489a02e",
   "metadata": {},
   "source": [
    "Например, для выборки из множества [1/2, 3/2, 5/2, 7/2]:"
   ]
  },
  {
   "cell_type": "code",
   "execution_count": 115,
   "id": "ec0c54ce",
   "metadata": {},
   "outputs": [],
   "source": [
    " a, b, n = 0.5, 3.5, 4"
   ]
  },
  {
   "cell_type": "code",
   "execution_count": 116,
   "id": "e0d98dc7",
   "metadata": {},
   "outputs": [
    {
     "data": {
      "text/plain": [
       "array([ 1.5, -0.5,  2.5,  2.5,  2.5,  0.5,  0.5, -0.5,  0.5,  2.5])"
      ]
     },
     "execution_count": 116,
     "metadata": {},
     "output_type": "execute_result"
    }
   ],
   "source": [
    "a + (b - a) * (np.random.randint(n, size=10) - 1) / (n - 1.)"
   ]
  },
  {
   "cell_type": "markdown",
   "id": "9cf1a995",
   "metadata": {},
   "source": [
    "**Пример 2**. В широко известном эксперименте группе добровольцев предлагается подбросить правильную («честную») монету 100 раз и записывать результат\n",
    "каждого броска: орел – H (head) или решка – T (tail). Вообще говоря, достаточно легко выявить участников такого эксперимента, которые подделывают результаты, записывая то, что им кажется случайной последовательностью орлов H и решек T вместо действительного подбрасывания монеты, поскольку обманщики непроизвольно стараются не включать слишком длинные серии повторяющихся результатов, которые вполне можно ожидать при случайных бросках."
   ]
  },
  {
   "cell_type": "markdown",
   "id": "f6748669",
   "metadata": {},
   "source": [
    "Но если бы у  обманщиков был доступ к  интерпретатору Python, то они могли бы создать более правдоподобный набор случайных результатов:"
   ]
  },
  {
   "cell_type": "code",
   "execution_count": 117,
   "id": "99126f2c",
   "metadata": {},
   "outputs": [],
   "source": [
    "res = ['H', 'T']"
   ]
  },
  {
   "cell_type": "code",
   "execution_count": 118,
   "id": "d4617909",
   "metadata": {},
   "outputs": [],
   "source": [
    "tosses = ''.join([res[i] for i in np.random.randint(2, size=100)])"
   ]
  },
  {
   "cell_type": "code",
   "execution_count": 119,
   "id": "8777b17c",
   "metadata": {},
   "outputs": [
    {
     "data": {
      "text/plain": [
       "'TTHHHHTTHHTTHHHHTTTHTTHHHHHHTTTTTTHHHTTHHHHHTTTHTHTHHTTTTTHTTHTHTTHTTTTHHTTHHTHHHHTHTTHTTHHHTTTTHTHH'"
      ]
     },
     "execution_count": 119,
     "metadata": {},
     "output_type": "execute_result"
    }
   ],
   "source": [
    " tosses"
   ]
  },
  {
   "cell_type": "markdown",
   "id": "691fbf4b",
   "metadata": {},
   "source": [
    "## Случайные числа из неравномерных распределений"
   ]
  },
  {
   "cell_type": "markdown",
   "id": "95ac4702",
   "metadata": {},
   "source": [
    "Полный набор случайных распределений, поддерживаемых библиотекой NumPy, описан в  официальной документации (https://docs.scipy.org/doc/\n",
    "numpy-1.14.0/reference/routines.random.html). В этом разделе подробно рассматриваются только нормальное и биномиальное распределения, а также распределение Пуассона."
   ]
  },
  {
   "cell_type": "markdown",
   "id": "f70d88eb",
   "metadata": {},
   "source": [
    "### Нормальное распределение"
   ]
  },
  {
   "cell_type": "markdown",
   "id": "0d6e3e5d",
   "metadata": {},
   "source": [
    "Нормальное распределение вероятностей описывается функцией Гаусса:\n",
    "    \n",
    "![1.png](1.png)   \n",
    "\n",
    "где ```μ```  – среднее значение, ```σ```  – стандартное отклонение. Метод библиотеки\n",
    "NumPy ```np.random.normal``` выбирает случайные элементы из нормального распределения. Среднее значение и  стандартное отклонение определяются аргументами ```loc``` и ```scale``` соответственно, по умолчанию передаются значения 0 и 1. Форма возвращаемого массива определяется атрибутом ```size```."
   ]
  },
  {
   "cell_type": "code",
   "execution_count": 120,
   "id": "f3eca79a",
   "metadata": {},
   "outputs": [
    {
     "data": {
      "text/plain": [
       "1.0969469577703703"
      ]
     },
     "execution_count": 120,
     "metadata": {},
     "output_type": "execute_result"
    }
   ],
   "source": [
    "np.random.normal()"
   ]
  },
  {
   "cell_type": "code",
   "execution_count": 121,
   "id": "5ddf2735",
   "metadata": {},
   "outputs": [
    {
     "data": {
      "text/plain": [
       "array([ 7.20764991, 11.76292539, -7.87164627])"
      ]
     },
     "execution_count": 121,
     "metadata": {},
     "output_type": "execute_result"
    }
   ],
   "source": [
    "np.random.normal(scale=5., size=3)"
   ]
  },
  {
   "cell_type": "code",
   "execution_count": 122,
   "id": "ff2a2e65",
   "metadata": {},
   "outputs": [
    {
     "data": {
      "text/plain": [
       "array([[ 89.03282113, 105.54137627],\n",
       "       [109.46144044, 106.47162129],\n",
       "       [108.63773606, 111.0146189 ],\n",
       "       [101.61800316,  98.29960069]])"
      ]
     },
     "execution_count": 122,
     "metadata": {},
     "output_type": "execute_result"
    }
   ],
   "source": [
    "np.random.normal(100., 8., size=(4, 2))"
   ]
  },
  {
   "cell_type": "markdown",
   "id": "18b7cd0f",
   "metadata": {},
   "source": [
    "Также имеется возможность выбирать числа из стандартного нормального распределения (для которого ```μ = 0``` и ```σ = 1```) с помощью метода ```np.random.randn```.\n",
    "Как и метод ```random.rand```, он принимает в качестве аргументов измерения требуемого массива:"
   ]
  },
  {
   "cell_type": "markdown",
   "id": "43f77a05",
   "metadata": {},
   "source": [
    "np.random.randn(2, 2)"
   ]
  },
  {
   "cell_type": "markdown",
   "id": "a163ea4b",
   "metadata": {},
   "source": [
    "Несмотря на то что метод ```np.rndom.randn``` не  предоставляет возможности явного определения среднего значения и  стандартного отклонения, можно достаточно легко изменять масштаб стандартного распределения:"
   ]
  },
  {
   "cell_type": "code",
   "execution_count": 123,
   "id": "40b047dd",
   "metadata": {},
   "outputs": [],
   "source": [
    " mu, sigma = 100., 8."
   ]
  },
  {
   "cell_type": "code",
   "execution_count": 124,
   "id": "057a90f5",
   "metadata": {},
   "outputs": [
    {
     "data": {
      "text/plain": [
       "array([[ 89.05458234,  97.61515676],\n",
       "       [ 98.84089278,  92.40252341],\n",
       "       [ 99.69420639,  91.50096826],\n",
       "       [108.90665869, 103.40659575]])"
      ]
     },
     "execution_count": 124,
     "metadata": {},
     "output_type": "execute_result"
    }
   ],
   "source": [
    "mu + sigma * np.random.randn(4, 2)"
   ]
  },
  {
   "cell_type": "markdown",
   "id": "71fa507b",
   "metadata": {},
   "source": [
    "**Пример 1**. Нормальное распределение можно изобразить графически по выбранным данным в виде гистограммы (см. рис. 2):"
   ]
  },
  {
   "cell_type": "code",
   "execution_count": 125,
   "id": "7326454a",
   "metadata": {},
   "outputs": [],
   "source": [
    "mu, sigma = 100., 8."
   ]
  },
  {
   "cell_type": "code",
   "execution_count": 126,
   "id": "2146b1c4",
   "metadata": {},
   "outputs": [],
   "source": [
    "samples = np.random.normal(loc=mu, scale=sigma, size=10000)"
   ]
  },
  {
   "cell_type": "code",
   "execution_count": 127,
   "id": "ff380913",
   "metadata": {},
   "outputs": [
    {
     "data": {
      "image/png": "[encoded data removed]",
      "text/plain": [
       "<Figure size 432x288 with 1 Axes>"
      ]
     },
     "metadata": {
      "needs_background": "light"
     },
     "output_type": "display_data"
    }
   ],
   "source": [
    "counts, bins, patches = plt.hist(samples, bins=100, density=True)"
   ]
  },
  {
   "cell_type": "code",
   "execution_count": 128,
   "id": "1c8694f4",
   "metadata": {},
   "outputs": [
    {
     "data": {
      "text/plain": [
       "[<matplotlib.lines.Line2D at 0x2167cdbca60>]"
      ]
     },
     "execution_count": 128,
     "metadata": {},
     "output_type": "execute_result"
    },
    {
     "data": {
      "image/png": "[encoded data removed]",
      "text/plain": [
       "<Figure size 432x288 with 1 Axes>"
      ]
     },
     "metadata": {
      "needs_background": "light"
     },
     "output_type": "display_data"
    }
   ],
   "source": [
    " plt.plot(bins, 1/(sigma * np.sqrt(2 * np.pi)) * np.exp( -(bins - mu)**2 / (2 * sigma**2) ), lw=2)"
   ]
  },
  {
   "cell_type": "markdown",
   "id": "84b3846d",
   "metadata": {},
   "source": [
    "**Рис. 2**. Гистограмма по 10 000 случайных выборок из нормального распределения,\n",
    "выполненным с помощью метода ```np.random.normal```"
   ]
  },
  {
   "cell_type": "markdown",
   "id": "934bd3d8",
   "metadata": {},
   "source": [
    "## Биномиальное распределение"
   ]
  },
  {
   "cell_type": "markdown",
   "id": "e7a5127a",
   "metadata": {},
   "source": [
    "Биномиальное распределение вероятностей описывает число конкретных исходов в последовательности ```n``` испытаний Бернулли, т. е. в ```n``` независимых экспериментах, каждый из которых может дать только один из двух возможных исходов (результатов), например да/нет, успех/неудача, орел/решка и т. д. Если вероятность одного конкретного исхода (скажем, успеха) равна ```p```, то вероятность того, что последовательность испытаний дает в точности ```k``` таких исходов, равна"
   ]
  },
  {
   "cell_type": "markdown",
   "id": "b08ce0b4",
   "metadata": {},
   "source": [
    "![2.png](2.png)"
   ]
  },
  {
   "cell_type": "markdown",
   "id": "cb814d92",
   "metadata": {},
   "source": [
    "Например,при подбрасывании правильной («честной») монеты вероятность выпадения орла при каждом броске равна 1/2. Следовательно, вероятность выпадения в точности трех орлов при четырех бросках равна 4(1/2)(1/2)^3 = 1/4, где множитель\n",
    "(4/3) = 4 записям для четырех возможных равнозначных исходов:\n",
    "\n",
    "THHH, HTHH, HHTH, HHHT.\n",
    "\n",
    "Для выборки из биномиального распределения, описанного параметрами\n",
    "```n```  и ```p```, используется метод ```np.random.binomial(n,p)```. И  в этом случае форму массива выборки можно задать в третьем аргументе ```size```:"
   ]
  },
  {
   "cell_type": "code",
   "execution_count": 129,
   "id": "f79e04a8",
   "metadata": {},
   "outputs": [
    {
     "data": {
      "text/plain": [
       "4"
      ]
     },
     "execution_count": 129,
     "metadata": {},
     "output_type": "execute_result"
    }
   ],
   "source": [
    " np.random.binomial(4, 0.5)"
   ]
  },
  {
   "cell_type": "code",
   "execution_count": 130,
   "id": "13b3d07d",
   "metadata": {},
   "outputs": [
    {
     "data": {
      "text/plain": [
       "array([[4, 1, 3, 1],\n",
       "       [2, 2, 2, 4],\n",
       "       [2, 2, 1, 3],\n",
       "       [2, 3, 2, 2]])"
      ]
     },
     "execution_count": 130,
     "metadata": {},
     "output_type": "execute_result"
    }
   ],
   "source": [
    "np.random.binomial(4, 0.5, (4, 4))"
   ]
  },
  {
   "cell_type": "markdown",
   "id": "825b6151",
   "metadata": {},
   "source": [
    "**Пример 3**. Существуют два стабильных изотопа углерода  12C и  13C (радиоактивные ядра 14C в природе существуют только в чрезвычайно малых количествах порядка триллионных частей). С учетом распространенности изотопа 13C, равной x = 0.01017 (т.е.\n",
    "около 1 %), вычислим относительные количества бакминстерфуллерена C60 с точным количеством атомов 13C: ноль, один, два, три и четыре. (Это важно при исследованиях фуллеренов методом ядерного магнитного резонанса (ЯМР), например потому, что только ядра 13C обладают магнитными свойствами, поэтому их можно обнаружить методом ЯМР.)\n",
    "\n",
    "Количество атомов  13C в совокупности атомов углерода, случайно выбранных из совокупности с преобладанием природных изотопов, соответствует биномиальному распределению: вероятность того, что из ```n``` атомов ```m``` окажутся атомами 13C (следовательно, ```n − m``` будут атомами 12C), равна\n",
    "\n",
    "![4.png](4.png)\n",
    "\n",
    "Разумеется,можно точно вычислить ```pm(60)``` по этой формуле при ```0 ≤ m ≤ 4```,но мы\n",
    "также можем создать имитацию выборки с помощью метода ```np.random.binomial```."
   ]
  },
  {
   "cell_type": "markdown",
   "id": "f8296e02",
   "metadata": {},
   "source": [
    "**Листинг 1**. Моделирование распределения атомов 13C в бакминстерфуллерене C60"
   ]
  },
  {
   "cell_type": "code",
   "execution_count": 131,
   "id": "ca502329",
   "metadata": {},
   "outputs": [
    {
     "name": "stdout",
     "output_type": "stream",
     "text": [
      "Abundances of C60 as (13C)[m](12C)[60-m]\n",
      "m \"Exact\" Estimated\n",
      "------------------------\n",
      "0 0.5244 0.5179\n",
      "1 0.3403 0.3291\n",
      "2 0.1086 0.1103\n",
      "3 0.0227 0.0228\n",
      "4 0.0035 0.0032\n"
     ]
    }
   ],
   "source": [
    "# eg6-e-c13-a.py\n",
    "import numpy as np\n",
    "n, x = 60, 0.0107\n",
    "mmax = 4\n",
    "m = np.arange(mmax + 1)\n",
    "# Оценка распространенности по случайной выборке из биномиального распределения.\n",
    "ntrials = 10000\n",
    "pbin = np.empty(mmax + 1)\n",
    "for r in m:\n",
    "    pbin[r] = np.sum(np.random.binomial(n, x, ntrials) == r)/ntrials\n",
    "\n",
    "# Вычисление и сохранение биномиальных коэффициентов nCm.\n",
    "nCm = np.empty(mmax + 1)\n",
    "nCm[0] = 1\n",
    "for r in m[1:]:\n",
    "    nCm[r] = nCm[r - 1] * (n - r + 1) / r\n",
    "\n",
    "# \"Точный\" ответ (результат) из биномиального распределения.\n",
    "p = nCm * x**m * (1-x)**(n-m)\n",
    "print('Abundances of C60 as (13C)[m](12C)[60-m]')\n",
    "print('m \"Exact\" Estimated')\n",
    "print('-'*24)\n",
    "for r in m:\n",
    "    print('{:1d} {:6.4f} {:6.4f}'.format(r, p[r], pbin[r]))"
   ]
  },
  {
   "cell_type": "markdown",
   "id": "e3b63fb8",
   "metadata": {},
   "source": [
    "Для каждого значения ```r``` в массиве ```m``` выбирается большое число повторений испытаний ```(ntrial)``` из биномиального распределения, описанного количеством атомов ```n = 60``` и вероятностью ```x = 0.0107```. Сравнение этих случайно выбранных значений с  заданным значением ```r```  дает массив логических значений, которые можно просуммировать (напомню, что значение ```True``` вычисляется как 1, а значение ```False``` вычисляется как 0). Далее приделении на ```ntrial``` получается оценка вероятноститочного количества ```r``` атомов типа 13C, а оставшиеся атомы принадлежат к типу 12C."
   ]
  },
  {
   "cell_type": "markdown",
   "id": "b38a81b2",
   "metadata": {},
   "source": [
    "Явно выполняемый цикл по ```m```  можно было бы исключить, создав массив формы ```(ntrials, mmax+1)```, содержащий все элементы выборки и  производя суммирование по первой оси этого массива с применением операции сравнения с массивом ```m```:"
   ]
  },
  {
   "cell_type": "code",
   "execution_count": 132,
   "id": "ce5ebc92",
   "metadata": {},
   "outputs": [],
   "source": [
    "samples = np.random.binomial(n, x, (ntrials , mmax + 1))\n",
    "pbin = np.sum(samples == m, axis=0) / ntrials"
   ]
  },
  {
   "cell_type": "markdown",
   "id": "29cdbd3a",
   "metadata": {},
   "source": [
    "Значения распространенности атомов 13Cm 12C60−m, вычисляемые программой\n",
    "в листинге 2, выводятся в следующем виде.\n",
    "\n",
    "```\n",
    "Abundances of C60 as (13C)[m](12C)[60-m]\n",
    "m \"Exact\" Estimated\n",
    "------------------------\n",
    "0 0.5244 0.5199\n",
    "1 0.3403 0.3348\n",
    "2 0.1086 0.1093\n",
    "3 0.0227 0.0231\n",
    "4 0.0035 0.0031\n",
    "\n",
    "```\n",
    "\n",
    "Таким образом, почти 48 % молекул C60 содержат как минимум одно ядро с магнитными свойствами.\n"
   ]
  },
  {
   "cell_type": "markdown",
   "id": "78de18f7",
   "metadata": {},
   "source": [
    "## Распределение Пуассона"
   ]
  },
  {
   "cell_type": "markdown",
   "id": "a1c5ea31",
   "metadata": {},
   "source": [
    "Распределение Пуассона описывает вероятность наступления конкретного числа независимых событий в заданном интервале времени, если эти события возникают с известной средней частотой. Это распределение также используется для вычисления вероятностей наступления событий в  заданных интервалах по другим типам измерений, таким как расстояние или объем.\n",
    "Распределение вероятностей Пуассона для количества событий ```k``` определяется следующей формулой:\n",
    "\n",
    "![5.png](5.png)\n",
    "\n",
    "где параметр ```λ``` – это ожидаемое (среднее) количество событий, возникающих\n",
    "в  рассматриваемом интервале. В  библиотеке NumPy реализация ```np.random.poisson``` принимает ```λ``` как первый аргумент (по умолчанию равный 1), и, как и ранее, форму требуемого массива элементов выборки можно задать во втором аргументе ```size```. Например, если я получаю в среднем 2.5 сообщения электронной почты в час, то выборку количеств электронных писем, которые я буду получать каждый час в течение следующих 8 ч,можно сформировать следующим образом:"
   ]
  },
  {
   "cell_type": "code",
   "execution_count": 133,
   "id": "ec4d92a5",
   "metadata": {},
   "outputs": [
    {
     "data": {
      "text/plain": [
       "array([0, 3, 2, 1, 4, 0, 4, 0])"
      ]
     },
     "execution_count": 133,
     "metadata": {},
     "output_type": "execute_result"
    }
   ],
   "source": [
    "np.random.poisson(2.5, 8)"
   ]
  },
  {
   "cell_type": "markdown",
   "id": "746de89c",
   "metadata": {},
   "source": [
    "**Пример 3**. Фермент эндонуклеазы EcoRI используется как ограничивающий фермент, который отсекает ДНК по последовательности нуклеиновой кислоты GAATTC. Предположим, что рассматриваемая молекула ДНК содержит 12 000 основных пар и 50 % содержимого G + C. Распределение Пуассона можно использовать для прогнозирования вероятности того, что EcoRI не сможет рассечь эту молекулу при следующих условиях.\n",
    "\n",
    "Распознаваемая последовательность GAATTC состоит из шести основных пар нуклеотидов. Вероятностьтого, что любая рассматриваемая последовательность из шести элементов соответствует GAATTC, равна ```1/46 = 1/4096```, поэтому ожидаемое количество рассекающих групп для EcoRI в этой молекуле ДНК равно ```λ = 12000/4096 = 2.93```. Следовательно, по распределению Пуассона ожидаемая вероятность того, что данная эндонуклеаза не сможет рассечь молекулу ДНК, равна:\n",
    "\n",
    "![6.png](6.png)\n",
    "\n",
    "т. е. около 5.3 %. Стохастическая имитация вероятностей:"
   ]
  },
  {
   "cell_type": "code",
   "execution_count": 134,
   "id": "13791ca1",
   "metadata": {},
   "outputs": [],
   "source": [
    "lam = 12000 / 4**6"
   ]
  },
  {
   "cell_type": "code",
   "execution_count": 135,
   "id": "8947a504",
   "metadata": {},
   "outputs": [],
   "source": [
    " N = 100000"
   ]
  },
  {
   "cell_type": "code",
   "execution_count": 136,
   "id": "a33826ff",
   "metadata": {},
   "outputs": [
    {
     "data": {
      "text/plain": [
       "0.05532"
      ]
     },
     "execution_count": 136,
     "metadata": {},
     "output_type": "execute_result"
    }
   ],
   "source": [
    "np.sum(np.random.poisson(lam, N) == 0) / N"
   ]
  },
  {
   "cell_type": "markdown",
   "id": "07bcd0e4",
   "metadata": {},
   "source": [
    "## Случайные выборки, перемешивания и перестановки"
   ]
  },
  {
   "cell_type": "markdown",
   "id": "eaa954d9",
   "metadata": {},
   "source": [
    "При наличии некоторого массива значений часто возникает необходимость\n",
    "случайного выбора одного или нескольких элементов (с заменой или без замены). Для этого используется метод ```np.random.choice```. Он принимает один\n",
    "обязательный аргумент, одномерную последовательность, и возвращает случайно выбранный из этой последовательности элемент:"
   ]
  },
  {
   "cell_type": "code",
   "execution_count": 137,
   "id": "7500a357",
   "metadata": {},
   "outputs": [
    {
     "data": {
      "text/plain": [
       "2"
      ]
     },
     "execution_count": 137,
     "metadata": {},
     "output_type": "execute_result"
    }
   ],
   "source": [
    "np.random.choice([ 1, 5, 2, -5, 5, 2, 0])"
   ]
  },
  {
   "cell_type": "code",
   "execution_count": 138,
   "id": "5c1bebaf",
   "metadata": {},
   "outputs": [
    {
     "data": {
      "text/plain": [
       "5"
      ]
     },
     "execution_count": 138,
     "metadata": {},
     "output_type": "execute_result"
    }
   ],
   "source": [
    "np.random.choice(np.arange(10))"
   ]
  },
  {
   "cell_type": "markdown",
   "id": "42dd1cf8",
   "metadata": {},
   "source": [
    "Второй аргумент ```size``` управляет формой возвращаемого массива случайно выбранных элементов, как и в ранее рассмотренных методах. По умолчанию элементы последовательности выбираются случайно с использованием равномерного распределения с заменой. Чтобы выбирать элементы без замены, необходимо установить аргумент ```replace=False```."
   ]
  },
  {
   "cell_type": "code",
   "execution_count": 139,
   "id": "2a10f7e2",
   "metadata": {},
   "outputs": [],
   "source": [
    " a = np.array([1, 2, 0, -1, 1])"
   ]
  },
  {
   "cell_type": "code",
   "execution_count": 140,
   "id": "124f5c0e",
   "metadata": {},
   "outputs": [
    {
     "data": {
      "text/plain": [
       "array([ 1, -1,  0,  1,  2,  1])"
      ]
     },
     "execution_count": 140,
     "metadata": {},
     "output_type": "execute_result"
    }
   ],
   "source": [
    "np.random.choice(a, 6) # Шесть случайно выбранных элементов из массива a."
   ]
  },
  {
   "cell_type": "code",
   "execution_count": 141,
   "id": "a90ea7d5",
   "metadata": {},
   "outputs": [
    {
     "data": {
      "text/plain": [
       "array([[-1,  1],\n",
       "       [ 2,  0]])"
      ]
     },
     "execution_count": 141,
     "metadata": {},
     "output_type": "execute_result"
    }
   ],
   "source": [
    "np.random.choice(a, (2, 2), replace=False)"
   ]
  },
  {
   "cell_type": "code",
   "execution_count": 142,
   "id": "0f461bba",
   "metadata": {},
   "outputs": [
    {
     "ename": "ValueError",
     "evalue": "Cannot take a larger sample than population when 'replace=False'",
     "output_type": "error",
     "traceback": [
      "\u001b[1;31m---------------------------------------------------------------------------\u001b[0m",
      "\u001b[1;31mValueError\u001b[0m                                Traceback (most recent call last)",
      "Input \u001b[1;32mIn [142]\u001b[0m, in \u001b[0;36m<cell line: 1>\u001b[1;34m()\u001b[0m\n\u001b[1;32m----> 1\u001b[0m \u001b[43mnp\u001b[49m\u001b[38;5;241;43m.\u001b[39;49m\u001b[43mrandom\u001b[49m\u001b[38;5;241;43m.\u001b[39;49m\u001b[43mchoice\u001b[49m\u001b[43m(\u001b[49m\u001b[43ma\u001b[49m\u001b[43m,\u001b[49m\u001b[43m \u001b[49m\u001b[43m(\u001b[49m\u001b[38;5;241;43m3\u001b[39;49m\u001b[43m,\u001b[49m\u001b[43m \u001b[49m\u001b[38;5;241;43m2\u001b[39;49m\u001b[43m)\u001b[49m\u001b[43m,\u001b[49m\u001b[43m \u001b[49m\u001b[43mreplace\u001b[49m\u001b[38;5;241;43m=\u001b[39;49m\u001b[38;5;28;43;01mFalse\u001b[39;49;00m\u001b[43m)\u001b[49m\n",
      "File \u001b[1;32mmtrand.pyx:965\u001b[0m, in \u001b[0;36mnumpy.random.mtrand.RandomState.choice\u001b[1;34m()\u001b[0m\n",
      "\u001b[1;31mValueError\u001b[0m: Cannot take a larger sample than population when 'replace=False'"
     ]
    }
   ],
   "source": [
    "np.random.choice(a, (3, 2), replace=False)"
   ]
  },
  {
   "cell_type": "markdown",
   "id": "e4472617",
   "metadata": {},
   "source": [
    "В последнем примере показано, что, как и ожидалось, невозможно выбрать больше элементов, чем количество элементов в исходной последовательности, если выборка выполняется без замены. Для определения вероятности выбора каждого элемента необходимо передать как аргумент ```p``` последовательность той же длины, что и совокупность, из которой производится выбор. Сумма вероятностей должна быть равна 1."
   ]
  },
  {
   "cell_type": "code",
   "execution_count": null,
   "id": "688a8a5f",
   "metadata": {},
   "outputs": [],
   "source": [
    "a = np.array([1, 2, 0, -1, 1])"
   ]
  },
  {
   "cell_type": "code",
   "execution_count": null,
   "id": "b1aa3c69",
   "metadata": {},
   "outputs": [],
   "source": [
    "np.random.choice(a, 5, p=[0.1, 0.1, 0., 0.7, 0.1])"
   ]
  },
  {
   "cell_type": "code",
   "execution_count": null,
   "id": "787e9c60",
   "metadata": {},
   "outputs": [],
   "source": [
    "np.random.choice(a, 2, False , p=[0.1, 0.1, 0., 0.8, 0.])"
   ]
  },
  {
   "cell_type": "markdown",
   "id": "e97e166a",
   "metadata": {},
   "source": [
    "Существуют два метода для перестановки содержимого массива: ```np.random.shuffle``` случайным образом изменяет порядок элементов в самом исходном массиве, тогда как ```np.random.permutation``` сначала создает копию массива, сохраняя исходный массив без изменений:"
   ]
  },
  {
   "cell_type": "code",
   "execution_count": null,
   "id": "710b5062",
   "metadata": {},
   "outputs": [],
   "source": [
    "a = np.arange(6)"
   ]
  },
  {
   "cell_type": "code",
   "execution_count": null,
   "id": "d2309709",
   "metadata": {},
   "outputs": [],
   "source": [
    "np.random.permutation(a)"
   ]
  },
  {
   "cell_type": "code",
   "execution_count": null,
   "id": "6e7a44a5",
   "metadata": {},
   "outputs": [],
   "source": [
    "a"
   ]
  },
  {
   "cell_type": "code",
   "execution_count": null,
   "id": "3d02ec47",
   "metadata": {},
   "outputs": [],
   "source": [
    "np.random.shuffle(a)"
   ]
  },
  {
   "cell_type": "code",
   "execution_count": null,
   "id": "eca24b29",
   "metadata": {},
   "outputs": [],
   "source": [
    "a"
   ]
  },
  {
   "cell_type": "markdown",
   "id": "534e5d8f",
   "metadata": {},
   "source": [
    "Оба метода работают только с первым измерением массива:"
   ]
  },
  {
   "cell_type": "code",
   "execution_count": null,
   "id": "ca1f3fc6",
   "metadata": {},
   "outputs": [],
   "source": [
    "a = np.arange(6).reshape(3, 2)"
   ]
  },
  {
   "cell_type": "code",
   "execution_count": null,
   "id": "e44730f5",
   "metadata": {},
   "outputs": [],
   "source": [
    "a"
   ]
  },
  {
   "cell_type": "code",
   "execution_count": null,
   "id": "d54902a5",
   "metadata": {},
   "outputs": [],
   "source": [
    "np.random.permutation(a) # Перестановка строк, но не столбцов."
   ]
  },
  {
   "cell_type": "markdown",
   "id": "5c225b4e",
   "metadata": {},
   "source": [
    "# Упражнения"
   ]
  },
  {
   "cell_type": "markdown",
   "id": "2ae4a50b",
   "metadata": {},
   "source": [
    "**Задание 1**. Объяснить различие между кодом"
   ]
  },
  {
   "cell_type": "code",
   "execution_count": null,
   "id": "67b99cd6",
   "metadata": {},
   "outputs": [],
   "source": [
    "a = np.array([6, 6, 6, 7, 7, 7, 7, 7, 7])"
   ]
  },
  {
   "cell_type": "code",
   "execution_count": null,
   "id": "d49f96fb",
   "metadata": {},
   "outputs": [],
   "source": [
    "# Первый код создаёт массив а, в котором идёт функция поиска случайного знаечения и выбора пяти случайных элементов\n",
    "a[np.random.randint(len(a), size=5)]"
   ]
  },
  {
   "cell_type": "markdown",
   "id": "71d8b04e",
   "metadata": {},
   "source": [
    "и кодом"
   ]
  },
  {
   "cell_type": "code",
   "execution_count": null,
   "id": "16bc574d",
   "metadata": {},
   "outputs": [],
   "source": [
    "# Второй код делает то же самое - ищет случайные элементы, но выбирает случайные значения\n",
    "# в диапазоне от 6 до 8, не включая саму 8 и создаёт массив из 5 найденных чисел\n",
    "np.random.randint(6, 8, 5)"
   ]
  },
  {
   "cell_type": "markdown",
   "id": "b39b7f7b",
   "metadata": {},
   "source": [
    "**Задание 2**. В примере 2 использовался метод ```np.random.random_integers``` для выборки из равномерного распределения по числам с  плавающей точкой ```[1/2, 3/2, 5/2, 7/2]```. Как можно сделать то же самое, воспользовавшись методом ```np.random.randint```?"
   ]
  },
  {
   "cell_type": "code",
   "execution_count": 1,
   "id": "c89bdc56",
   "metadata": {},
   "outputs": [
    {
     "name": "stdout",
     "output_type": "stream",
     "text": [
      "[0.53719617 0.42340115 0.59145418 0.55779954 0.54705964]\n"
     ]
    }
   ],
   "source": [
    "import numpy as np\n",
    "\n",
    "a = np.random.uniform(0,1,5)\n",
    "print(a)"
   ]
  },
  {
   "cell_type": "markdown",
   "id": "025cfd1d",
   "metadata": {},
   "source": [
    "**Задание 3**. Американская лотерея Mega Millions во время написания этой книги использовала выбор 5 чисел из 70 и одного из 25. Джекпот распределяется между игроками, выбравшими номера, совпадающие со случайно выбранными. Какова вероятность выиграть джекпот? Написать однострочный код Python, используя библиотеку NumPy, для выбора набора случайных чисел для игрока."
   ]
  },
  {
   "cell_type": "code",
   "execution_count": 2,
   "id": "06954ef0",
   "metadata": {},
   "outputs": [
    {
     "name": "stdout",
     "output_type": "stream",
     "text": [
      "[31 58 15 51 57 18]\n"
     ]
    }
   ],
   "source": [
    "import numpy as np\n",
    "\n",
    "a = np.concatenate((np.random.choice(70,5,replace=False),np.random.choice(25,1)))\n",
    "print(a)"
   ]
  }
 ],
 "metadata": {
  "kernelspec": {
   "display_name": "Python 3",
   "language": "python",
   "name": "python3"
  },
  "language_info": {
   "codemirror_mode": {
    "name": "ipython",
    "version": 3
   },
   "file_extension": ".py",
   "mimetype": "text/x-python",
   "name": "python",
   "nbconvert_exporter": "python",
   "pygments_lexer": "ipython3",
   "version": "3.8.8"
  }
 },
 "nbformat": 4,
 "nbformat_minor": 5
}
