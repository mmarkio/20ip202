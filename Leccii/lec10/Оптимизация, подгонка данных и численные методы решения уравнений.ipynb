{
 "cells": [
  {
   "cell_type": "markdown",
   "id": "ad45b07a",
   "metadata": {},
   "source": [
    "# Оптимизация, подгонка данных и численные методы решения уравнений"
   ]
  },
  {
   "cell_type": "markdown",
   "id": "22a4c050",
   "metadata": {},
   "source": [
    "Пакет ```scipy.optimize``` предоставляет реализации множества общеизвестных алгоритмов для минимизации многомерных функций (с  дополнительными ограничениями или без них), для подгонки данных методом наименьших квадратов и для решения (определения корней) уравнений со многими неизвестными. В этом разделе приведен общий обзор наиболее важных доступных вариантов реализации, но следует всегда помнить о том, что наилучший выбор алгоритма будет зависеть от конкретной анализируемой функции. Для произвольной функции нет никакой уверенности в том, что конкретный метод будет сходящимся к требуемому минимуму (или корню и т. п.) или что сходимость будет обеспечена достаточно быстро. Некоторые алгоритмы подходят в большей степени для конкретных функций, чем для других, поэтому чем больше известно об анализируемой функции, тем лучше. Библиотеку SciPy можно сконфигурировать так, чтобы выводилось предупреждающее сообщение при критических сбоях конкретного алгоритма, и это сообщение, как правило, может помочь при анализе возникшей проблемы.\n",
    "Более того, возвращаемый результат часто зависит от исходной предпосылки, передаваемой алгоритму, – рассмотрим двумерную функцию как пейзаж с несколькими долинами, разделенными крутыми горными хребтами: начальная предпосылка, размещенная в  одной из долин, вероятно, приведет большинство алгоритмов к блужданию по склону и обнаружению минимума в этой\n",
    "долине (даже если это не глобальный минимум) без необходимости взбираться\n",
    "на горные хребты. Точно так же вы можете ожидать (но без каких-либо гарантий), что большинство численных методов решения уравнений возвращают корень, «ближайший» к изначальной предпосылке."
   ]
  },
  {
   "cell_type": "markdown",
   "id": "8ea7dac8",
   "metadata": {},
   "source": [
    "## Минимизация"
   ]
  },
  {
   "cell_type": "markdown",
   "id": "6f9d322d",
   "metadata": {},
   "source": [
    "Программы оптимизации библиотеки ```SciPy``` минимизируют функцию одной или нескольких переменных ```f(x1, x2,…, xn)```. Для поиска максимума определяется минимум функции ```−f(x1, x2, …, xn)```."
   ]
  },
  {
   "cell_type": "markdown",
   "id": "7843a656",
   "metadata": {},
   "source": [
    "Некоторые алгоритмы минимизации требуют только саму анализируемую\n",
    "функцию, для других необходима первая производная этой функции по каждой переменной (частные производные) в  массиве, известном как матрица\n",
    "Якоби (якобиан):\n",
    "\n",
    "    ```J(f) = (∂f/∂x1, ∂f/∂x2, …, ∂f/∂xn).```\n",
    "    \n",
    "Некоторые алгоритмы пытаются оценить матрицу Якоби численными методами, если ее невозможно представить как отдельную функцию.\n",
    "\n",
    "Более того, для некоторых интеллектуальных алгоритмов оптимизации требуется информация о  вторых (частных) производных анализируемой функции в виде симметричной матрицы значений, называемой матрицей Гессе (гессианом):\n",
    "\n",
    "![](images/image1.png)\n",
    "\n",
    "\n",
    "Матрица Якоби представляет локальный градиент функции нескольких переменных, а матрица Гессе представляет локальный радиус кривизны."
   ]
  },
  {
   "cell_type": "markdown",
   "id": "586ac504",
   "metadata": {},
   "source": [
    "## Минимизация без ограничений\n",
    "\n",
    "Обобщенный алгоритм минимизации для скалярной функции нескольких переменных ```scipy.optimize.minimize``` принимает два обязательных аргумента:\n",
    "\n",
    "\n",
    "minimize(fun, x0, ...)\n",
    "\n",
    "\n",
    "Первый аргумент – объект функции fun для вычисления минимизируемой функции: эта функция должна принимать массив значений x, определяющий точки, в которых должны выполняться вычисления (x1, x2,…, xn), с последующими любыми требуемыми аргументами. Второй обязательный аргумент x0 – это массив значений, представляющих начальные предпосылки, с которых алгоритм минимизации должен начать работу.\n",
    "\n",
    "В этом разделе демонстрируется использование метода ```minimize``` с функцией Химмельблау, простой функцией от двух переменных с некоторыми сложными свойствами, которые делают ее вполне подходящей тестовой функцией для алгоритмов оптимизации. Функция Химмельблау имеет следующий вид:\n",
    "\n",
    "f(x,y) = (x^2 + y − 11)^2 + (x + y^2 − 7)^2.\n",
    "\n",
    "Область ```−5 ≤ x ≤ 5```, ```−5 ≤ y ≤ 5``` содержит один локальный максимум\n",
    "\n",
    "f(−0.270845, −0.923039) = 181.617\n",
    "\n",
    "(хотя функция «взбирается выше по склону» за пределами этой области).В этой\n",
    "же области существуют четыре минимума:\n",
    "\n",
    " f(3,2) = 0,\n",
    " f(−2.805118, 3.131312) = 0,\n",
    " f(−3.779310, −3.283186) = 0,\n",
    " f(3.584428, −1.848126) = 0\n",
    " \n",
    " и четыре седловые точки (точки перегиба). На  рис.1 показан контурный\n",
    "график данной функции.\n",
    "\n",
    "![](images/image2.png)\n",
    "\n",
    "**Рис. 1**. Контурный график (диаграмма линий уровня) функции Химмельблау\n",
    "\n",
    "Функцию Химмельблау можно определить на Python обычным способом:\n",
    "\n",
    "```\n",
    "In [x]: def f(X):\n",
    "...: x, y = X\n",
    "...: return (x**2 + y - 11)**2 + (x + y**2 - 7)**2\n",
    "\n",
    "```\n",
    "\n",
    "где для лучшего понимания массив ```X```, содержащий ```(x1, x2)```, распакован в именованные переменные ```x1 ≡ x``` и ```x2 ≡ y```.\n",
    "\n",
    "Для поиска минимума вызывается метод ```minimize``` с некоторыми начальными предпосылками, например ```(x,y) = (0,0)```:"
   ]
  },
  {
   "cell_type": "code",
   "execution_count": 199,
   "id": "1728f35c",
   "metadata": {},
   "outputs": [],
   "source": [
    "from scipy.optimize import minimize"
   ]
  },
  {
   "cell_type": "code",
   "execution_count": 200,
   "id": "8a81d3d1",
   "metadata": {},
   "outputs": [
    {
     "data": {
      "text/plain": [
       "      fun: 1.3782237540369274e-13\n",
       " hess_inv: array([[ 0.01578229, -0.0094806 ],\n",
       "       [-0.0094806 ,  0.03494937]])\n",
       "      jac: array([-3.95019453e-06, -1.19075395e-06])\n",
       "  message: 'Optimization terminated successfully.'\n",
       "     nfev: 48\n",
       "      nit: 10\n",
       "     njev: 16\n",
       "   status: 0\n",
       "  success: True\n",
       "        x: array([2.99999994, 1.99999999])"
      ]
     },
     "execution_count": 200,
     "metadata": {},
     "output_type": "execute_result"
    }
   ],
   "source": [
    "def f(X):\n",
    "    x, y = X\n",
    "    return (x**2 + y - 11)**2 + (x + y**2 - 7)**2\n",
    "\n",
    "minimize(f, (0, 0))"
   ]
  },
  {
   "cell_type": "markdown",
   "id": "1c788e3e",
   "metadata": {},
   "source": [
    "Метод ```minimize``` возвращает объект типа словарь с информацией о минимизации. Важные поля словаря описаны в табл. 1: если минимизация завершилась успешно, то минимум передается как ```x``` в этом объекте – здесь получена сходимость, близкая к действительному минимуму ```f(3,2) = 0```."
   ]
  },
  {
   "cell_type": "markdown",
   "id": "beb202e7",
   "metadata": {},
   "source": [
    "**Таблица 1**. Словарь, содержащий информацию о минимизации, возвращаемый методом\n",
    "```scipy.optimize.minimize```\n"
   ]
  },
  {
   "cell_type": "markdown",
   "id": "113e8a8d",
   "metadata": {},
   "source": [
    "|Ключи|Описание|\n",
    "|:----|:-------|\n",
    "|success|Логическое значение, сообщающее, была минимизация успешной или нет|\n",
    "|x|Если минимизация успешна, то содержит решение: значения (x1, x2, …, xn), в которых найден минимум функции. Если алгоритм минимизации завершился неудачно, то x содержит точку аварийного останова|\n",
    "|fun |Если минимизация успешна, то содержит значение функции в точке минимума, определенной как x|\n",
    "|message|Строка, описывающая результат минимизации|\n",
    "|jac|Значение матрицы Якоби: если минимизация успешна, то значения в этом массиве должны быть близкими к нулю|\n",
    "|hess, hess_inv|Матрица Гессе и обратная ей матрица (если использовалась)|\n",
    "|nfev, njev, nhev|Количество операций вычисления анализируемой функции, ее якобиана и гессиана|\n",
    "\n",
    "\n"
   ]
  },
  {
   "cell_type": "markdown",
   "id": "8ff6efd2",
   "metadata": {},
   "source": [
    "**Таблица 2**. Некоторые из методов оптимизации, используемые методом ```scipy.optimize.\n",
    "minimize```"
   ]
  },
  {
   "cell_type": "markdown",
   "id": "35f9cf51",
   "metadata": {},
   "source": [
    "|Значение аргумента method|Описание|\n",
    "|:------------------------|:-------|\n",
    "|BFGS |Алгоритм BFGS (Broyden-Fletcher-Goldfarb-Shanno), принятый по умолчанию для минимизации без ограничений или граничных условий|\n",
    "|Nelder-Mead|Алгоритм Нелдера–Мида, также известный как симплекс-метод (спуска) или метод деформируемого многогранника (амебы). Не требует производных|\n",
    "|CG|Метод сопряженных градиентов|\n",
    "|Powell|Метод Пауэлла (для этого алгоритма не требуются производные)|\n",
    "|dogleg|Ломано-линейный алгоритм в доверительной области (неограниченная минимизация). Требуются матрицы Якоби и Гессе (которые обязательно должны быть положительно определенными)|\n",
    "|TNC|Усеченный алгоритм Ньютона для минимизации с граничными условиями|\n",
    "|l-bfgs-b |Минимизация с ограничениями и граничными условиями с использованием алгоритма L-BFGS-B|\n",
    "|slsqp |Метод минимизации «последовательное программирование методом наименьших квадратов» (sequential least-squares programming) с граничными условиями и ограничениями по равенству и неравенству|\n",
    "|cobyla |Метод «оптимизации с ограничениями с использованием линейной аппроксимации» (constrained optimization by linear approximation) для минимизации с ограничениями|\n",
    "\n"
   ]
  },
  {
   "cell_type": "markdown",
   "id": "2ba47c8e",
   "metadata": {},
   "source": [
    "Алгоритм, используемый методом ```minimize```, определяется с помощью передаваемой в аргументе ```method``` строки, допустимые варианты которой приведены в табл. 3. Алгоритм, применяемый по умолчанию, BFGS – эффективный квазиньютоновский метод, который может аппроксимировать матрицу Якоби, если она не предоставлена и не используется матрица Гессе. Но этот алгоритм испытывает затруднения при поиске минимума функции Химмельблау:"
   ]
  },
  {
   "cell_type": "code",
   "execution_count": 201,
   "id": "4fd30f44",
   "metadata": {},
   "outputs": [],
   "source": [
    " mf = lambda X: -f(X) # Для поиска максимума минимизируется функция -f(x, y)."
   ]
  },
  {
   "cell_type": "code",
   "execution_count": 202,
   "id": "9aed88bc",
   "metadata": {},
   "outputs": [
    {
     "data": {
      "text/plain": [
       "      fun: -8122685219740.447\n",
       " hess_inv: array([[0.03043408, 0.00669823],\n",
       "       [0.00669823, 0.00147411]])\n",
       "      jac: array([-3.85738342e+09,  1.75265546e+10])\n",
       "  message: 'Desired error not necessarily achieved due to precision loss.'\n",
       "     nfev: 351\n",
       "      nit: 2\n",
       "     njev: 113\n",
       "   status: 2\n",
       "  success: False\n",
       "        x: array([  988.07169246, -1636.22149234])"
      ]
     },
     "execution_count": 202,
     "metadata": {},
     "output_type": "execute_result"
    }
   ],
   "source": [
    "minimize(mf, (0.1, -0.2))"
   ]
  },
  {
   "cell_type": "markdown",
   "id": "1bcf8e07",
   "metadata": {},
   "source": [
    "Начиная с (0.1, −0.2) алгоритм BFGS «сбивается с курса» на одном из крутых\n",
    "склонов функции Химмельблау, и сходимость не обеспечивается. К сожалению, в этом случае алгоритм не может определить критическую ошибку и возвращает значение True в флаге success (иногда, но не во всех случаях может выводиться сообщение об ошибке: ‘Desired error not necessarily achieved due to precision loss.’ [‘Требуемое значение погрешности не гарантируется изза потери точности.’] – это зависит от настройки уровня погрешности в конкретной системе). В действительности, чтобы обеспечить успешное завершение процесса минимизации, необходимо начать достаточно близко к точке\n",
    "максимума:\n"
   ]
  },
  {
   "cell_type": "code",
   "execution_count": 203,
   "id": "1e0d912f",
   "metadata": {},
   "outputs": [
    {
     "data": {
      "text/plain": [
       "      fun: -181.61652152258267\n",
       " hess_inv: array([[ 0.02312334, -0.0065379 ],\n",
       "       [-0.0065379 ,  0.06119262]])\n",
       "      jac: array([0., 0.])\n",
       "  message: 'Optimization terminated successfully.'\n",
       "     nfev: 24\n",
       "      nit: 5\n",
       "     njev: 8\n",
       "   status: 0\n",
       "  success: True\n",
       "        x: array([-0.27084461, -0.9230386 ])"
      ]
     },
     "execution_count": 203,
     "metadata": {},
     "output_type": "execute_result"
    }
   ],
   "source": [
    "minimize(mf, (-0.2,-1))"
   ]
  },
  {
   "cell_type": "markdown",
   "id": "5bd0c8de",
   "metadata": {},
   "source": [
    "Разумеется, это не очень помогает, если заранее неизвестно, где находится максимум. Попробуем применить другой алгоритм минимизации и  начнем с произвольно выбранной предпосылки (0,0):"
   ]
  },
  {
   "cell_type": "code",
   "execution_count": 204,
   "id": "2e834b90",
   "metadata": {},
   "outputs": [
    {
     "data": {
      "text/plain": [
       " final_simplex: (array([[-0.27086815, -0.92300745],\n",
       "       [-0.27082188, -0.92309634],\n",
       "       [-0.27084492, -0.92296765]]), array([-181.61652151, -181.61652149, -181.61652148]))\n",
       "           fun: -181.61652150549165\n",
       "       message: 'Optimization terminated successfully.'\n",
       "          nfev: 115\n",
       "           nit: 59\n",
       "        status: 0\n",
       "       success: True\n",
       "             x: array([-0.27086815, -0.92300745])"
      ]
     },
     "execution_count": 204,
     "metadata": {},
     "output_type": "execute_result"
    }
   ],
   "source": [
    "minimize(mf, (0, 0), method='Nelder-Mead')"
   ]
  },
  {
   "cell_type": "markdown",
   "id": "0aa39980",
   "metadata": {},
   "source": [
    "Алгоритм Нелдера–Мида – это симплекс-метод, который не требует вычисления или оценки производных функции, так что он не пытается взбираться на крутые склоны функции. Тем не менее этот алгоритм выполняет вычисления по 115 функциям для обеспечения сходимости к локальному максимуму.\n",
    "\n",
    "В качестве последнего примера рассмотрим метод dogleg, который требует передачи в метод ```minimize``` функций, вычисляющих матрицы Якоби и Гессе.\n",
    "\n",
    "Для функции Химмельблау необходимые производные имеют простые аналитические формы:\n",
    "\n",
    "```\n",
    "∂f/∂x = 4x(x2\n",
    " + y − 11) + 2(x + y2 − 7),\n",
    "∂f/∂y = 2(x2\n",
    " + y − 11) + 4y(x + y2 − 7),\n",
    "∂2\n",
    "f/∂x2 = 12x2 + 4y − 42,\n",
    "∂2\n",
    "f/∂y2 = 12y2 + 4x − 26,\n",
    "∂2\n",
    "f/∂y∂x = ∂2\n",
    "f/∂x∂y = 4x + 4y\n",
    "\n",
    "```\n",
    "\n",
    "Для вычисления матриц Якоби и Гессе можно написать следующий код:"
   ]
  },
  {
   "cell_type": "code",
   "execution_count": 205,
   "id": "de12a2b7",
   "metadata": {},
   "outputs": [],
   "source": [
    "import numpy as np\n",
    "def df(X):\n",
    "    x, y = X\n",
    "    f1, f2 = x**2 + y - 11, x + y**2 - 7\n",
    "    dfdx = 4*x*f1 + 2*f2\n",
    "    dfdy = 2*f1 + 4*y*f2\n",
    "    return np.array([dfdx, dfdy])"
   ]
  },
  {
   "cell_type": "code",
   "execution_count": 206,
   "id": "7f319b77",
   "metadata": {},
   "outputs": [],
   "source": [
    "def ddf(X):\n",
    "    x, y = X\n",
    "    d2fdx2 = 12*x**2 + 4*y - 42\n",
    "    d2fdy2 = 12*y**2 + 4*x - 26\n",
    "    d2fdxdy = 4*(x + y)\n",
    "    return np.array([[d2fdx2, d2fdxdy], [d2fdxdy, d2fdy2]])"
   ]
  },
  {
   "cell_type": "code",
   "execution_count": 207,
   "id": "2fe80ee3",
   "metadata": {},
   "outputs": [],
   "source": [
    "mdf = lambda X: -df(X)"
   ]
  },
  {
   "cell_type": "code",
   "execution_count": 208,
   "id": "59064d75",
   "metadata": {},
   "outputs": [],
   "source": [
    "mddf = lambda X: -ddf(X)"
   ]
  },
  {
   "cell_type": "markdown",
   "id": "424ab65c",
   "metadata": {},
   "source": [
    "Обратите внимание: как и для самой функции, при поиске максимума\n",
    "необходимо использовать отрицательные матрицы Якоби и  Гессе: они\n",
    "определены как лямбда-функции ```mdf``` и ```mddf```."
   ]
  },
  {
   "cell_type": "code",
   "execution_count": 209,
   "id": "c56ca173",
   "metadata": {},
   "outputs": [
    {
     "data": {
      "text/plain": [
       "     fun: -181.6165215225827\n",
       "    hess: array([[44.81187272,  4.77553259],\n",
       "       [ 4.77553259, 16.85937624]])\n",
       "     jac: array([-1.26922473e-10,  1.23684885e-09])\n",
       " message: 'Optimization terminated successfully.'\n",
       "    nfev: 5\n",
       "    nhev: 4\n",
       "     nit: 4\n",
       "    njev: 5\n",
       "  status: 0\n",
       " success: True\n",
       "       x: array([-0.27084459, -0.92303856])"
      ]
     },
     "execution_count": 209,
     "metadata": {},
     "output_type": "execute_result"
    }
   ],
   "source": [
    " minimize(mf, (0, 0), jac=mdf, hess=mddf, method='dogleg')"
   ]
  },
  {
   "cell_type": "markdown",
   "id": "7a6b662f",
   "metadata": {},
   "source": [
    "Алгоритм успешно сходится в точке локального максимума после пяти операций вычисления функции, пяти операций вычисления матрицы Якоби и четырех операций вычисления матрицы Гессе."
   ]
  },
  {
   "cell_type": "markdown",
   "id": "343e9d07",
   "metadata": {},
   "source": [
    "## Оптимизация с ограничениями"
   ]
  },
  {
   "cell_type": "markdown",
   "id": "3315826f",
   "metadata": {},
   "source": [
    "Иногда необходимо найти максимум или минимум объекта функции с одним\n",
    "или несколькими ограничениями. Чтобы воспользоваться описанным выше\n",
    "методом в качестве примера, можно попытаться найти один минимум функции ```f(x,y)```, который удовлетворяет условию ```x > 0```, ```y > 0```, или значение минимума\n",
    "функции на прямой ```x = y```"
   ]
  },
  {
   "cell_type": "markdown",
   "id": "2787e5e7",
   "metadata": {},
   "source": [
    "Алгоритмы ```l-bfgs-b```, ```tnc``` и ```slsqp``` поддерживают аргумент ```bounds``` для передачи в метод ```minimize```. Значение аргумента ```bounds``` – это последовательность\n",
    "кортежей, каждый из которых содержит пары ```(min, max)``` для каждой переменной функции, определяющие границы минимизации для соответствующей переменной. Если в каком-либо направлении не существует ограничений, то используется значение ```None```.\n",
    "Например, если выполняется попытка найти минимум функции ```f(x,y)```, начиная с ```(−1/2, −1/2)``` без определения каких-либо границ, то метод ```slsqp``` обеспечивает сходимость (почти точную) к минимуму в точке ```(−2.805118, 3.131312)```:"
   ]
  },
  {
   "cell_type": "code",
   "execution_count": 210,
   "id": "1c146a4f",
   "metadata": {},
   "outputs": [
    {
     "data": {
      "text/plain": [
       "     fun: 4.0198726971069946e-07\n",
       "     jac: array([-0.00721077,  0.00037714])\n",
       " message: 'Optimization terminated successfully'\n",
       "    nfev: 36\n",
       "     nit: 10\n",
       "    njev: 10\n",
       "  status: 0\n",
       " success: True\n",
       "       x: array([-2.80522924,  3.131319  ])"
      ]
     },
     "execution_count": 210,
     "metadata": {},
     "output_type": "execute_result"
    }
   ],
   "source": [
    "minimize(f, (-0.5,-0.5), method='slsqp')"
   ]
  },
  {
   "cell_type": "markdown",
   "id": "1bee6ce8",
   "metadata": {},
   "source": [
    "Чтобы оставаться в квадранте ```x < 0```, ```y < 0```, необходимо установить значения\n",
    "bounds без минимальных границ по ```x``` и ```y``` и максимальные границы ```x = 0``` и ```y = 0```:"
   ]
  },
  {
   "cell_type": "code",
   "execution_count": 211,
   "id": "7f949db0",
   "metadata": {},
   "outputs": [],
   "source": [
    "xbounds = (None, 0)"
   ]
  },
  {
   "cell_type": "code",
   "execution_count": 212,
   "id": "e57953e2",
   "metadata": {},
   "outputs": [],
   "source": [
    "ybounds = (None, 0)"
   ]
  },
  {
   "cell_type": "code",
   "execution_count": 213,
   "id": "e33214eb",
   "metadata": {},
   "outputs": [],
   "source": [
    "bounds = (xbounds, ybounds)"
   ]
  },
  {
   "cell_type": "code",
   "execution_count": 214,
   "id": "e5cf44e6",
   "metadata": {},
   "outputs": [
    {
     "data": {
      "text/plain": [
       "     fun: 4.115667606325133e-08\n",
       "     jac: array([-0.00283595, -0.00034243])\n",
       " message: 'Optimization terminated successfully'\n",
       "    nfev: 39\n",
       "     nit: 11\n",
       "    njev: 11\n",
       "  status: 0\n",
       " success: True\n",
       "       x: array([-3.77933774, -3.28319868])"
      ]
     },
     "execution_count": 214,
     "metadata": {},
     "output_type": "execute_result"
    }
   ],
   "source": [
    "minimize(f, (-0.5, -0.5), bounds=bounds, method='slsqp')"
   ]
  },
  {
   "cell_type": "markdown",
   "id": "30aad103",
   "metadata": {},
   "source": [
    "Предположим, что необходимо найти точки экстремума функции Химмельблау, которые также соответствуют условию ```x = y``` (т. е. лежат на диагонали графика, изображенного на рис 2). Из методов минимизации, перечисленных в табл. 2, два – ```cobyla``` и ```slsqp``` – позволяют применять ограничения, поэтому необходимо воспользоваться одним из них.\n",
    "Ограничения определяются как аргумент ```constrains``` для метода ```minimize``` в виде\n",
    "последовательностисловарей,определяющих строковые ключи: 'type' – типограничения и 'fun' – вызываемый объект, реализующий это ограничение. Значением 'type' может быть 'eq' или 'ineq' для ограничения, основанного на равенстве (например, ```x = y```) или на неравенстве (например, ```x > 2y − 1```). Обратите особое внимание: метод ```cobyla``` не поддерживает ограничения, основанные на равенстве.\n",
    "\n",
    "Функция ограничения, основанного на равенстве, должна возвращать ноль, если ограничение соблюдено, а функция ограничения, основанного на неравенстве, должна возвращать неотрицательное значение, если ограничение соблюдено.\n",
    "\n",
    "Для поиска минимума функции ```f(x,y)``` с ограничением ```x = y``` можно воспользоваться методом ```slsqp``` с функцией ограничения, основанного на равенстве,\n",
    "возвращающей ```x − y:"
   ]
  },
  {
   "cell_type": "code",
   "execution_count": 215,
   "id": "e8dbf125",
   "metadata": {},
   "outputs": [],
   "source": [
    "con = {'type': 'eq', 'fun': lambda X: X[0] - X[1]}"
   ]
  },
  {
   "cell_type": "code",
   "execution_count": 216,
   "id": "0bf171bd",
   "metadata": {},
   "outputs": [
    {
     "data": {
      "text/plain": [
       "     fun: 8.000000000716087\n",
       "     jac: array([-16.33084416,  16.33130538])\n",
       " message: 'Optimization terminated successfully'\n",
       "    nfev: 25\n",
       "     nit: 7\n",
       "    njev: 7\n",
       "  status: 0\n",
       " success: True\n",
       "       x: array([2.54138438, 2.54138438])"
      ]
     },
     "execution_count": 216,
     "metadata": {},
     "output_type": "execute_result"
    }
   ],
   "source": [
    "minimize(f, (0, 0), constraints=con, method='slsqp')"
   ]
  },
  {
   "cell_type": "markdown",
   "id": "16ffae6c",
   "metadata": {},
   "source": [
    "Метод сходится к  одному из минимумов (существует и другой минимум,\n",
    "который можно найти, начав, например, с (−2, −2). А как насчет максимума?"
   ]
  },
  {
   "cell_type": "code",
   "execution_count": 217,
   "id": "8fab64a9",
   "metadata": {},
   "outputs": [
    {
     "name": "stderr",
     "output_type": "stream",
     "text": [
      "C:\\Users\\user\\AppData\\Local\\Temp\\ipykernel_536\\2614586905.py:3: RuntimeWarning: overflow encountered in double_scalars\n",
      "  return (x**2 + y - 11)**2 + (x + y**2 - 7)**2\n",
      "C:\\Users\\user\\anaconda3\\lib\\site-packages\\scipy\\optimize\\_numdiff.py:557: RuntimeWarning: invalid value encountered in subtract\n",
      "  df = fun(x) - f0\n"
     ]
    },
    {
     "data": {
      "text/plain": [
       "     fun: nan\n",
       "     jac: array([nan, nan])\n",
       " message: 'Iteration limit reached'\n",
       "    nfev: 1335\n",
       "     nit: 100\n",
       "    njev: 100\n",
       "  status: 9\n",
       " success: False\n",
       "       x: array([nan, nan])"
      ]
     },
     "execution_count": 217,
     "metadata": {},
     "output_type": "execute_result"
    }
   ],
   "source": [
    "minimize(mf, (0, 0), constraints=con, method='slsqp')"
   ]
  },
  {
   "cell_type": "markdown",
   "id": "15d614fc",
   "metadata": {},
   "source": [
    "В этом случае поиск заканчивается неудачно  – алгоритм пытается «взобраться на крутой склон долины». Более подходящим является выбор алгоритма ```cobyla```, но этот алгоритм не поддерживает ограничения, основанные на равенстве, поэтому придется сформировать требуемое ограничение с помощью пары неравенств: ```x = y```, если не выполняются оба неравенства ```x > y``` и ```x < y```:"
   ]
  },
  {
   "cell_type": "code",
   "execution_count": 218,
   "id": "33759ec0",
   "metadata": {},
   "outputs": [],
   "source": [
    " con1 = {'type': 'ineq', 'fun': lambda X: X[0] - X[1]}"
   ]
  },
  {
   "cell_type": "code",
   "execution_count": 219,
   "id": "fb069508",
   "metadata": {},
   "outputs": [],
   "source": [
    " con2 = {'type': 'ineq', 'fun': lambda X: X[1] - X[0]}"
   ]
  },
  {
   "cell_type": "code",
   "execution_count": 220,
   "id": "e33ef320",
   "metadata": {},
   "outputs": [
    {
     "data": {
      "text/plain": [
       "     fun: -179.12499987327624\n",
       "   maxcv: -0.0\n",
       " message: 'Optimization terminated successfully.'\n",
       "    nfev: 34\n",
       "  status: 1\n",
       " success: True\n",
       "       x: array([-0.49994148, -0.49994148])"
      ]
     },
     "execution_count": 220,
     "metadata": {},
     "output_type": "execute_result"
    }
   ],
   "source": [
    " minimize(mf, (0, 0), constraints=(con1, con2), method='cobyla')"
   ]
  },
  {
   "cell_type": "markdown",
   "id": "e9333ac6",
   "metadata": {},
   "source": [
    "Здесь функция ограничения, определенная в ```con1```, возвращает неотрицательное значение, если ```x > y```, а функция, определенная в ```con2```, возвращает неотрицательное значение, если ```x < y```. Единственный вариант выполнения этих обоих ограничений – равенство ```x = y```."
   ]
  },
  {
   "cell_type": "markdown",
   "id": "ca5ee56e",
   "metadata": {},
   "source": [
    "## Минимизация функции одной переменной"
   ]
  },
  {
   "cell_type": "markdown",
   "id": "832446d1",
   "metadata": {},
   "source": [
    "Если минимизируемая функция является одномерной (т. е. зависит только от\n",
    "одной скалярной переменной), то для нее предлагается более быстрый алгоритм ```scipy.optimize.minimize_scalar```. Чтобы просто получить минимум, эту функцию можно вызвать с  аргументом ```method='brent'```, который определяет использование реализации метода Брента для нахождения минимума. В идеальном случае сначала нужно установить интервал поиска минимума, предоставив для ```x``` значения ```(a, b, c)``` такие, что ```f(a) > f(b)``` и ```f(c) > f(b)```. Это можно сделать с помощью аргумента ```bracket```, в котором передается кортеж ```(a, b, c)```. Если это невозможно или слишком сложно, то передается интервал из двух значений ```x```, в  котором начинается поиск ограниченной области минимума (в  направлении «спуска», т.  е. убывания функции). Если значение аргумента\n",
    "```bracket``` не задано,то поиск ограниченной области минимума начинается с интервала ```(0,1)```. На рис. 1 приведен пример графика многочлена с  двумя минимумами\n",
    "и одним максимумом.\n"
   ]
  },
  {
   "cell_type": "markdown",
   "id": "eaee40b7",
   "metadata": {},
   "source": [
    "![](images/image3.png)\n",
    "**Рис. 3**. График многочлена f(x) = x4 − 3x3− 24x2 + 28x + 48"
   ]
  },
  {
   "cell_type": "markdown",
   "id": "b02d884a",
   "metadata": {},
   "source": [
    "Без заданного значения аргумента ```bracket``` метод ```minimize_scalar``` обеспечивает сходимость к  минимуму в точке ```−2.841``` для функции, показанной на рис. 2:"
   ]
  },
  {
   "cell_type": "code",
   "execution_count": 221,
   "id": "b4e79fa8",
   "metadata": {},
   "outputs": [
    {
     "data": {
      "text/plain": [
       "     fun: -91.32163915433344\n",
       "    nfev: 15\n",
       "     nit: 10\n",
       " success: True\n",
       "       x: -2.841044326595826"
      ]
     },
     "execution_count": 221,
     "metadata": {},
     "output_type": "execute_result"
    }
   ],
   "source": [
    "Polynomial = np.polynomial.Polynomial\n",
    "from scipy.optimize import minimize_scalar\n",
    "f = Polynomial( (48., 28., -24., -3., 1.))\n",
    "minimize_scalar(f)"
   ]
  },
  {
   "cell_type": "markdown",
   "id": "13d72a98",
   "metadata": {},
   "source": [
    "Если определить ограниченную область поиска другого минимума, передавая значения ```(a, b, c) = (3, 4, 6)```, которые, как можно видеть на рис. 2, соответствуют условию ```f(a) > f(b) < f(c)```, то алгоритм обеспечивает сходимость в точке ```4.549```:\n"
   ]
  },
  {
   "cell_type": "code",
   "execution_count": 222,
   "id": "307ef8b7",
   "metadata": {},
   "outputs": [
    {
     "data": {
      "text/plain": [
       "     fun: -175.45563549487974\n",
       "    nfev: 14\n",
       "     nit: 10\n",
       " success: True\n",
       "       x: 4.549468364257193"
      ]
     },
     "execution_count": 222,
     "metadata": {},
     "output_type": "execute_result"
    }
   ],
   "source": [
    " minimize_scalar(f, bracket=(3, 4, 6))"
   ]
  },
  {
   "cell_type": "markdown",
   "id": "bb0a06d7",
   "metadata": {},
   "source": [
    "Наконец, для поиска максимума метод ```minimize_scalar``` вызывается с передачей в него функции ```−f(x)```. На этот раз инициализируется поиск в ограниченной области минимума функции ```−f(x)``` с помощью пары значений ```(−1, 0)```:"
   ]
  },
  {
   "cell_type": "code",
   "execution_count": 223,
   "id": "2388237d",
   "metadata": {},
   "outputs": [
    {
     "data": {
      "text/plain": [
       "     fun: -55.734305899213226\n",
       "    nfev: 12\n",
       "     nit: 8\n",
       " success: True\n",
       "       x: 0.5415759589734416"
      ]
     },
     "execution_count": 223,
     "metadata": {},
     "output_type": "execute_result"
    }
   ],
   "source": [
    "minimize_scalar(-f, bracket=(-1, 0))"
   ]
  },
  {
   "cell_type": "markdown",
   "id": "a09355ce",
   "metadata": {},
   "source": [
    "## Нелинейная подгонка методом наименьших квадратов"
   ]
  },
  {
   "cell_type": "markdown",
   "id": "67dbfda9",
   "metadata": {},
   "source": [
    "В библиотеке ```SciPy``` обобщенной программой нелинейной подгонки методом\n",
    "наименьших квадратов является ```scipy.optimize.leastsq```, основная сигнатура\n",
    "вызова которой:"
   ]
  },
  {
   "cell_type": "raw",
   "id": "c891b9f1",
   "metadata": {},
   "source": [
    "scipy.optimize.leastsq(func, x0, args=())"
   ]
  },
  {
   "cell_type": "markdown",
   "id": "c3cfc63e",
   "metadata": {},
   "source": [
    "Эта программа пытается подогнать последовательность точек данных y к моделируемой функции ```f```, которая зависит от одного или нескольких параметров подгонки. В метод ```leastsq``` передается соответствующий объект функции ```func```, которая возвращает разность между ```y``` и ```f``` (невязки). Для метода ```leastsq``` также требуется начальная предпосылка для подгоняемых параметров ```x0```. Если для функции ```func``` необходимы какие-либо другие аргументы (обычно массив данных ```y``` и одна или несколько независимых переменных), то они передаются в последовательности ```args```. Например, рассмотрим подгонку искусственно зашумленной затухающей функции косинуса ```f(t) = Ae−t/T cos 2πvt``` (см. рис. 4)."
   ]
  },
  {
   "cell_type": "code",
   "execution_count": 224,
   "id": "0022f97d",
   "metadata": {},
   "outputs": [],
   "source": [
    "import numpy as np"
   ]
  },
  {
   "cell_type": "code",
   "execution_count": 225,
   "id": "efbdd516",
   "metadata": {},
   "outputs": [],
   "source": [
    "import matplotlib.pyplot as plt\n"
   ]
  },
  {
   "cell_type": "code",
   "execution_count": 226,
   "id": "719cf1fb",
   "metadata": {},
   "outputs": [],
   "source": [
    "A, freq, tau = 10, 4, 0.5"
   ]
  },
  {
   "cell_type": "code",
   "execution_count": 227,
   "id": "bc83207c",
   "metadata": {},
   "outputs": [],
   "source": [
    "def f(t, A, freq, tau):\n",
    "    return A * np.exp(-t/tau) * np.cos(2*np.pi * freq * t)"
   ]
  },
  {
   "cell_type": "code",
   "execution_count": 228,
   "id": "76ad69b9",
   "metadata": {},
   "outputs": [],
   "source": [
    "tmax, dt = 1, 0.01"
   ]
  },
  {
   "cell_type": "code",
   "execution_count": 229,
   "id": "802f0c37",
   "metadata": {},
   "outputs": [],
   "source": [
    "t = np.arange(0, tmax, dt)"
   ]
  },
  {
   "cell_type": "code",
   "execution_count": 230,
   "id": "e0337db3",
   "metadata": {},
   "outputs": [],
   "source": [
    "yexact = f(t, A, freq, tau)"
   ]
  },
  {
   "cell_type": "code",
   "execution_count": 231,
   "id": "cb8e3d57",
   "metadata": {},
   "outputs": [],
   "source": [
    "y = yexact + np.random.randn(len(yexact))*2"
   ]
  },
  {
   "cell_type": "code",
   "execution_count": 232,
   "id": "ac60f5df",
   "metadata": {},
   "outputs": [
    {
     "data": {
      "text/plain": [
       "[<matplotlib.lines.Line2D at 0x28f6a089eb0>]"
      ]
     },
     "execution_count": 232,
     "metadata": {},
     "output_type": "execute_result"
    },
    {
     "data": {
      "image/png": "[encoded data removed]",
      "text/plain": [
       "<Figure size 432x288 with 1 Axes>"
      ]
     },
     "metadata": {
      "needs_background": "light"
     },
     "output_type": "display_data"
    }
   ],
   "source": [
    "plt.plot(t, yexact)"
   ]
  },
  {
   "cell_type": "code",
   "execution_count": 233,
   "id": "688a0d8a",
   "metadata": {},
   "outputs": [
    {
     "data": {
      "text/plain": [
       "[<matplotlib.lines.Line2D at 0x28f6a077610>]"
      ]
     },
     "execution_count": 233,
     "metadata": {},
     "output_type": "execute_result"
    },
    {
     "data": {
      "image/png": "[encoded data removed]",
      "text/plain": [
       "<Figure size 432x288 with 1 Axes>"
      ]
     },
     "metadata": {
      "needs_background": "light"
     },
     "output_type": "display_data"
    }
   ],
   "source": [
    "plt.plot(t, y)"
   ]
  },
  {
   "cell_type": "markdown",
   "id": "7e070b5b",
   "metadata": {},
   "source": [
    "Для подгонки этого зашумленного набора данных ```y``` к параметрам ```A```, ```freq```\n",
    "и ```tau``` (будем считать, что нам они неизвестны) сначала определим необходимую функцию ```residuals```:\n"
   ]
  },
  {
   "cell_type": "code",
   "execution_count": 234,
   "id": "ba881eed",
   "metadata": {},
   "outputs": [],
   "source": [
    "def residuals(p, y, t):\n",
    "    A, freq, tau = p\n",
    "    return y - f(t, A, freq, tau)"
   ]
  },
  {
   "cell_type": "markdown",
   "id": "c88fef8a",
   "metadata": {},
   "source": [
    "Первый аргумент – последовательность параметров ```p```, которые для лучшего понимания распаковываются в именованные переменные. Необходимые дополнительные аргументы: набор точек данных ```y``` и независимая переменная ```t```. Теперь определим для параметров некоторые начальные предпосылки, которые не должны быть слишком необдуманными, и вызовем метод ```leastsq```:"
   ]
  },
  {
   "cell_type": "code",
   "execution_count": 235,
   "id": "208fef79",
   "metadata": {},
   "outputs": [],
   "source": [
    "from scipy.optimize import leastsq"
   ]
  },
  {
   "cell_type": "code",
   "execution_count": 236,
   "id": "ae299de9",
   "metadata": {},
   "outputs": [],
   "source": [
    "p0 = 5, 5, 1"
   ]
  },
  {
   "cell_type": "code",
   "execution_count": 237,
   "id": "93c7dd81",
   "metadata": {},
   "outputs": [],
   "source": [
    "plsq = leastsq(residuals, p0, args=(y, t))"
   ]
  },
  {
   "cell_type": "code",
   "execution_count": 238,
   "id": "3c663225",
   "metadata": {},
   "outputs": [
    {
     "data": {
      "text/plain": [
       "array([9.84212553, 4.01942949, 0.52405089])"
      ]
     },
     "execution_count": 238,
     "metadata": {},
     "output_type": "execute_result"
    }
   ],
   "source": [
    "plsq[0]"
   ]
  },
  {
   "cell_type": "markdown",
   "id": "95bbc43a",
   "metadata": {},
   "source": [
    "Как и другие программы оптимизации из библиотеки ```SciPy```, метод ```leastsq``` можно настроить так, чтобы он возвращал больше информации о выполненной работе, но здесь выводятся только решения (параметры наилучшей подгонки), которые всегда являются первым элементом в кортеже ```plsq```.\n",
    "\n",
    "Действительные значения ```A```, ```freq```, ```tau = 10, 4, 0.5```, поэтому с учетом шума\n",
    "в данных результат вполне приемлемый. Соответствующее графическое отображение:"
   ]
  },
  {
   "cell_type": "code",
   "execution_count": 239,
   "id": "47fdacbe",
   "metadata": {},
   "outputs": [
    {
     "data": {
      "image/png": "[encoded data removed]",
      "text/plain": [
       "<Figure size 432x288 with 1 Axes>"
      ]
     },
     "metadata": {
      "needs_background": "light"
     },
     "output_type": "display_data"
    }
   ],
   "source": [
    "plt.plot(t, y, 'o', c='k', label='Data')\n",
    "plt.plot(t, yexact, c='gray', label='Exact')\n",
    "pfit = plsq[0]\n",
    "plt.plot(t, f(t, *pfit), c='k', label='Fit')\n",
    "plt.legend()\n",
    "plt.show()"
   ]
  },
  {
   "cell_type": "markdown",
   "id": "1e8aab51",
   "metadata": {},
   "source": [
    "**Рис. 3**. Нелинейная подгонка методом наименьших квадратов для зашумленной\n",
    "затухающей функции косинуса"
   ]
  },
  {
   "cell_type": "markdown",
   "id": "41a7a8da",
   "metadata": {},
   "source": [
    "В метод ```leastsq``` также можно передать матрицу Якоби, если она известна,\n",
    "как показано в примере 3."
   ]
  },
  {
   "cell_type": "markdown",
   "id": "b923385d",
   "metadata": {},
   "source": [
    "**Пример  1**. Здесь рассматривается зашумленная последовательность точек данных, которые необходимо подогнать к эллипсу. Уравнение эллипса можно записать как нелинейную функцию от угла ```θ``` ```(0 ≤ θ ≤ 2π)```, который зависит от параметров ```a``` (главная полуось эллипса) и ```e``` (эксцентриситет эллипса):\n",
    "\n",
    "\n",
    "```r(θ; a, e) = a(1 − e2) / (1 − e cos θ)```\n",
    "\n",
    "\n",
    "Для подгонки последовательности точек данных ```(θ,r)``` к этой функции сначала напишем код функции Python, принимающей два аргумента: независимая переменная ```theta``` и кортеж параметров ```p = (a, e)```. Необходимая для минимизации функция определяет разность между этой моделируемой функцией и данными ```r```, определенную как метод ```residuals```:\n"
   ]
  },
  {
   "cell_type": "markdown",
   "id": "367af005",
   "metadata": {},
   "source": [
    "plsq = leastsq(residuals, p0, args=(r, theta))"
   ]
  },
  {
   "cell_type": "markdown",
   "id": "05f07c66",
   "metadata": {},
   "source": [
    "Но, если это вообще возможно, лучше также передать матрицу Якоби (первая производная функции подгонки с учетом подгоняемых параметров). Эти формулы без затруднений вычисляются и реализуются:"
   ]
  },
  {
   "cell_type": "markdown",
   "id": "1248422c",
   "metadata": {},
   "source": [
    "∂f/∂a = (1 − e2) / (1 − e cos θ),\n",
    "\n",
    "∂f/∂e = a[cos θ(1 + e2) − 2e] / (1 − e cos θ)2."
   ]
  },
  {
   "cell_type": "markdown",
   "id": "988171cd",
   "metadata": {},
   "source": [
    "Но функция, необходимая для минимизации, представляет собой функцию невязок ```r − f```, поэтому требуются отрицательные значения этих производных.\n",
    "\n",
    "В листинге 3 приведен работающий код, а на рис. 3 – результат подгонки."
   ]
  },
  {
   "cell_type": "markdown",
   "id": "45770f72",
   "metadata": {},
   "source": [
    "**Листинг 1**. Нелинейная подгонка методом наименьших квадратов к эллипсу"
   ]
  },
  {
   "cell_type": "code",
   "execution_count": 240,
   "id": "b17e4d2f",
   "metadata": {},
   "outputs": [
    {
     "name": "stdout",
     "output_type": "stream",
     "text": [
      "(array([2.47915456, 0.87929513]), 1)\n"
     ]
    }
   ],
   "source": [
    "# eg8-leastsq.py\n",
    "import numpy as np\n",
    "from scipy import optimize\n",
    "import matplotlib.pyplot as plt\n",
    "def f(theta, p):\n",
    "    a, e = p\n",
    "    return a * (1 - e**2)/(1 - e*np.cos(theta))\n",
    "# Данные для подгонки.\n",
    "theta = np.array([0.0000, 0.4488, 0.8976, 1.3464, 1.7952, 2.2440, 2.6928,\n",
    " 3.1416, 3.5904, 4.0392, 4.4880, 4.9368, 5.3856, 5.8344, 6.2832])\n",
    "r = np.array([4.6073, 2.8383, 1.0795, 0.8545, 0.5177, 0.3130, 0.0945, 0.4303,\n",
    " 0.3165, 0.4654, 0.5159, 0.7807, 1.2683, 2.5384, 4.7271])\n",
    "def residuals(p, r, theta):\n",
    "    \"\"\" Return the observed - calculated residuals using f(theta , p). \"\"\"\n",
    "    \"\"\" Возвращает невязки значений наблюдаемое-вычисляемое с использованием f(theta, p).ipynb_checkpoints/\"\"\"\n",
    "    return r - f(theta, p)\n",
    "def jac(p, r, theta):\n",
    "    \"\"\" Calculate and return the Jacobian of residuals. \"\"\"\n",
    "    \"\"\" Вычисление и возвращение матрицы Якоби невязок. \"\"\"\n",
    "    a, e = p\n",
    "    da = (1 - e**2)/(1 - e*np.cos(theta))\n",
    "    de = a * (np.cos(theta) * (1 + e**2) - 2*e) / (1 - e*np.cos(theta))**2\n",
    "    return -da, -de\n",
    "\n",
    "# Начальные предпосылки для a, e.\n",
    "p0 = (1, 0.5)\n",
    "plsq = optimize.leastsq(residuals, p0, Dfun=jac, args=(r, theta), col_deriv=True)\n",
    "print(plsq)"
   ]
  },
  {
   "cell_type": "code",
   "execution_count": 241,
   "id": "b6d93a6c",
   "metadata": {},
   "outputs": [
    {
     "data": {
      "image/png": "[encoded data removed]",
      "text/plain": [
       "<Figure size 432x288 with 1 Axes>"
      ]
     },
     "metadata": {
      "needs_background": "light"
     },
     "output_type": "display_data"
    }
   ],
   "source": [
    "plt.polar(theta, r, 'x')\n",
    "theta_grid = np.linspace(0, 2*np.pi, 200)\n",
    "plt.polar(theta_grid, f(theta_grid, plsq[0]), lw=2)\n",
    "plt.show()"
   ]
  },
  {
   "cell_type": "markdown",
   "id": "00172802",
   "metadata": {},
   "source": [
    "В библиотеку ```SciPy``` также включен метод подбора (аппроксимации) кривой ```scipy.optimize.curve_fit```, которая может напрямую подгонять данные к функции (без дополнительной функции, вычисляющей невязки) и поддерживает подгонку взвешенным (с  весовыми коэффициентами) методом наименьших квадратов. Сигнатура вызова этого метода"
   ]
  },
  {
   "cell_type": "raw",
   "id": "eb9d9ceb",
   "metadata": {},
   "source": [
    "curve_fit(f, xdata, ydata, p0, sigma, absolute_sigma)"
   ]
  },
  {
   "cell_type": "markdown",
   "id": "1089d99d",
   "metadata": {},
   "source": [
    "где ```f``` – функция, к которой подгоняются данные ```(xdata, ydata)```. Аргумент ```p0``` – это начальная предпосылка для параметров. Если определен аргумент ```sigma```, то\n",
    "в немпередаются весовые коэффициентыдля значенийydata.Еслидля аргумента ```absolute_sigma``` задано значение True, то значения ```sigma``` интерпретируются\n",
    "как стандартное (среднеквадратическое) отклонение ошибки (т. е. абсолютные\n",
    "весовые коэффициенты). По умолчанию ```absolute_sigma=False```, и значения ```sigma``` интерпретируются как относительные весовые коэффициенты.\n",
    "Метод ```curve_fit``` возвращает ```popt``` – значения наилучшей подгонки параметров и pcov – матрицу ковариации параметров."
   ]
  },
  {
   "cell_type": "markdown",
   "id": "d7723e7d",
   "metadata": {},
   "source": [
    "**Пример 2**. Для демонстрации практического использования метода ```curve_fit```\n",
    "для подгонки методом наименьших квадратов с весовыми коэффициентами и без\n",
    "них программа в листинге 5 подгоняет функцию кривой распределения Лоренца,\n",
    "центрированную в точке x0 с половинной шириной на уровне половинной амплитуды (HWHM) ```γ``` и амплитудой ```A```:\n",
    "\n",
    "f(x) = Aγ^2/ (γ^2 + (x − x0)^2)\n",
    "\n",
    "по некоторым искусственно искаженным (зашумленным) данным. Параметры\n",
    "подгонки ```A```, ```γ``` и ```x0```. Данные, близкие к центральной линии, имитируются как\n",
    "более искаженные, чем остальные."
   ]
  },
  {
   "cell_type": "markdown",
   "id": "4d8cccc1",
   "metadata": {},
   "source": [
    "**Листинг 2**. Подгонка методом наименьших квадратов с весовыми коэффициентами и без\n",
    "них с использованием метода ```curve_fit```"
   ]
  },
  {
   "cell_type": "code",
   "execution_count": 242,
   "id": "e1fd9e03",
   "metadata": {},
   "outputs": [
    {
     "name": "stdout",
     "output_type": "stream",
     "text": [
      "Unweighted fit parameters: [11.9440147   3.28106392  4.46344815]\n",
      "Covariance matrix:\n",
      "[[ 0.05750924 -0.00080719  0.00387301]\n",
      " [-0.00080719  0.03184643 -0.04899809]\n",
      " [ 0.00387301 -0.04899809  0.14784089]]\n",
      "rms error in fit: 1.7118458123724927\n",
      "\n",
      "Weighted fit parameters: [12.0980153   3.06173479  4.77259282]\n",
      "Covariance matrix:\n",
      "[[ 0.01896606 -0.00364726  0.00673634]\n",
      " [-0.00364726  0.01182454 -0.02038193]\n",
      " [ 0.00673634 -0.02038193  0.05657087]]\n",
      "rms error in fit: 0.6681733924651562\n"
     ]
    },
    {
     "data": {
      "image/png": "[encoded data removed]",
      "text/plain": [
       "<Figure size 432x288 with 1 Axes>"
      ]
     },
     "metadata": {
      "needs_background": "light"
     },
     "output_type": "display_data"
    }
   ],
   "source": [
    "# eg8-curve -fit.py\n",
    "import numpy as np\n",
    "from scipy.optimize import curve_fit\n",
    "import matplotlib.pyplot as plt\n",
    "x0, A, gamma = 12, 3, 5\n",
    "n = 200\n",
    "x = np.linspace(1, 20, n)\n",
    "yexact = A * gamma**2 / (gamma**2 + (x-x0)**2)\n",
    "\n",
    "# Добавление некоторого шума с использованием sigma с коэффициентом 0.5 вне особенно\n",
    "# зашумленной области в окрестности x0, где значение sigma равно 3.\n",
    "sigma = np.ones(n)*0.5\n",
    "sigma[np.abs(x-x0+1)<1] = 3\n",
    "noise = np.random.randn(n) * sigma\n",
    "y = yexact + noise\n",
    "def f(x, x0, A, gamma):\n",
    "    \"\"\" The Lorentzian entered at x0 with amplitude A and HWHM gamma. \"\"\"\n",
    "    \"\"\" Функция кривой распределения Лоренца в точке x0 с амплитудой A и HWHM gamma. \"\"\"\n",
    "    return A *gamma**2 / (gamma**2 + (x-x0)**2)\n",
    "\n",
    "def rms(y, yfit):\n",
    "    return np.sqrt(np.sum((y-yfit)**2))\n",
    "\n",
    "# Подгонка без весовых коэффициентов.\n",
    "p0 = 10, 4, 2\n",
    "popt, pcov = curve_fit(f, x, y, p0)\n",
    "yfit = f(x, *popt)\n",
    "print('Unweighted fit parameters:', popt)\n",
    "print('Covariance matrix:'); print(pcov)\n",
    "print('rms error in fit:', rms(yexact , yfit))\n",
    "print()\n",
    "# Подгонка с весовыми коэффициентами.\n",
    "popt2, pcov2 = curve_fit(f, x, y, p0, sigma=sigma, absolute_sigma=True)\n",
    "yfit2 = f(x, *popt2)\n",
    "print('Weighted fit parameters:', popt2)\n",
    "print('Covariance matrix:'); print(pcov2)\n",
    "print('rms error in fit:', rms(yexact , yfit2))\n",
    "plt.plot(x, yexact, label='Exact')\n",
    "plt.errorbar(x, y, yerr=noise, elinewidth=0.5, c='0.5', marker='+', lw=0, label='Noisydata')\n",
    "plt.plot(x, yfit, label='Unweighted fit')\n",
    "plt.plot(x, yfit2, label='Weighted fit')\n",
    "plt.ylim(-1, 4)\n",
    "plt.legend(loc='lower center')\n",
    "plt.show()\n"
   ]
  },
  {
   "cell_type": "markdown",
   "id": "b940d118",
   "metadata": {},
   "source": [
    "**Рис. 4**. Пример подгонки методом наименьших квадратов с использованием метода\n",
    "```scipy.optimize.curve_fit```"
   ]
  },
  {
   "cell_type": "markdown",
   "id": "a08e3403",
   "metadata": {},
   "source": [
    "Как можно видеть на рис.  4, подгонка без весовых коэффициентов искажается в зашумленной области. При подгонке с весовыми коэффициентами данным в этой области присваивается меньший вес, поэтому параметры получаются более близкими к истинным значениям, следовательно, улучшается качество подгонки в целом. Ниже приведен вывод результата:"
   ]
  },
  {
   "cell_type": "markdown",
   "id": "84188c3f",
   "metadata": {},
   "source": [
    "## Численные методы решения уравнений"
   ]
  },
  {
   "cell_type": "markdown",
   "id": "77d7f875",
   "metadata": {},
   "source": [
    "Модуль ```scipy.optimize``` предоставляет несколько методов для вычисления корней одномерных и многомерных функций. Здесь рассматриваются только алгоритмы, относящиеся к функциям одной переменной: ```brentq```, ```brenth```, ```ridder``` и ```bisect```. Для каждого из этих методов требуется непрерывная функция ```f(x)``` и пара\n",
    "чисел, определяющая ограничивающий интервал для поиска корней, т. е. значения ```a``` и ```b```, такие, что корень находится в интервале ```[a, b]``` и ```sgn[f(a)] = −sgn[f(b)]```.\n",
    "\n",
    "Подробные описания алгоритмов, используемых в этих методах поиска корней\n",
    "уравнений, можно найти в обычных книгах по численным методам анализа.\n",
    "В общем случае основным методом поиска корней удобной для анализа\n",
    "(аналитической) функции является ```scipy.optimize.brentq```, реализующий версию метода Брента с обратной квадратичной экстраполяцией (```scipy.optimize.brenth``` –похожий алгоритм, но с гиперболической экстраполяцией). В качеств примера рассмотрим следующую функцию в интервале ```−1 ≤ x ≤ 1```:\n",
    "\n",
    "```f(x) = 1/5 + x cos(3/x)```\n",
    "\n",
    "График этой функции (см. рис.  5) позволяет предположить, что корень\n",
    "находится между −0.7 и −0.5.\n",
    "\n"
   ]
  },
  {
   "cell_type": "code",
   "execution_count": 243,
   "id": "64e48756",
   "metadata": {},
   "outputs": [
    {
     "data": {
      "image/png": "[encoded data removed]",
      "text/plain": [
       "<Figure size 432x288 with 1 Axes>"
      ]
     },
     "metadata": {
      "needs_background": "light"
     },
     "output_type": "display_data"
    },
    {
     "data": {
      "text/plain": [
       "-0.5933306271014237"
      ]
     },
     "execution_count": 243,
     "metadata": {},
     "output_type": "execute_result"
    }
   ],
   "source": [
    "f = lambda x: 0.2 + x*np.cos(3/x)\n",
    "x = np.linspace(-1, 1, 1000)\n",
    "plt.plot(x, f(x))\n",
    "plt.axhline(0, color='k')\n",
    "plt.show()\n",
    "from scipy.optimize import brentq\n",
    "brentq(f, -0.7, -0.5)\n"
   ]
  },
  {
   "cell_type": "markdown",
   "id": "03d97ba0",
   "metadata": {},
   "source": [
    "**Рис. 5**. Функция f(x) = 1/5 + x cos(3/x) и ее корни\n"
   ]
  },
  {
   "cell_type": "markdown",
   "id": "d97c59d2",
   "metadata": {},
   "source": [
    "Алгоритм поиска корней,известный как метод Риддерса,реализован в функции ```scipy.optimize.ridder```. Более медленный, но весьма надежный (для непрерывных функций) метод бисекции представлен как ```scipy.optimize.bisect```.\n",
    "Поиск корней (решение уравнений) с использованием алгоритма Ньютона–Рафсона может быть очень быстрым (квадратическим) для многих непрерывных функций, для которых можно вычислить первую производную ```f'(x)```. Если можно написать исходный код для аналитического выражения первой производной ```f'(x)```, то это закодированное выражение передается в метод ```scipy.optimize.newton``` как аргумент ```fprime``` вместе с  начальной точкой ```x0```, которая (в  общем случае) должна располагаться как можно ближе к  вычисляемому\n",
    "корню. Нет необходимости определять ограничивающий интервал для корня.\n",
    "Если первую производную ```f'(x)``` передать невозможно, то метод ```newton``` использует метод секущих. Если выбрано удачное положение, в котором можно определить вторую производную f'(x) и передать ее в аргументе fprime2 так же, как\n",
    "и первую производную, то вместо алгоритма Ньютона–Рафсона используется\n",
    "метод Галлея (который сходится даже быстрее, чем основной алгоритм Ньютона–Рафсона).\n",
    "Следует отметить, что условием остановки при выполнении итерационного алгоритма, используемого методом ```newton```, является размер шага, поэтому\n",
    "нет полной уверенности в том, что будет обеспечена сходимость к требуемому\n",
    "корню: результат должен быть проверен вычислением функции при возвращенном значении для проверки его близости к нулю."
   ]
  },
  {
   "cell_type": "markdown",
   "id": "539654c6",
   "metadata": {},
   "source": [
    "**Пример 3**. В экологии уравнение Эйлера–Лотки описывает рост населения как\n",
    "функцию ```P(x)``` – долю людей, доживших до возраста ```x```, и ```m(x)``` – средний коэффициент рождаемости для женщин, живущих в рассматриваемый интервал времени:\n",
    "\n",
    "![](images/image4.png)\n",
    "\n",
    "где ```α``` и ```β``` – границы репродуктивного возраста, определяющие дискретный коэффициент роста ```λ = er```.\n",
    "\n",
    "Значение ```r = ln λ``` известно как истинный коэффициент\n",
    "естественного прироста населения Лотки.\n",
    "В статье Лесли и Рэнсона описаны измерения ```P(x)``` и ```m(x)``` для мышей-полевок (Microtus agrestis) с  интервалами времени, равными восьми неделям.\n",
    "\n",
    "Данные измерений приведены в табл. 1.\n",
    "\n",
    "**Таблица 3**. Данные о популяции мышей-полевок, собранные Лесли и Рэнсоном\n",
    "\n",
    "|x,недели|m(x)|P(x)|\n",
    "|:-------|:---|:---|\n",
    "|8|0.6504|0.83349|\n",
    "|16|2.3939|0.73132|\n",
    "|24|2.9727|0.58809|\n",
    "|32|2.4662|0.43343|\n",
    "|40|1.7043|0.29277|\n",
    "|48|1.0815|0.18126|\n",
    "|56|0.6683|0.10285|\n",
    "|64|0.4286|0.05348|\n",
    "|72|0.3000|0.02549|"
   ]
  },
  {
   "cell_type": "markdown",
   "id": "bf18d0a7",
   "metadata": {},
   "source": [
    "Сумма ![](images/image5.png) позволяет получить отношение между общим\n",
    "количеством женщин, рождающихся в последующих поколениях: население растет, если ```R0 > 1```, а r определяет скорость этого роста. Чтобы найти ```r```, Лесли\n",
    "и Рэнсон использовали приближенный численный метод. Код в листинге 7\n",
    "определяет ```r``` с помощью прямого поиска действительного корня уравнения\n",
    "Лотки–Эйлера (можно показать, что здесь существует только один корень)."
   ]
  },
  {
   "cell_type": "markdown",
   "id": "4944634e",
   "metadata": {},
   "source": [
    "**Листинг 3**. Решение уравнения Эйлера–Лотки"
   ]
  },
  {
   "cell_type": "code",
   "execution_count": 244,
   "id": "d83a777b",
   "metadata": {},
   "outputs": [
    {
     "name": "stdout",
     "output_type": "stream",
     "text": [
      "R0 = 5.904 (R0 > 1: population grows)\n",
      "r = 0.08742 (lambda = 1.09135)\n"
     ]
    }
   ],
   "source": [
    "# eg8-euler-lotka.py\n",
    "import numpy as np\n",
    "from scipy.optimize import brentq\n",
    "# Данные из таблицы 6, приведенной в статье:\n",
    "# P. H. Leslie and R. M. Ranson, J. Anim. Ecol. 9, 27 (1940).\n",
    "x = np.linspace(8, 72, 9)\n",
    "m = np.array( [0.6504, 2.3939, 2.9727, 2.4662, 1.7043, 1.0815, 0.6683, 0.4286, 0.3000] )\n",
    "P = np.array( [0.83349, 0.73132, 0.58809, 0.43343, 0.29277,\n",
    " 0.18126, 0.10285, 0.05348, 0.02549] )\n",
    "# Вычисление произведения последовательности f и R0, отношение между количеством\n",
    "# рождений женщин в последующих поколениях.\n",
    "f = P * m\n",
    "R0 = np.sum(f)\n",
    "if R0 > 1:\n",
    "    msg = 'R0 > 1: population grows'\n",
    "else:\n",
    "    msg = 'Population does not grow'\n",
    "# Уравнение Эйлера-Лотки: поиск единственного действительного корня в r.\n",
    "def func(r):\n",
    "    return np.sum(f * np.exp(-r * x)) - 1\n",
    "# Локализация корня и решение с использованием метода scipy.optimize.brentq.\n",
    "a, b = 0, 10\n",
    "r = brentq(func, a, b)\n",
    "print('R0 = {:.3f} ({})'.format(R0, msg))\n",
    "print('r = {:.5f} (lambda = {:.5f})'.format(r, np.exp(r)))\n"
   ]
  },
  {
   "cell_type": "markdown",
   "id": "40d7ed7a",
   "metadata": {},
   "source": [
    "Это значение r можно сравнить с приближенным значением, полученным\n",
    "Лесли и Рэнсоном и сопровожденным их комментарием:\n",
    "    \n",
    "    «Искомый корень равен 0.087703, он немного превышает оценку значения r, к  которому стремится эта последовательность. Это значение находится между 0.0861 (третья степень приближения) и 0.0877, но ближе к последнему, чем к  первому. Вероятно, погрешность возникла в  последнем десятичном знаке»."
   ]
  },
  {
   "cell_type": "markdown",
   "id": "100799d0",
   "metadata": {},
   "source": [
    "**Пример 4**. Метод Ньютона–Рафсона для поиска корней функции принимает\n",
    "начальную предпосылку для корня ```x0``` и выполняет процедуру поиска посредством постепенно улучшаемых приближений по формуле:\n",
    "\n",
    "![](images/image6.png)\n",
    "\n",
    "Таким образом, на каждой итерации корень приближенно вычисляется как ```xn+1```, координата по оси ```x``` точки пересечения касательной к графику функции в точке ```f(xn)```. Если алгоритм применяется к функциям комплексной переменной ```z```, то метод можно использовать для создания фракталов любопытной формы, рассматривая сходимость корня к  множеству чисел на комплексной плоскости. Код в листинге 9 генерирует изображение фрактала (рис. 6),\n",
    "выделяя цветом соответствующие точки на комплексной плоскости, используемые как начальные предпосылки при поиске корня."
   ]
  },
  {
   "cell_type": "markdown",
   "id": "6b6e305f",
   "metadata": {},
   "source": [
    "**Листинг 4**. Создание изображения фрактала Ньютона"
   ]
  },
  {
   "cell_type": "code",
   "execution_count": 245,
   "id": "d9782f95",
   "metadata": {},
   "outputs": [
    {
     "data": {
      "image/png": "[encoded data removed]",
      "text/plain": [
       "<Figure size 432x288 with 1 Axes>"
      ]
     },
     "metadata": {
      "needs_background": "light"
     },
     "output_type": "display_data"
    }
   ],
   "source": [
    "import numpy as np\n",
    "import matplotlib.pyplot as plt\n",
    "from matplotlib.colors import ListedColormap\n",
    "# Список цветов для обозначения различных корней.\n",
    "colors = ['b', 'r', 'g', 'y']\n",
    "TOL = 1.e-8\n",
    "def newton(z0, f, fprime, MAX_IT=1000):\n",
    "    \"\"\"The Newton-Raphson method applied to f(z).\n",
    "    Returns the root found, starting with an initial guess, z0, or False\n",
    "    if no convergence to tolerance TOL was reached within MAX_IT iterations.\n",
    "    Метод Ньютона-Рафсона, применяемый к функции f(z).\n",
    "    Возвращает найденный корень, начиная с исходной предпосылки z0, или False,\n",
    "    если не достигнута сходимость в пределах допустимой погрешности TOL за MAX_IT итераций.\n",
    "    \"\"\"\n",
    "    z = z0\n",
    "    for i in range(MAX_IT):\n",
    "        dz = f(z)/fprime(z)\n",
    "        if abs(dz) < TOL:\n",
    "            return z\n",
    "        z -= dz\n",
    "    return False\n",
    "\n",
    "def plot_newton_fractal(f, fprime, n=200, domain=(-1, 1, -1, 1)):\n",
    "    \"\"\"Plot a Newton Fractal by finding the roots of f(z).\n",
    "    The domain used for the fractal image is the region of the complex plane\n",
    "    (xmin, xmax, ymin, ymax) where z = x + iy, discretized into n values along\n",
    "    each axis.\n",
    "    Создание изображения фрактала Ньютона по найденным корням функции f(z).\n",
    "    Для изображения фрактала используется область комплексной плоскости\n",
    "    (xmin, xmax, ymin, ymax), где z = x + iy с дискретизацией по n значениям\n",
    "    на каждой оси.\n",
    "    \"\"\"\n",
    "    roots = []\n",
    "    m = np.zeros((n, n))\n",
    "\n",
    "    def get_root_index(roots, r):\n",
    "        \"\"\"Get the index of r in the list roots.\n",
    "        If r is not in roots, append it to the list.\n",
    "        Определение индекса r в списке корней.\n",
    "        Если r нет в списке корней, то добавить его в этот список.\n",
    "        \"\"\"\n",
    "        try:\n",
    "            return np.where(np.isclose(roots, r, atol=TOL))[0][0]\n",
    "        except IndexError:\n",
    "            roots.append(r)\n",
    "            return len(roots) - 1\n",
    "\n",
    "    xmin, xmax, ymin, ymax = domain\n",
    "    for ix, x in enumerate(np.linspace(xmin, xmax, n)):\n",
    "        for iy, y in enumerate(np.linspace(ymin, ymax, n)):\n",
    "            z0 = x + y*1j\n",
    "            r = newton(z0, f, fprime)\n",
    "            if r is not False:\n",
    "                ir = get_root_index(roots, r)\n",
    "                m[iy, ix] = ir\n",
    "    nroots = len(roots)\n",
    "    if nroots > len(colors):\n",
    "        # Использование \"непрерывной\" цветовой схемы, если найдено слишком много корней.\n",
    "        cmap = 'hsv'\n",
    "    else:\n",
    "        # Использование списка цветов для цветовой схемы: по одному цвету для каждого корня.\n",
    "        cmap = ListedColormap(colors[:nroots])\n",
    "    plt.imshow(m, cmap=cmap, origin='lower')\n",
    "\n",
    "    plt.axis('off')\n",
    "    plt.show()\n",
    "    \n",
    "f = lambda z: z**4 - 1\n",
    "fprime = lambda z: 4*z**3\n",
    "\n",
    "plot_newton_fractal(f, fprime, n=500)\n",
    "\n"
   ]
  },
  {
   "cell_type": "markdown",
   "id": "b31573f6",
   "metadata": {},
   "source": [
    "**Рис. 6**. Фрактал Ньютона для функции ```f(z) = z^4− 1```. Замысловатые самоподобные структуры наблюдаются для начальных предпосылок ```z0``` в интервале между корнями ```(−1, 1, −i, i)```"
   ]
  },
  {
   "cell_type": "markdown",
   "id": "b6939a53",
   "metadata": {},
   "source": [
    "## Упражнения"
   ]
  },
  {
   "cell_type": "markdown",
   "id": "4853e491",
   "metadata": {},
   "source": [
    "1. Использовать метод ```scipy.optimize.brentq``` для поиска решений уравнения\n",
    "\n",
    "![](images/image7.png)"
   ]
  },
  {
   "cell_type": "code",
   "execution_count": 19,
   "id": "4519a75f",
   "metadata": {},
   "outputs": [
    {
     "data": {
      "text/plain": [
       "(-0.984188231211512, 2.3303684533047426)"
      ]
     },
     "execution_count": 19,
     "metadata": {},
     "output_type": "execute_result"
    }
   ],
   "source": [
    "import numpy as np\n",
    "from scipy.optimize import brent\n",
    "\n",
    "f = lambda x: x + 1 + (x - 3)**-3\n",
    "brentq(f, -2, -0.5), brentq(f, 0, 2.99)"
   ]
  },
  {
   "cell_type": "markdown",
   "id": "f0415e60",
   "metadata": {},
   "source": [
    "2. Найти все корни функции\n",
    "\n",
    "![](images/image8.png)\n",
    "\n",
    "используя: а) метод ```scipy.optimize.brentq```, б) метод ```scipy.optimize.newton```."
   ]
  },
  {
   "cell_type": "code",
   "execution_count": 20,
   "id": "978d18ed",
   "metadata": {},
   "outputs": [
    {
     "ename": "IndexError",
     "evalue": "boolean index did not match indexed array along dimension 0; dimension is 1000 but corresponding boolean dimension is 999",
     "output_type": "error",
     "traceback": [
      "\u001b[1;31m---------------------------------------------------------------------------\u001b[0m",
      "\u001b[1;31mIndexError\u001b[0m                                Traceback (most recent call last)",
      "\u001b[1;32m<ipython-input-20-767736f8b7d7>\u001b[0m in \u001b[0;36m<module>\u001b[1;34m\u001b[0m\n\u001b[0;32m      5\u001b[0m \u001b[1;33m\u001b[0m\u001b[0m\n\u001b[0;32m      6\u001b[0m \u001b[0mx\u001b[0m\u001b[1;33m,\u001b[0m \u001b[0mdx\u001b[0m \u001b[1;33m=\u001b[0m \u001b[0mnp\u001b[0m\u001b[1;33m.\u001b[0m\u001b[0mlinspace\u001b[0m\u001b[1;33m(\u001b[0m\u001b[1;33m-\u001b[0m\u001b[1;36m1\u001b[0m\u001b[1;33m,\u001b[0m \u001b[1;36m1\u001b[0m\u001b[1;33m,\u001b[0m \u001b[1;36m1000\u001b[0m\u001b[1;33m,\u001b[0m \u001b[0mretstep\u001b[0m\u001b[1;33m=\u001b[0m\u001b[1;32mTrue\u001b[0m\u001b[1;33m)\u001b[0m\u001b[1;33m\u001b[0m\u001b[1;33m\u001b[0m\u001b[0m\n\u001b[1;32m----> 7\u001b[1;33m \u001b[0mlower_bounds\u001b[0m \u001b[1;33m=\u001b[0m \u001b[0mx\u001b[0m\u001b[1;33m[\u001b[0m\u001b[0mnp\u001b[0m\u001b[1;33m.\u001b[0m\u001b[0msign\u001b[0m\u001b[1;33m(\u001b[0m\u001b[0mf\u001b[0m\u001b[1;33m(\u001b[0m\u001b[0mx\u001b[0m\u001b[1;33m[\u001b[0m\u001b[1;36m1\u001b[0m\u001b[1;33m:\u001b[0m\u001b[1;33m]\u001b[0m\u001b[1;33m)\u001b[0m\u001b[1;33m)\u001b[0m \u001b[1;33m!=\u001b[0m \u001b[0mnp\u001b[0m\u001b[1;33m.\u001b[0m\u001b[0msign\u001b[0m\u001b[1;33m(\u001b[0m\u001b[0mf\u001b[0m\u001b[1;33m(\u001b[0m\u001b[0mx\u001b[0m\u001b[1;33m[\u001b[0m\u001b[1;33m:\u001b[0m\u001b[1;33m-\u001b[0m\u001b[1;36m1\u001b[0m\u001b[1;33m]\u001b[0m\u001b[1;33m)\u001b[0m\u001b[1;33m)\u001b[0m\u001b[1;33m]\u001b[0m\u001b[1;33m\u001b[0m\u001b[1;33m\u001b[0m\u001b[0m\n\u001b[0m\u001b[0;32m      8\u001b[0m \u001b[1;33m\u001b[0m\u001b[0m\n\u001b[0;32m      9\u001b[0m \u001b[0mbrent_roots\u001b[0m \u001b[1;33m=\u001b[0m \u001b[0mnp\u001b[0m\u001b[1;33m.\u001b[0m\u001b[0marray\u001b[0m\u001b[1;33m(\u001b[0m\u001b[1;33m[\u001b[0m\u001b[0mbrentq\u001b[0m\u001b[1;33m(\u001b[0m\u001b[0mf\u001b[0m\u001b[1;33m,\u001b[0m \u001b[0ma\u001b[0m\u001b[1;33m,\u001b[0m \u001b[0ma\u001b[0m\u001b[1;33m+\u001b[0m\u001b[0mdx\u001b[0m\u001b[1;33m)\u001b[0m \u001b[1;32mfor\u001b[0m \u001b[0ma\u001b[0m \u001b[1;32min\u001b[0m \u001b[0mlower_bounds\u001b[0m\u001b[1;33m]\u001b[0m\u001b[1;33m)\u001b[0m\u001b[1;33m\u001b[0m\u001b[1;33m\u001b[0m\u001b[0m\n",
      "\u001b[1;31mIndexError\u001b[0m: boolean index did not match indexed array along dimension 0; dimension is 1000 but corresponding boolean dimension is 999"
     ]
    }
   ],
   "source": [
    "import numpy as np\n",
    "from scipy.optimize import brentq, newton\n",
    "\n",
    "f = lambda x: 0.2 + x*np.cos(3/x)\n",
    "\n",
    "x, dx = np.linspace(-1, 1, 1000, retstep=True)\n",
    "lower_bounds = x[np.sign(f(x[1:])) != np.sign(f(x[:-1]))]\n",
    "\n",
    "brent_roots = np.array([brentq(f, a, a+dx) for a in lower_bounds])\n",
    "\n",
    "fp = lambda x: np.cos(3/x) + 3/x * np.sin(3/x)\n",
    "newton_roots = np.array([newton(f, a, fp) for a in lower_bounds])\n",
    "print('Roots of f(x) = x.cos(3/x):')\n",
    "print('{:11s} {:11s}'. format('Brent', 'Newton'))\n",
    "r = np.vstack((brent_roots, newton_roots)).T\n",
    "\n",
    "for br, nr in r:\n",
    "    print('{:11.8f} {:11.8f}'.format(br, nr))"
   ]
  }
 ],
 "metadata": {
  "kernelspec": {
   "display_name": "Python 3",
   "language": "python",
   "name": "python3"
  },
  "language_info": {
   "codemirror_mode": {
    "name": "ipython",
    "version": 3
   },
   "file_extension": ".py",
   "mimetype": "text/x-python",
   "name": "python",
   "nbconvert_exporter": "python",
   "pygments_lexer": "ipython3",
   "version": "3.8.8"
  }
 },
 "nbformat": 4,
 "nbformat_minor": 5
}
