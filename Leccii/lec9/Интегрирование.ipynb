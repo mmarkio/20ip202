{
 "cells": [
  {
   "cell_type": "markdown",
   "id": "693bfd12",
   "metadata": {},
   "source": [
    "# Интегрирование"
   ]
  },
  {
   "cell_type": "markdown",
   "id": "74eca417",
   "metadata": {},
   "source": [
    "Пакет ```scipy.integrate``` содержит методы для вычисления определенных интегралов. С их помощью можно вычислять собственные (с конечными пределами) и несобственные (с бесконечными пределами) интегралы. Эти методы также позволяют выполнять численное интегрирование систем обыкновенных дифференциальных уравнений."
   ]
  },
  {
   "cell_type": "markdown",
   "id": "af389877",
   "metadata": {},
   "source": [
    "## Определенные интегралы от одной переменной"
   ]
  },
  {
   "cell_type": "markdown",
   "id": "757a1a6f",
   "metadata": {},
   "source": [
    "Основной программой численного интегрирования является ```scipy.integrate.quad```, основанная на старой «заслуженной» библиотеке FORTRAN 77 QUADPACK. Здесь используется адаптивная квадратура для приближенного вычисления значения интеграла посредством деления его области интегрирования на меньшие интервалы, выбираемые итеративно для соответствия\n",
    "конкретному пределу допускаемой погрешности (т. е. оценочной абсолютной или относительной погрешности). В  самой простой форме метод принимает три аргумента: объект функции Python, соответствующий интегрируемой функции, func и пределы интегрирования ```a``` и ```b```. В аргументе ```func``` обязательно должен передаваться хотя бы один объект, если этот аргумент содержит более одного объекта, то интегрирование выполняется по координате, соответствующей первому значению аргумента. При простом способе применения удобным способом определения func являются lambda-выражения. Например, для получения значения интеграла \n",
    "\n",
    "![image1](images/image1.png)\n",
    "\n",
    "\n",
    "в численном виде:"
   ]
  },
  {
   "cell_type": "code",
   "execution_count": 7,
   "id": "18133db2",
   "metadata": {},
   "outputs": [],
   "source": [
    "from scipy.integrate import quad"
   ]
  },
  {
   "cell_type": "code",
   "execution_count": 8,
   "id": "2edb2a5a",
   "metadata": {},
   "outputs": [],
   "source": [
    " f = lambda x: 1/x**2"
   ]
  },
  {
   "cell_type": "code",
   "execution_count": 10,
   "id": "35b06ec4",
   "metadata": {},
   "outputs": [
    {
     "data": {
      "text/plain": [
       "(0.7500000000000002, 1.913234548258995e-09)"
      ]
     },
     "execution_count": 10,
     "metadata": {},
     "output_type": "execute_result"
    }
   ],
   "source": [
    " quad(f, 1, 4)"
   ]
  },
  {
   "cell_type": "markdown",
   "id": "1218997b",
   "metadata": {},
   "source": [
    "метод ```quad``` возвращает два значения в кортеже – значение интеграла и оценку\n",
    "абсолютной погрешности полученного результата.\n",
    "\n",
    "Для вычисления несобственных интегралов используется специальное значение ```np.inf```:"
   ]
  },
  {
   "cell_type": "code",
   "execution_count": 12,
   "id": "3eb28b87",
   "metadata": {},
   "outputs": [
    {
     "data": {
      "text/plain": [
       "(0.8862269254527579, 7.101318390915439e-09)"
      ]
     },
     "execution_count": 12,
     "metadata": {},
     "output_type": "execute_result"
    }
   ],
   "source": [
    "import numpy as np\n",
    "quad(lambda x: np.exp(-x**2), 0, np.inf)"
   ]
  },
  {
   "cell_type": "code",
   "execution_count": 13,
   "id": "e243a944",
   "metadata": {},
   "outputs": [
    {
     "data": {
      "text/plain": [
       "0.8862269254527579"
      ]
     },
     "execution_count": 13,
     "metadata": {},
     "output_type": "execute_result"
    }
   ],
   "source": [
    " np.sqrt(np.pi)/2 # Результат, полученный аналитическим способом."
   ]
  },
  {
   "cell_type": "markdown",
   "id": "2faa66fc",
   "metadata": {},
   "source": [
    "Обратите внимание: при этом вызове ```quad``` даже не  указывается имя интегрируемой функции, а  просто передается сама функция как анонимный ```lambda```-объект.\n",
    "Для более сложных функций требуется явное определение объекта функции Python с помощью ключевого слова ```def```:"
   ]
  },
  {
   "cell_type": "code",
   "execution_count": 15,
   "id": "799b2d05",
   "metadata": {},
   "outputs": [],
   "source": [
    "def g(x):\n",
    "    if abs(x) < 0.5:\n",
    "        return -x\n",
    "    return x - np.sign(x)"
   ]
  },
  {
   "cell_type": "code",
   "execution_count": 16,
   "id": "a9caca73",
   "metadata": {},
   "outputs": [
    {
     "data": {
      "text/plain": [
       "(-0.060000000000000026, 6.661338147750943e-17)"
      ]
     },
     "execution_count": 16,
     "metadata": {},
     "output_type": "execute_result"
    }
   ],
   "source": [
    "quad(g, -0.6, 0.8)"
   ]
  },
  {
   "cell_type": "markdown",
   "id": "259b1bc2",
   "metadata": {},
   "source": [
    "Функции с сингулярными (особыми, критическими) точками или с точками разрыва могут создавать проблемы для программы численного интегрирования, даже если требуемый интеграл однозначно определен. Например, функция ```sinc``` (кардинальный синус) ```f(x) = sin(x)/x``` имеет устранимую особую точку при ```x = 0```, в которой при обычном применении метода quad возникает критическая ошибка:"
   ]
  },
  {
   "cell_type": "code",
   "execution_count": 17,
   "id": "369b1d59",
   "metadata": {},
   "outputs": [],
   "source": [
    "sinc = lambda x: np.sin(x)/x"
   ]
  },
  {
   "cell_type": "code",
   "execution_count": 18,
   "id": "7d1ba0b5",
   "metadata": {},
   "outputs": [
    {
     "name": "stderr",
     "output_type": "stream",
     "text": [
      "C:\\Users\\user\\AppData\\Local\\Temp\\ipykernel_13108\\3926713972.py:1: RuntimeWarning: invalid value encountered in double_scalars\n",
      "  sinc = lambda x: np.sin(x)/x\n",
      "C:\\Users\\user\\AppData\\Local\\Temp\\ipykernel_13108\\4037327689.py:1: IntegrationWarning: The occurrence of roundoff error is detected, which prevents \n",
      "  the requested tolerance from being achieved.  The error may be \n",
      "  underestimated.\n",
      "  quad(sinc, -2, 2)\n"
     ]
    },
    {
     "data": {
      "text/plain": [
       "(nan, nan)"
      ]
     },
     "execution_count": 18,
     "metadata": {},
     "output_type": "execute_result"
    }
   ],
   "source": [
    "quad(sinc, -2, 2)"
   ]
  },
  {
   "cell_type": "markdown",
   "id": "d5df180e",
   "metadata": {},
   "source": [
    "Устранить эту проблему можно, передавая в метод quad список таких точек\n",
    "разрыва в аргументе ```points``` (список не обязательно должен быть упорядоченным):"
   ]
  },
  {
   "cell_type": "code",
   "execution_count": 20,
   "id": "0f1fe574",
   "metadata": {},
   "outputs": [
    {
     "data": {
      "text/plain": [
       "(3.210825953605389, 3.5647329017567276e-14)"
      ]
     },
     "execution_count": 20,
     "metadata": {},
     "output_type": "execute_result"
    }
   ],
   "source": [
    "quad(sinc, -2, 2, points=[0,])"
   ]
  },
  {
   "cell_type": "markdown",
   "id": "c4cfe278",
   "metadata": {},
   "source": [
    "Следует отметить, что точки разрыва не могут быть заданы при бесконечных пределах интегрирования.\n",
    "\n",
    "Аргументы ```epsrel``` и ```epsabs``` позволяют определить требуемую точность интегрирования как относительную и  абсолютную погрешность соответственно. По умолчанию для обоих аргументов принято значение ```1.49e-8```, но интегрирование можно выполнить быстрее, если нужно получить менее точный результат.\n",
    "\n",
    "В качестве примера рассмотрим быстро изменяющуюся функцию ```f(x) = e −|x|sin^2 x^2```:"
   ]
  },
  {
   "cell_type": "code",
   "execution_count": 22,
   "id": "ce1e3c44",
   "metadata": {},
   "outputs": [],
   "source": [
    "f = lambda x: np.sin(x**2)**2 * np.exp(-np.abs(x))"
   ]
  },
  {
   "cell_type": "code",
   "execution_count": 23,
   "id": "241e1049",
   "metadata": {},
   "outputs": [
    {
     "data": {
      "text/plain": [
       "(0.29551455828969975, 0.0015295718279094228)"
      ]
     },
     "execution_count": 23,
     "metadata": {},
     "output_type": "execute_result"
    }
   ],
   "source": [
    "quad(f, -1, 2, epsabs=0.1)"
   ]
  },
  {
   "cell_type": "code",
   "execution_count": 24,
   "id": "991126ca",
   "metadata": {},
   "outputs": [
    {
     "data": {
      "text/plain": [
       "(0.29551455505239044, 4.4497633151515266e-10)"
      ]
     },
     "execution_count": 24,
     "metadata": {},
     "output_type": "execute_result"
    }
   ],
   "source": [
    "quad(f, -1, 2, epsabs=1.49e-8) # (Абсолютная погрешность, принятая по умолчанию.)"
   ]
  },
  {
   "cell_type": "markdown",
   "id": "479a9a82",
   "metadata": {},
   "source": [
    "Обратите внимание: значение ```epsabs``` – это только требуемая верхняя граница: действительная оцениваемая точность результата может быть гораздо лучшей, т. е. в действительности полученный результат может оказаться более точным, чем эта оценка.\n",
    "Если функция принимает один или несколько параметров в  дополнение к своему основному аргументу, то эти дополнительные параметры необходимо передать в метод quad как кортеж в аргументе ```args```. Например, интеграл"
   ]
  },
  {
   "cell_type": "markdown",
   "id": "68e2fddd",
   "metadata": {},
   "source": [
    "![image2](images/image2.png)"
   ]
  },
  {
   "cell_type": "code",
   "execution_count": 26,
   "id": "22147c41",
   "metadata": {},
   "outputs": [],
   "source": [
    "def f(x, n, m):\n",
    "    return np.sin(x)**n * np.cos(x)**m"
   ]
  },
  {
   "cell_type": "code",
   "execution_count": 27,
   "id": "707e9f2a",
   "metadata": {},
   "outputs": [],
   "source": [
    "n, m = 2, 1"
   ]
  },
  {
   "cell_type": "code",
   "execution_count": 28,
   "id": "d81363b1",
   "metadata": {},
   "outputs": [
    {
     "data": {
      "text/plain": [
       "(0.6666666666666667, 1.6257070626918945e-13)"
      ]
     },
     "execution_count": 28,
     "metadata": {},
     "output_type": "execute_result"
    }
   ],
   "source": [
    "quad(f, -np.pi/2, np.pi/2, args=(n, m))"
   ]
  },
  {
   "cell_type": "markdown",
   "id": "7148958f",
   "metadata": {},
   "source": [
    "Обратите внимание: здесь дополнительные параметры ```n```  и ```m```  передаются\n",
    "как аргументы интегрируемой функции после координаты, определяющей направление интегрирования по (x)."
   ]
  },
  {
   "cell_type": "markdown",
   "id": "205819f9",
   "metadata": {},
   "source": [
    "**Пример 1**. Рассмотрим тор со средним радиусом ```R``` и радиусом поперечного\n",
    "сечения ```r```. Объем этой фигуры можно вычислить аналитически в декартовых координатах как объем тела вращения:\n",
    "\n",
    "![image3](images/image3.png)\n",
    "\n",
    "Центр тора является началом координат, а ось ```z``` принимается за ось симметрии.\n",
    "Вычисление интеграла утомительно, но приводит к стандартным методам:\n",
    "```V = 2π^2Rr^2```. Здесь мы применим численный метод с использованием значений\n",
    "```R = 4```, ```r = 1```:"
   ]
  },
  {
   "cell_type": "code",
   "execution_count": 29,
   "id": "d5755cff",
   "metadata": {},
   "outputs": [],
   "source": [
    "R, r = 4, 1"
   ]
  },
  {
   "cell_type": "code",
   "execution_count": 30,
   "id": "d393e971",
   "metadata": {},
   "outputs": [],
   "source": [
    "f = lambda x, R, r: x * np.sqrt(r**2 - (x-R)**2)"
   ]
  },
  {
   "cell_type": "code",
   "execution_count": 31,
   "id": "930eb351",
   "metadata": {},
   "outputs": [],
   "source": [
    "V, _ = quad(f, R-r, R+r, args=(R, r))"
   ]
  },
  {
   "cell_type": "code",
   "execution_count": 32,
   "id": "4123b621",
   "metadata": {},
   "outputs": [],
   "source": [
    "V *= 4 * np.pi"
   ]
  },
  {
   "cell_type": "code",
   "execution_count": 33,
   "id": "b1f0d46c",
   "metadata": {},
   "outputs": [],
   "source": [
    "Vexact = 2 * np.pi**2 * R * r**2"
   ]
  },
  {
   "cell_type": "code",
   "execution_count": 34,
   "id": "160b27f6",
   "metadata": {},
   "outputs": [
    {
     "name": "stdout",
     "output_type": "stream",
     "text": [
      "V = 78.95683520871498 (exact: 78.95683520871486)\n"
     ]
    }
   ],
   "source": [
    "print('V = {} (exact: {})'.format(V, Vexact))"
   ]
  },
  {
   "cell_type": "markdown",
   "id": "f533484f",
   "metadata": {},
   "source": [
    "## Интегралы от двух и нескольких переменных"
   ]
  },
  {
   "cell_type": "markdown",
   "id": "298f2366",
   "metadata": {},
   "source": [
    "В модуле ```scipy.integrate``` методы ```dblquad```, ```tplquad``` и ```nquad``` вычисляют двойные, тройные и кратные интегралы соответственно. Поскольку в общем случае\n",
    "пределы по одной координате могут зависеть от другой координаты, синтаксис вызова перечисленных выше методов немного сложнее.\n",
    "\n",
    "Метод ```dblquad``` вычисляет двойной интеграл:\n",
    "\n",
    "![image4](images/image4.png)\n",
    "\n",
    "Здесь ```f(x,y)``` передается как функция по меньшей мере двух переменных ```func(y, x, …)```. Эта фуункция обязательно должна принимать ```y``` как свой первый аргумент, а  ```x``` как второй аргумент. Пределы интегрирования передаются в  ```dblquad``` в  следующих четырех аргументах. Сначала два аргумента ```a```  и  ```b``` определяют нижний и верхний пределы интегрирования по ```x```, как и для метода ```quad```. Следующие два аргумента ```gfun``` и  ```hfun``` определяют нижний и  верхний пределы интегрирования по ```y```, и они обязательно должны быть вызываемыми объектами, принимающими один аргумент  – число с  плавающей точкой, значение x, при котором этот предел применяется (т.е. эти аргументы сами обязательно должны быть функциями от ```x```). Если любой из пределов\n",
    "интегрирования по ```y``` не зависит от ```x```, то ```gfun``` или ```hfun``` могут возвращать постоянное значение."
   ]
  },
  {
   "cell_type": "markdown",
   "id": "7d61a328",
   "metadata": {},
   "source": [
    "Как простой пример рассмотрим интеграл\n",
    "\n",
    "![image5](images/image5.png)\n",
    "\n",
    "\n",
    "\n",
    "\n"
   ]
  },
  {
   "cell_type": "code",
   "execution_count": 36,
   "id": "2ddeb860",
   "metadata": {},
   "outputs": [],
   "source": [
    "f = lambda y, x: x**2 * y"
   ]
  },
  {
   "cell_type": "code",
   "execution_count": 38,
   "id": "cca873cb",
   "metadata": {},
   "outputs": [],
   "source": [
    "a, b = 1, 4"
   ]
  },
  {
   "cell_type": "code",
   "execution_count": 39,
   "id": "1c75484b",
   "metadata": {},
   "outputs": [],
   "source": [
    "gfun = lambda x: 0"
   ]
  },
  {
   "cell_type": "code",
   "execution_count": 40,
   "id": "7fe5b826",
   "metadata": {},
   "outputs": [],
   "source": [
    "hfun = lambda x: 2"
   ]
  },
  {
   "cell_type": "code",
   "execution_count": 42,
   "id": "3a8b79fd",
   "metadata": {},
   "outputs": [
    {
     "data": {
      "text/plain": [
       "(42.00000000000001, 4.662936703425658e-13)"
      ]
     },
     "execution_count": 42,
     "metadata": {},
     "output_type": "execute_result"
    }
   ],
   "source": [
    "from scipy.integrate import dblquad\n",
    "dblquad(f, a, b, gfun, hfun)"
   ]
  },
  {
   "cell_type": "markdown",
   "id": "2d7aa42d",
   "metadata": {},
   "source": [
    "Здесь оба аргумента ```gfun``` и ```hfun``` вызываются с передачей в них значения ```x```,\n",
    "но они возвращают постоянные значения (0 и 2 соответственно) вне зависимости от переданного значения.\n",
    "\n",
    "Разумеется, все показанные выше операции в исходном коде можно свернуть в одну строку:"
   ]
  },
  {
   "cell_type": "code",
   "execution_count": 43,
   "id": "11dea8a3",
   "metadata": {},
   "outputs": [
    {
     "data": {
      "text/plain": [
       "(42.00000000000001, 4.662936703425658e-13)"
      ]
     },
     "execution_count": 43,
     "metadata": {},
     "output_type": "execute_result"
    }
   ],
   "source": [
    "dblquad(lambda y, x: x**2 * y, 1, 4, lambda x: 0, lambda x: 2)"
   ]
  },
  {
   "cell_type": "markdown",
   "id": "789b83bc",
   "metadata": {},
   "source": [
    "Двойной интеграл можно использовать для вычисления площади некоторой двумерной фигуры, ограниченной одной или несколькими функциями.\n",
    "\n",
    "Для примера в  полярных координатах рассмотрим область внутри кривой\n",
    "```r  =  2  +  2sinθ```, но вне окружности с радиусом ```r  = 2``` при ```θ```  в интервале ```[0, 2π]``` (см. рис. 1)."
   ]
  },
  {
   "cell_type": "markdown",
   "id": "08db1c61",
   "metadata": {},
   "source": [
    "![image6](images/image6.png)"
   ]
  },
  {
   "cell_type": "markdown",
   "id": "3a4a93c3",
   "metadata": {},
   "source": [
    "**Рис. 1**. Фигура, определенная как область внутри кривой ```r=2 + 2sinθ```, но вне окружности с радиусом ```r=2```"
   ]
  },
  {
   "cell_type": "markdown",
   "id": "4e90e9e2",
   "metadata": {},
   "source": [
    "Эти фигуры пересекаются в точках ```θ  = 0, π```, поэтому требуемый интеграл\n",
    "имеет следующий вид:"
   ]
  },
  {
   "cell_type": "markdown",
   "id": "fbbfb8af",
   "metadata": {},
   "source": [
    "![image7](images/image7.png)"
   ]
  },
  {
   "cell_type": "markdown",
   "id": "81e3ff49",
   "metadata": {},
   "source": [
    "где ```r dr dθ``` – бесконечно малый элемент области в полярных координатах. Этот\n",
    "частный определенный интеграл без затруднений вычисляется аналитически ```(A = 8 + π)```, поэтому результат применения численного метода легко проверить:"
   ]
  },
  {
   "cell_type": "code",
   "execution_count": 46,
   "id": "c2d965a9",
   "metadata": {},
   "outputs": [],
   "source": [
    "r1, r2 = lambda theta: 2, lambda theta: 2 + 2*np.sin(theta)"
   ]
  },
  {
   "cell_type": "code",
   "execution_count": 47,
   "id": "f477c710",
   "metadata": {},
   "outputs": [],
   "source": [
    "A, _ = dblquad(lambda r, theta: r, 0, np.pi, r1, r2)"
   ]
  },
  {
   "cell_type": "code",
   "execution_count": 48,
   "id": "6a9b6026",
   "metadata": {},
   "outputs": [
    {
     "data": {
      "text/plain": [
       "11.141592653589793"
      ]
     },
     "execution_count": 48,
     "metadata": {},
     "output_type": "execute_result"
    }
   ],
   "source": [
    "8 + np.pi # Точный результат."
   ]
  },
  {
   "cell_type": "markdown",
   "id": "cc46abe2",
   "metadata": {},
   "source": [
    "Вычисляемая функция – это просто ```r```, определяемая выражением ```lambda r```,\n",
    "```theta: r```. Во внутреннем интеграле пределы по ```r``` равны 2 и 2 + 2sinθ. Для внешнего интеграла значение угла ```θ``` определяется от 0 до π.\n",
    "Метод ```tplquad``` вычисляет тройные интегралы и принимает функцию от трех переменных ```func(z, y, x)``` и шесть дополнительных аргументов: постоянные пределы интегрирования по ```x``` ```a``` и  ```b```, пределы интегрирования по ```y``` ```gfun(x)```\n",
    "и ```hfun(x)``` (которые являются функциями, как и для метода ```dblquad```) и пределы\n",
    "интегрирования по ```z``` ```qfun(x, y)``` и ```rfun(x, y)``` (функции от ```x``` и ```y``` именно в таком порядке).\n",
    "Интегрирование с более высокой кратностью выполняется методом ```scipy.integrate.nquad```, который здесь не рассматривается (документацию и примеры см. здесь: https://docs.scipy.org/doc/scipy/reference/generated/scipy.integrate.\n",
    "nquad.html)."
   ]
  },
  {
   "cell_type": "markdown",
   "id": "de07d591",
   "metadata": {},
   "source": [
    "**Пример  2**. Объем единичной сферы ```4π/3``` можно записать в  виде тройного\n",
    "интеграла в сферических полярных координатах с постоянными пределами интегрирования:\n",
    "\n",
    "\n",
    "![image8](images/image8.png)"
   ]
  },
  {
   "cell_type": "code",
   "execution_count": 49,
   "id": "7170e4db",
   "metadata": {},
   "outputs": [],
   "source": [
    "from scipy.integrate import tplquad"
   ]
  },
  {
   "cell_type": "code",
   "execution_count": 50,
   "id": "a0b70759",
   "metadata": {},
   "outputs": [
    {
     "data": {
      "text/plain": [
       "(4.18879020478639, 1.389095079694993e-13)"
      ]
     },
     "execution_count": 50,
     "metadata": {},
     "output_type": "execute_result"
    }
   ],
   "source": [
    "tplquad(lambda phi, theta, r: r**2 * np.sin(theta),\n",
    " 0, 1,\n",
    " lambda theta: 0, lambda theta: np.pi,\n",
    " lambda theta, phi: 0, lambda theta, phi: 2*np.pi)"
   ]
  },
  {
   "cell_type": "markdown",
   "id": "2b1bce51",
   "metadata": {},
   "source": [
    "Кроме того, можно записать это выражение в  декартовых координатах с пределами интегрирования в форме функций:\n",
    "\n",
    "![image9](images/image9.png)\n",
    "\n",
    "где интеграл находится в положительном октанте трехмерной декартовой системы координат."
   ]
  },
  {
   "cell_type": "code",
   "execution_count": 51,
   "id": "3832df8e",
   "metadata": {},
   "outputs": [],
   "source": [
    "A, _ = tplquad(lambda z, y, x: 1,\n",
    " 0, 1,\n",
    " lambda x: 0, lambda x: np.sqrt(1 - x**2),\n",
    " lambda x, vy: 0, lambda x, y: np.sqrt(1 - x**2 - y**2))"
   ]
  },
  {
   "cell_type": "code",
   "execution_count": 52,
   "id": "a9e47c1b",
   "metadata": {},
   "outputs": [
    {
     "data": {
      "text/plain": [
       "4.1887902047939845"
      ]
     },
     "execution_count": 52,
     "metadata": {},
     "output_type": "execute_result"
    }
   ],
   "source": [
    "8*A"
   ]
  },
  {
   "cell_type": "markdown",
   "id": "a92c2cb6",
   "metadata": {},
   "source": [
    "**Пример 3**. В этом примере определяется масса и центр масс тетраэдра, ограниченного координатными осевыми плоскостями и плоскостью ```x + y + z = 1``` с плотностью ```ρ = ρ(x,y,z)```, где плотность ```ρ(x,y,z)``` представлена как лямбда-функция. Проверим\n",
    "это на функциях ```ρ = 1```, ```ρ = x``` и ```ρ = x2 + y2+ z2```."
   ]
  },
  {
   "cell_type": "markdown",
   "id": "8650bada",
   "metadata": {},
   "source": [
    "Масса может быть записана в виде тройного интеграла плотности в зависимости от объема тетраэдра:\n",
    "\n",
    "![image10](images/image10.png)\n",
    "\n",
    "а координаты центра масс определяются следующими интегралами:\n",
    "\n",
    "![image11](images/image11.png)\n",
    "\n",
    "Программа в  листинге 1 использует метод ```scipy.integrate.tplquad``` для\n",
    "выполнения требуемых операций интегрирования (которые могут быть решены и аналитически)."
   ]
  },
  {
   "cell_type": "markdown",
   "id": "0002a3d9",
   "metadata": {},
   "source": [
    "**Листинг 1**. Вычисление массы и центра масс тетраэдра с учетом его трех различных плотностей"
   ]
  },
  {
   "cell_type": "code",
   "execution_count": 54,
   "id": "c3dec47c",
   "metadata": {},
   "outputs": [
    {
     "name": "stdout",
     "output_type": "stream",
     "text": [
      "mass = 0.166667, CofM = (0.25, 0.25, 0.25)\n",
      "mass = 0.0416667, CofM = (0.4, 0.2, 0.2)\n",
      "mass = 0.05, CofM = (0.277778, 0.277778, 0.277778)\n"
     ]
    }
   ],
   "source": [
    "# eg8-tetrahedron-cofm.py\n",
    "import numpy as np\n",
    "from scipy.integrate import tplquad\n",
    "# Пределы интегрирования по x, y, z.\n",
    "a, b = 0, 1\n",
    "gfun, hfun = lambda x: 0, lambda x: 1 - x\n",
    "qfun, rfun = lambda x, y: 0, lambda x, y: 1 - x - y\n",
    "lims = (a, b, gfun, hfun, qfun, rfun)\n",
    "# Три различные функции плотности.\n",
    "rhos = [lambda x, y, z: 1, lambda x, y, z: x, lambda x, y, z: x**2 + y**2 + z**2]\n",
    "for rho in rhos:\n",
    "    # Масса как тройной интеграл от rho по объему.\n",
    "    m, _ = tplquad(rho, *lims)\n",
    "    # Центр масс (xbar, ybar, zbar).\n",
    "    mxbar, _ = tplquad(lambda x, y, z: x * rho(x, y, z), *lims)\n",
    "    mybar, _ = tplquad(lambda x, y, z: y * rho(x, y, z), *lims)\n",
    "    mzbar, _ = tplquad(lambda x, y, z: z * rho(x, y, z), *lims)\n",
    "    xbar, ybar, zbar = mxbar / m, mybar / m, mzbar / m\n",
    "    print('mass = {:g}, CofM = ({:g}, {:g}, {:g})'.format(m, xbar, ybar, zbar))"
   ]
  },
  {
   "cell_type": "markdown",
   "id": "b1540f08",
   "metadata": {},
   "source": [
    "Обратите внимание: шесть аргументов, представляющих пределы тройного интеграла (две константы и две пары лямбда-функций), упакованы в кортеж ```lims``` (здесь скобки не обязательны).\n"
   ]
  },
  {
   "cell_type": "code",
   "execution_count": 1,
   "id": "06cfd1ff",
   "metadata": {},
   "outputs": [],
   "source": [
    "import numpy as np\n",
    "from scipy.integrate import quad"
   ]
  },
  {
   "cell_type": "markdown",
   "id": "c0f42712",
   "metadata": {},
   "source": [
    "## Упражнения\n",
    "\n",
    "1. Использовать метод ```scipy.integrate.quad``` для вычисления следующего интеграла:\n",
    "\n",
    "![image12](images/image12.png)"
   ]
  },
  {
   "cell_type": "markdown",
   "id": "7bde3bae",
   "metadata": {},
   "source": [
    "2 Использовать метод ```scipy.integrate.quad``` для вычисления следующих\n",
    "определенных интегралов (большинство из них можно также представить\n",
    "в конечной форме в заданном интервале, но это затруднительно).\n",
    "\n",
    "а) ![image13](images/image13.png)"
   ]
  },
  {
   "cell_type": "code",
   "execution_count": 7,
   "id": "31ab71c9",
   "metadata": {},
   "outputs": [
    {
     "data": {
      "text/plain": [
       "(0.0012644892673496185, 1.1126990906558069e-14)"
      ]
     },
     "execution_count": 7,
     "metadata": {},
     "output_type": "execute_result"
    }
   ],
   "source": [
    "f1 = lambda x: x**4 * (1 -x)**4/(1 + x**2)\n",
    "quad(f1, 0, 1)"
   ]
  },
  {
   "cell_type": "code",
   "execution_count": 8,
   "id": "0e42b624",
   "metadata": {},
   "outputs": [
    {
     "data": {
      "text/plain": [
       "0.0012644892673496777"
      ]
     },
     "execution_count": 8,
     "metadata": {},
     "output_type": "execute_result"
    }
   ],
   "source": [
    "22/7 - np.pi"
   ]
  },
  {
   "cell_type": "markdown",
   "id": "51d14eac",
   "metadata": {},
   "source": [
    "б) Этот интеграл применяется в теории (модели) Дебая, описывающей теплоемкость кристаллических веществ при низких температурах:\n",
    "\n",
    "![image14](images/image14.png)"
   ]
  },
  {
   "cell_type": "code",
   "execution_count": 10,
   "id": "eadc64eb",
   "metadata": {},
   "outputs": [
    {
     "name": "stderr",
     "output_type": "stream",
     "text": [
      "<ipython-input-10-302d287139ce>:1: RuntimeWarning: overflow encountered in exp\n",
      "  f2 = lambda x: x**3/(np.exp(x) - 1)\n"
     ]
    },
    {
     "data": {
      "text/plain": [
       "(6.49393940226683, 2.62847130244751e-09)"
      ]
     },
     "execution_count": 10,
     "metadata": {},
     "output_type": "execute_result"
    }
   ],
   "source": [
    "f2 = lambda x: x**3/(np.exp(x) - 1)\n",
    "quad(f2, 0, np.inf)"
   ]
  },
  {
   "cell_type": "code",
   "execution_count": 11,
   "id": "4e05020d",
   "metadata": {},
   "outputs": [
    {
     "data": {
      "text/plain": [
       "6.493939402266828"
      ]
     },
     "execution_count": 11,
     "metadata": {},
     "output_type": "execute_result"
    }
   ],
   "source": [
    "np.pi**4 / 15"
   ]
  },
  {
   "cell_type": "markdown",
   "id": "2a58dcb6",
   "metadata": {},
   "source": [
    "в) Интеграл, который иногда называют мечтой второкурсника:\n",
    "\n",
    "![image15](images/image15.png)"
   ]
  },
  {
   "cell_type": "code",
   "execution_count": 12,
   "id": "84bbd81c",
   "metadata": {},
   "outputs": [
    {
     "data": {
      "text/plain": [
       "(1.2912859970626636, 3.668487735808412e-11)"
      ]
     },
     "execution_count": 12,
     "metadata": {},
     "output_type": "execute_result"
    }
   ],
   "source": [
    "f3 = lambda x: x**-x\n",
    "quad(f3, 0, 1)"
   ]
  },
  {
   "cell_type": "code",
   "execution_count": 13,
   "id": "ebf6cebd",
   "metadata": {},
   "outputs": [
    {
     "data": {
      "text/plain": [
       "1.2912859970626636"
      ]
     },
     "execution_count": 13,
     "metadata": {},
     "output_type": "execute_result"
    }
   ],
   "source": [
    "n, I, TOL = 0, 0, 1.e-16\n",
    "while True:\n",
    "    Iold = I\n",
    "    n += 1\n",
    "    I += n**-n\n",
    "    if I-Iold < TOL:\n",
    "        break\n",
    "\n",
    "I"
   ]
  },
  {
   "cell_type": "markdown",
   "id": "84c628ee",
   "metadata": {},
   "source": [
    "г) ![image16](images/image16.png)"
   ]
  },
  {
   "cell_type": "code",
   "execution_count": 24,
   "id": "ac6c6847",
   "metadata": {},
   "outputs": [
    {
     "ename": "ImportError",
     "evalue": "cannot import name 'factorial' from 'scipy.misc' (C:\\ProgramData\\Anaconda3\\lib\\site-packages\\scipy\\misc\\__init__.py)",
     "output_type": "error",
     "traceback": [
      "\u001b[1;31m---------------------------------------------------------------------------\u001b[0m",
      "\u001b[1;31mImportError\u001b[0m                               Traceback (most recent call last)",
      "\u001b[1;32m<ipython-input-24-0ed8738dd290>\u001b[0m in \u001b[0;36m<module>\u001b[1;34m\u001b[0m\n\u001b[1;32m----> 1\u001b[1;33m \u001b[1;32mfrom\u001b[0m \u001b[0mscipy\u001b[0m\u001b[1;33m.\u001b[0m\u001b[0mmisc\u001b[0m \u001b[1;32mimport\u001b[0m \u001b[0mfactorial\u001b[0m\u001b[1;33m\u001b[0m\u001b[1;33m\u001b[0m\u001b[0m\n\u001b[0m\u001b[0;32m      2\u001b[0m \u001b[0mf4\u001b[0m \u001b[1;33m=\u001b[0m \u001b[1;32mlambda\u001b[0m \u001b[0mx\u001b[0m\u001b[1;33m,\u001b[0m \u001b[0mp\u001b[0m\u001b[1;33m:\u001b[0m \u001b[0mnp\u001b[0m\u001b[1;33m.\u001b[0m\u001b[0mlog\u001b[0m\u001b[1;33m(\u001b[0m\u001b[1;36m1\u001b[0m\u001b[1;33m/\u001b[0m\u001b[0mx\u001b[0m\u001b[1;33m)\u001b[0m\u001b[1;33m**\u001b[0m\u001b[0mp\u001b[0m\u001b[1;33m\u001b[0m\u001b[1;33m\u001b[0m\u001b[0m\n\u001b[0;32m      3\u001b[0m \u001b[1;33m\u001b[0m\u001b[0m\n\u001b[0;32m      4\u001b[0m \u001b[1;32mfor\u001b[0m \u001b[0mp\u001b[0m \u001b[1;32min\u001b[0m \u001b[0mrange\u001b[0m\u001b[1;33m(\u001b[0m\u001b[1;36m10\u001b[0m\u001b[1;33m)\u001b[0m\u001b[1;33m:\u001b[0m\u001b[1;33m\u001b[0m\u001b[1;33m\u001b[0m\u001b[0m\n\u001b[0;32m      5\u001b[0m     \u001b[0mprint\u001b[0m\u001b[1;33m(\u001b[0m\u001b[0mquad\u001b[0m\u001b[1;33m(\u001b[0m\u001b[0mf4\u001b[0m\u001b[1;33m,\u001b[0m \u001b[1;36m0\u001b[0m\u001b[1;33m,\u001b[0m \u001b[1;36m1\u001b[0m\u001b[1;33m,\u001b[0m \u001b[0margs\u001b[0m\u001b[1;33m=\u001b[0m\u001b[1;33m(\u001b[0m\u001b[0mp\u001b[0m\u001b[1;33m,\u001b[0m\u001b[1;33m)\u001b[0m\u001b[1;33m)\u001b[0m\u001b[1;33m[\u001b[0m\u001b[1;36m0\u001b[0m\u001b[1;33m]\u001b[0m\u001b[1;33m,\u001b[0m \u001b[0mfactorial\u001b[0m\u001b[1;33m(\u001b[0m\u001b[0mp\u001b[0m\u001b[1;33m)\u001b[0m\u001b[1;33m)\u001b[0m\u001b[1;33m\u001b[0m\u001b[1;33m\u001b[0m\u001b[0m\n",
      "\u001b[1;31mImportError\u001b[0m: cannot import name 'factorial' from 'scipy.misc' (C:\\ProgramData\\Anaconda3\\lib\\site-packages\\scipy\\misc\\__init__.py)"
     ]
    }
   ],
   "source": [
    "from scipy.misc import factorial\n",
    "f4 = lambda x, p: np.log(1/x)**p\n",
    "\n",
    "for p in range(10):\n",
    "    print(quad(f4, 0, 1, args=(p,))[0], factorial(p))"
   ]
  },
  {
   "cell_type": "markdown",
   "id": "87fed860",
   "metadata": {},
   "source": [
    "д) ![image17](images/image17.png)"
   ]
  },
  {
   "cell_type": "code",
   "execution_count": 17,
   "id": "29da308f",
   "metadata": {},
   "outputs": [
    {
     "data": {
      "text/plain": [
       "3.4796610037801656e-12"
      ]
     },
     "execution_count": 17,
     "metadata": {},
     "output_type": "execute_result"
    }
   ],
   "source": [
    "from scipy.special import i0\n",
    "z = np.linspace(0, 2, 100)\n",
    "y1 = i0(z)\n",
    "f5 = lambda theta, z: np.exp(z*np.cos(theta))\n",
    "y2 = np.array([quad(f5, 0, 2*np.pi, args=(zz,))[0] for zz in z])\n",
    "y2 /= 2 * np.pi\n",
    "np.max(abs(y2-y1))"
   ]
  }
 ],
 "metadata": {
  "kernelspec": {
   "display_name": "Python 3",
   "language": "python",
   "name": "python3"
  },
  "language_info": {
   "codemirror_mode": {
    "name": "ipython",
    "version": 3
   },
   "file_extension": ".py",
   "mimetype": "text/x-python",
   "name": "python",
   "nbconvert_exporter": "python",
   "pygments_lexer": "ipython3",
   "version": "3.8.8"
  }
 },
 "nbformat": 4,
 "nbformat_minor": 5
}
