{
 "cells": [
  {
   "cell_type": "code",
   "execution_count": 69,
   "id": "b4dbc553",
   "metadata": {
    "scrolled": false
   },
   "outputs": [
    {
     "data": {
      "text/plain": [
       "array([(b'Annapurna I  ', 8091, b'3/6/1950  ', b'  3/2/1987  ', b'   28d35m46sN 83d49m13sE'),\n",
       "       (b'Broad Peak   ', 8051, b'9/6/1957  ', b'  5/3/2013  ', b'   35d48m39sN 76d34m06sE'),\n",
       "       (b'Cho Oyu      ', 8201, b'19/10/1954', b'  12/2/1985 ', b'   28d05m39sN 86d39m39sE'),\n",
       "       (b'Dhaulagiri I ', 8167, b'13/5/1960 ', b'  21/1/1985 ', b'   27d59m17sN 86d55m31sE'),\n",
       "       (b'Everest      ', 8848, b'29/5/1953 ', b'  17/2/1980 ', b'   27d59m17sN 86d55m31sE'),\n",
       "       (b'Gasherbrum I ', 8080, b'5/7/1958  ', b'  9/3/2012  ', b'   35d43m28sN 76d41m47sE'),\n",
       "       (b'Gasherbrum II', 8034, b'7/7/1956  ', b'  2/2/2011  ', b'   35d45m30sN 76d39m12sE'),\n",
       "       (b'K2           ', 8611, b'31/7/1954 ', b'  -         ', b'   35d52m57sN 76d30m48sE'),\n",
       "       (b'Kangchenjunga', 8568, b'25/5/1955 ', b'  11/1/1986 ', b'   27d42m09sN 88d08m54sE'),\n",
       "       (b'Lhotse       ', 8516, b'18/5/1956 ', b'  31/12/1988', b'   27d57m42sN 86d56m00sE'),\n",
       "       (b'Makalu       ', 8485, b'15/5/1955 ', b'  9/2/2009  ', b'   27d53m21sN 87d05m19sE'),\n",
       "       (b'Manaslu      ', 8163, b'9/5/1956  ', b'  12/1/1984 ', b'   28d33m0sN  84d33m35sE'),\n",
       "       (b'Nanga Parbat ', 8126, b'3/7/1953  ', b'  16/2/2016 ', b'   35d14m15sN 74d35m21sE'),\n",
       "       (b'Shishapangma ', 8027, b'2/5/1964  ', b'  14/1/2005 ', b'   28d21m8sN  85d46m47sE')],\n",
       "      dtype=[('name', 'S13'), ('height', '<u8'), ('date1', 'S13'), ('date2', 'S13'), ('coords', 'S24')])"
      ]
     },
     "execution_count": 69,
     "metadata": {},
     "output_type": "execute_result"
    }
   ],
   "source": [
    "import numpy as np\n",
    "\n",
    "data = np.genfromtxt(fname='ex6-2-b-mountain-data.txt', \n",
    "                     dtype=[('name', 'S13'), ('height', 'u8'), ('date1', 'S13'), ('date2', 'S13'), ('coords', 'S24')],\n",
    "                     skip_header=11,\n",
    "                     delimiter=[13, 9, 10, 12, 24],\n",
    "                     skip_footer=1)\n",
    "\n",
    "data"
   ]
  },
  {
   "cell_type": "code",
   "execution_count": 71,
   "id": "930de4e4",
   "metadata": {},
   "outputs": [
    {
     "name": "stdout",
     "output_type": "stream",
     "text": [
      "Minimum height = 8027\n"
     ]
    }
   ],
   "source": [
    "min_height = 9000\n",
    "\n",
    "for i in range(0,13 + 1):\n",
    "    if min_height > data[i][1]:\n",
    "        min_height = data[i][1]\n",
    "\n",
    "print('Minimum height = ' + str(min_height))"
   ]
  },
  {
   "cell_type": "code",
   "execution_count": 74,
   "id": "e876a653",
   "metadata": {},
   "outputs": [
    {
     "ename": "TypeError",
     "evalue": "an integer is required (got type numpy.bytes_)",
     "output_type": "error",
     "traceback": [
      "\u001b[1;31m---------------------------------------------------------------------------\u001b[0m",
      "\u001b[1;31mTypeError\u001b[0m                                 Traceback (most recent call last)",
      "\u001b[1;32m<ipython-input-74-ae5c572c4bbe>\u001b[0m in \u001b[0;36m<module>\u001b[1;34m\u001b[0m\n\u001b[0;32m      1\u001b[0m \u001b[1;32mimport\u001b[0m \u001b[0mdatetime\u001b[0m \u001b[1;32mas\u001b[0m \u001b[0mdt\u001b[0m\u001b[1;33m\u001b[0m\u001b[1;33m\u001b[0m\u001b[0m\n\u001b[0;32m      2\u001b[0m \u001b[1;33m\u001b[0m\u001b[0m\n\u001b[1;32m----> 3\u001b[1;33m \u001b[0mleast_ascend\u001b[0m \u001b[1;33m=\u001b[0m \u001b[0mdt\u001b[0m\u001b[1;33m.\u001b[0m\u001b[0mdate\u001b[0m\u001b[1;33m(\u001b[0m\u001b[0mdata\u001b[0m\u001b[1;33m[\u001b[0m\u001b[1;36m0\u001b[0m\u001b[1;33m]\u001b[0m\u001b[1;33m[\u001b[0m\u001b[1;36m2\u001b[0m\u001b[1;33m]\u001b[0m\u001b[1;33m)\u001b[0m\u001b[1;33m\u001b[0m\u001b[1;33m\u001b[0m\u001b[0m\n\u001b[0m\u001b[0;32m      4\u001b[0m \u001b[1;33m\u001b[0m\u001b[0m\n\u001b[0;32m      5\u001b[0m \u001b[1;32mfor\u001b[0m \u001b[0mi\u001b[0m \u001b[1;32min\u001b[0m \u001b[0mrange\u001b[0m\u001b[1;33m(\u001b[0m\u001b[1;36m0\u001b[0m\u001b[1;33m,\u001b[0m\u001b[1;36m13\u001b[0m \u001b[1;33m+\u001b[0m \u001b[1;36m1\u001b[0m\u001b[1;33m)\u001b[0m\u001b[1;33m:\u001b[0m\u001b[1;33m\u001b[0m\u001b[1;33m\u001b[0m\u001b[0m\n",
      "\u001b[1;31mTypeError\u001b[0m: an integer is required (got type numpy.bytes_)"
     ]
    }
   ],
   "source": [
    "import datetime as dt\n",
    "\n",
    "start_date = data[0][2]\n",
    "\n",
    "least_ascend = data[0][2]\n",
    "\n",
    "for i in range(0,13 + 1):\n",
    "    if least_ascend > data[i][2]:\n",
    "        least_ascend = data[i][2]\n",
    "\n",
    "print('Least ascend = ' + str(least_ascend))"
   ]
  }
 ],
 "metadata": {
  "kernelspec": {
   "display_name": "Python 3",
   "language": "python",
   "name": "python3"
  },
  "language_info": {
   "codemirror_mode": {
    "name": "ipython",
    "version": 3
   },
   "file_extension": ".py",
   "mimetype": "text/x-python",
   "name": "python",
   "nbconvert_exporter": "python",
   "pygments_lexer": "ipython3",
   "version": "3.8.8"
  }
 },
 "nbformat": 4,
 "nbformat_minor": 5
}
