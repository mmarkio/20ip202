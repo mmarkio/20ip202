{
 "cells": [
  {
   "cell_type": "code",
   "execution_count": 2,
   "id": "3c42af55",
   "metadata": {},
   "outputs": [
    {
     "name": "stdout",
     "output_type": "stream",
     "text": [
      "[[ 1.         -0.19909853]\n",
      " [-0.19909853  1.        ]]\n"
     ]
    }
   ],
   "source": [
    "#Практическая работа №6\n",
    "#Задание 0.\n",
    "import numpy as np\n",
    "import sys\n",
    "import pylab\n",
    "\n",
    "def parse_line(fi):\n",
    "    fi.readline()\n",
    "    fi.readline()\n",
    "    rollover = False\n",
    "    for line in fi:\n",
    "        fields = line.split()\n",
    "        nwinners = int(fields[6])\n",
    "        if nwinners == 0:\n",
    "            rollover = True\n",
    "            continue\n",
    "        if rollover:\n",
    "            rollover = False\n",
    "            continue\n",
    "        balls = np.array([int(v) for v in fields[:6]])\n",
    "        jackpot_share = float(fields[7])\n",
    "        nlow = sum(balls < 13)\n",
    "        yield nlow, jackpot_share\n",
    "        \n",
    "with open('lottery-draws.txt') as fi:\n",
    "    data = list(parse_line(fi))\n",
    "    \n",
    "data = np.array(data)\n",
    "\n",
    "print(np.corrcoef(data, rowvar=0))"
   ]
  },
  {
   "cell_type": "code",
   "execution_count": 3,
   "id": "e00429e9",
   "metadata": {},
   "outputs": [
    {
     "name": "stdout",
     "output_type": "stream",
     "text": [
      "[  0  20  40  60  80 100]\n",
      "[10. 30. 50. 70. 90.]\n"
     ]
    },
    {
     "data": {
      "text/plain": [
       "<BarContainer object of 5 artists>"
      ]
     },
     "execution_count": 3,
     "metadata": {},
     "output_type": "execute_result"
    },
    {
     "data": {
      "image/png": "[encoded data removed]",
      "text/plain": [
       "<Figure size 432x288 with 1 Axes>"
      ]
     },
     "metadata": {
      "needs_background": "light"
     },
     "output_type": "display_data"
    }
   ],
   "source": [
    "#Задание 1.\n",
    "marks = np.array([3, 5, 14, 22, 30, 44, 7])\n",
    "bins = [0, 20, 40, 60, 80, 100]\n",
    "hist, bins = np.histogram(marks, bins)\n",
    "\n",
    "print(bins)\n",
    "\n",
    "bin_centres = (bins[:-1] + bins[1:])/2\n",
    "print(bin_centres)\n",
    "\n",
    "import matplotlib.pyplot as plt\n",
    "\n",
    "plt.bar(bin_centres, hist, width=10, align='center')"
   ]
  },
  {
   "cell_type": "code",
   "execution_count": 4,
   "id": "9cfc8c86",
   "metadata": {},
   "outputs": [
    {
     "ename": "NameError",
     "evalue": "name 'all_heights' is not defined",
     "output_type": "error",
     "traceback": [
      "\u001b[1;31m---------------------------------------------------------------------------\u001b[0m",
      "\u001b[1;31mNameError\u001b[0m                                 Traceback (most recent call last)",
      "\u001b[1;32m<ipython-input-4-2ef1d68a53c1>\u001b[0m in \u001b[0;36m<module>\u001b[1;34m\u001b[0m\n\u001b[0;32m      7\u001b[0m \u001b[0mmav\u001b[0m\u001b[1;33m,\u001b[0m \u001b[0mmstd\u001b[0m \u001b[1;33m=\u001b[0m \u001b[0mheights\u001b[0m\u001b[1;33m[\u001b[0m\u001b[1;34m'male'\u001b[0m\u001b[1;33m]\u001b[0m\u001b[1;33m.\u001b[0m\u001b[0mmean\u001b[0m\u001b[1;33m(\u001b[0m\u001b[1;33m)\u001b[0m\u001b[1;33m,\u001b[0m \u001b[0mheights\u001b[0m\u001b[1;33m[\u001b[0m\u001b[1;34m'male'\u001b[0m\u001b[1;33m]\u001b[0m\u001b[1;33m.\u001b[0m\u001b[0mstd\u001b[0m\u001b[1;33m(\u001b[0m\u001b[1;33m)\u001b[0m\u001b[1;33m\u001b[0m\u001b[1;33m\u001b[0m\u001b[0m\n\u001b[0;32m      8\u001b[0m \u001b[0mall_heights_view\u001b[0m \u001b[1;33m=\u001b[0m \u001b[0mheights\u001b[0m\u001b[1;33m.\u001b[0m\u001b[0mview\u001b[0m\u001b[1;33m(\u001b[0m\u001b[1;33m(\u001b[0m\u001b[1;33m(\u001b[0m\u001b[1;34m'f8'\u001b[0m\u001b[1;33m,\u001b[0m \u001b[1;36m2\u001b[0m\u001b[1;33m)\u001b[0m\u001b[1;33m)\u001b[0m\u001b[1;33m)\u001b[0m\u001b[1;33m.\u001b[0m\u001b[0mflatten\u001b[0m\u001b[1;33m(\u001b[0m\u001b[1;33m)\u001b[0m\u001b[1;33m\u001b[0m\u001b[1;33m\u001b[0m\u001b[0m\n\u001b[1;32m----> 9\u001b[1;33m \u001b[0mall_heights\u001b[0m\u001b[1;33m.\u001b[0m\u001b[0mmin\u001b[0m\u001b[1;33m(\u001b[0m\u001b[1;33m)\u001b[0m\u001b[1;33m,\u001b[0m \u001b[0mall_heights\u001b[0m\u001b[1;33m.\u001b[0m\u001b[0mmax\u001b[0m\u001b[1;33m(\u001b[0m\u001b[1;33m)\u001b[0m\u001b[1;33m\u001b[0m\u001b[1;33m\u001b[0m\u001b[0m\n\u001b[0m",
      "\u001b[1;31mNameError\u001b[0m: name 'all_heights' is not defined"
     ]
    }
   ],
   "source": [
    "fsample = np.loadtxt('ex6-3-f-female-heights.txt').flatten()\n",
    "msample = np.loadtxt('ex6-3-f-male-heights.txt').flatten()\n",
    "heights = np.zeros((1000,), dtype={'names': ['female', 'male'], 'formats': ['f8', 'f8']})\n",
    "heights['female'] = np.loadtxt('ex6-3-f-female-heights.txt').flatten()\n",
    "heights['male'] = np.loadtxt('ex6-3-f-male-heights.txt').flatten()\n",
    "fav, fstd = heights['female'].mean(), heights['female'].std()\n",
    "mav, mstd = heights['male'].mean(), heights['male'].std()\n",
    "all_heights_view = heights.view((('f8', 2))).flatten()\n",
    "all_heights.min(), all_heights.max()"
   ]
  },
  {
   "cell_type": "code",
   "execution_count": null,
   "id": "ede837f4",
   "metadata": {},
   "outputs": [],
   "source": []
  }
 ],
 "metadata": {
  "kernelspec": {
   "display_name": "Python 3",
   "language": "python",
   "name": "python3"
  },
  "language_info": {
   "codemirror_mode": {
    "name": "ipython",
    "version": 3
   },
   "file_extension": ".py",
   "mimetype": "text/x-python",
   "name": "python",
   "nbconvert_exporter": "python",
   "pygments_lexer": "ipython3",
   "version": "3.8.8"
  }
 },
 "nbformat": 4,
 "nbformat_minor": 5
}
