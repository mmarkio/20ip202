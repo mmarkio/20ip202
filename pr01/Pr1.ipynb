{
 "cells": [
  {
   "cell_type": "code",
   "execution_count": 1,
   "id": "ffd63268",
   "metadata": {},
   "outputs": [
    {
     "name": "stdout",
     "output_type": "stream",
     "text": [
      "[0.0, 0.25, 1.0, 0.5, 0.75, 0.25]\n"
     ]
    }
   ],
   "source": [
    "list = [2, 4, 10, 6, 8, 4]\n",
    "minN = min(list)\n",
    "maxN = max(list)\n",
    "\n",
    "for i in range(len(list)):\n",
    "    list[i] = (list[i] - minN) / (maxN - minN)\n",
    "    \n",
    "print(list)"
   ]
  },
  {
   "cell_type": "code",
   "execution_count": 3,
   "id": "42249d64",
   "metadata": {},
   "outputs": [
    {
     "name": "stdout",
     "output_type": "stream",
     "text": [
      "3.9362355036495558\n"
     ]
    }
   ],
   "source": [
    "import math\n",
    "a = 3.\n",
    "b = 5.\n",
    "while a != b:\n",
    "    a, b = (a + b) / 2, math.sqrt(a * b)\n",
    "    \n",
    "print(a)"
   ]
  },
  {
   "cell_type": "code",
   "execution_count": 5,
   "id": "e1619b87",
   "metadata": {},
   "outputs": [
    {
     "name": "stdout",
     "output_type": "stream",
     "text": [
      "0.8346268416740731\n"
     ]
    }
   ],
   "source": [
    "import math\n",
    "a = 1.\n",
    "b = math.sqrt(2.)\n",
    "while a != b:\n",
    "    a, b = (a + b) / 2, math.sqrt(a * b)\n",
    "    \n",
    "print(1/a)"
   ]
  },
  {
   "cell_type": "code",
   "execution_count": 7,
   "id": "3fcf83f4",
   "metadata": {},
   "outputs": [
    {
     "name": "stdout",
     "output_type": "stream",
     "text": [
      "0 : FizzBuzz\n",
      "3 : Fizz\n",
      "5 : Buzz\n",
      "6 : Fizz\n",
      "9 : Fizz\n",
      "10 : Buzz\n",
      "12 : Fizz\n",
      "15 : FizzBuzz\n",
      "18 : Fizz\n",
      "20 : Buzz\n",
      "21 : Fizz\n",
      "24 : Fizz\n",
      "25 : Buzz\n",
      "27 : Fizz\n",
      "30 : FizzBuzz\n",
      "33 : Fizz\n",
      "35 : Buzz\n",
      "36 : Fizz\n",
      "39 : Fizz\n",
      "40 : Buzz\n",
      "42 : Fizz\n",
      "45 : FizzBuzz\n",
      "48 : Fizz\n",
      "50 : Buzz\n",
      "51 : Fizz\n",
      "54 : Fizz\n",
      "55 : Buzz\n",
      "57 : Fizz\n",
      "60 : FizzBuzz\n",
      "63 : Fizz\n",
      "65 : Buzz\n",
      "66 : Fizz\n",
      "69 : Fizz\n",
      "70 : Buzz\n",
      "72 : Fizz\n",
      "75 : FizzBuzz\n",
      "78 : Fizz\n",
      "80 : Buzz\n",
      "81 : Fizz\n",
      "84 : Fizz\n",
      "85 : Buzz\n",
      "87 : Fizz\n",
      "90 : FizzBuzz\n",
      "93 : Fizz\n",
      "95 : Buzz\n",
      "96 : Fizz\n",
      "99 : Fizz\n"
     ]
    }
   ],
   "source": [
    "for i in range(100):\n",
    "    if i % 3 == 0 and i % 5 == 0:\n",
    "        print(i, ': FizzBuzz')\n",
    "    elif i % 5 == 0:\n",
    "        print(i, ': Buzz')\n",
    "    elif i % 3 == 0:\n",
    "        print(i, ': Fizz')"
   ]
  },
  {
   "cell_type": "code",
   "execution_count": 10,
   "id": "bb0db01e",
   "metadata": {},
   "outputs": [
    {
     "name": "stdout",
     "output_type": "stream",
     "text": [
      "1\n",
      "CH2-CH2-CH3\n"
     ]
    }
   ],
   "source": [
    "a = int(input())\n",
    "\n",
    "if a == 1:\n",
    "    str = 'CH2-CH2'\n",
    "else:\n",
    "    str = 'H3C'\n",
    "    a -= 1\n",
    "while a != 0:\n",
    "    if a - 1 != 0:\n",
    "        str += '-CH2'\n",
    "    else:\n",
    "        str += '-CH3'\n",
    "    a -= 1\n",
    "    \n",
    "print(str)"
   ]
  },
  {
   "cell_type": "code",
   "execution_count": null,
   "id": "fda25389",
   "metadata": {},
   "outputs": [],
   "source": []
  }
 ],
 "metadata": {
  "kernelspec": {
   "display_name": "Python 3",
   "language": "python",
   "name": "python3"
  },
  "language_info": {
   "codemirror_mode": {
    "name": "ipython",
    "version": 3
   },
   "file_extension": ".py",
   "mimetype": "text/x-python",
   "name": "python",
   "nbconvert_exporter": "python",
   "pygments_lexer": "ipython3",
   "version": "3.8.8"
  }
 },
 "nbformat": 4,
 "nbformat_minor": 5
}
