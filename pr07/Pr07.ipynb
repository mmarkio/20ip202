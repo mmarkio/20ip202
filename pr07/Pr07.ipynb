{
 "cells": [
  {
   "cell_type": "code",
   "execution_count": 1,
   "id": "c5e00946",
   "metadata": {},
   "outputs": [
    {
     "name": "stdout",
     "output_type": "stream",
     "text": [
      "True\n",
      "True\n",
      "True\n"
     ]
    }
   ],
   "source": [
    "#Праактическая работа 7\n",
    "#З0\n",
    "import numpy as np\n",
    "\n",
    "pauli = np.array((\n",
    "                    ((0, 1), (1, 0)),\n",
    "                    ((0, -1j), (1j, 0)),\n",
    "                    ((1,0), (0, -1))\n",
    "                ))\n",
    "\n",
    "i2 = np.eye(2)\n",
    "\n",
    "for sigma in pauli:\n",
    "    print(np.allclose(sigma.T.conj().dot(sigma), i2))\n"
   ]
  },
  {
   "cell_type": "code",
   "execution_count": 2,
   "id": "7b5ef713",
   "metadata": {},
   "outputs": [
    {
     "name": "stderr",
     "output_type": "stream",
     "text": [
      "<ipython-input-2-8c1b6a86b194>:15: FutureWarning: `rcond` parameter will change to the default of machine precision times ``max(M, N)`` where M and N are the input matrix dimensions.\n",
      "To use the future default and silence this warning we advise to pass `rcond=None`, to keep using the old, explicitly pass `rcond=-1`.\n",
      "  coefs, resid, _, _ = np.linalg.lstsq(A, x)\n"
     ]
    },
    {
     "name": "stdout",
     "output_type": "stream",
     "text": [
      "x0 = 1.28 cm, v0 = -0.04 cm.s-1, g = 9.47 m.s-2\n"
     ]
    },
    {
     "data": {
      "image/png": "[encoded data removed]",
      "text/plain": [
       "<Figure size 432x288 with 1 Axes>"
      ]
     },
     "metadata": {
      "needs_background": "light"
     },
     "output_type": "display_data"
    }
   ],
   "source": [
    "#З1\n",
    "import numpy as np\n",
    "import pylab\n",
    "\n",
    "Polynomial = np.polynomial.Polynomial\n",
    "\n",
    "x = [1.3, 6.0, 20.2, 43.9, 77.0, 119.6, 171.7, 233.2, 304.2, 384.7,\n",
    " 474.7, 574.1, 683.0, 801.3, 929.2, 1066.4, 1213.2, 1369.4, 1535.1,\n",
    " 1710.3, 1894.9]\n",
    "\n",
    "dt, n = 0.1, len(x)\n",
    "tmax = dt * (n - 1)\n",
    "t = np.linspace(0, tmax, n)\n",
    "\n",
    "A = np.vstack((np.ones(n), t, t**2)).T\n",
    "coefs, resid, _, _ = np.linalg.lstsq(A, x)\n",
    "\n",
    "x0, v0, g = coefs[0], coefs[1], coefs[2] * 2 / 100\n",
    "\n",
    "print('x0 = {:.2f} cm, v0 = {:.2f} cm.s-1, g = {:.2f} m.s-2'.format(x0, v0, g))\n",
    "\n",
    "xfit = Polynomial(coefs)(t)\n",
    "pylab.plot(t, x, 'ko')\n",
    "pylab.plot(t, xfit, 'r')\n",
    "pylab.xlabel('Time (sec)')\n",
    "pylab.xlabel('Distance (cm)')\n",
    "pylab.show()"
   ]
  },
  {
   "cell_type": "code",
   "execution_count": null,
   "id": "6a198c8b",
   "metadata": {},
   "outputs": [],
   "source": []
  }
 ],
 "metadata": {
  "kernelspec": {
   "display_name": "Python 3",
   "language": "python",
   "name": "python3"
  },
  "language_info": {
   "codemirror_mode": {
    "name": "ipython",
    "version": 3
   },
   "file_extension": ".py",
   "mimetype": "text/x-python",
   "name": "python",
   "nbconvert_exporter": "python",
   "pygments_lexer": "ipython3",
   "version": "3.8.8"
  }
 },
 "nbformat": 4,
 "nbformat_minor": 5
}
